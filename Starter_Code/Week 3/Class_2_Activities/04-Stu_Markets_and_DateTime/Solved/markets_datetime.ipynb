{
 "cells": [
  {
   "cell_type": "markdown",
   "metadata": {},
   "source": [
    "# Markets and DateTime\n",
    "\n",
    "In this activity, you will be converting the date column from an object into a DateTime Index.\n",
    "\n",
    "## Instructions\n",
    "\n",
    "1. Using the Pandas `read_csv` function and the Path module, read in the [\"market_data.csv\"](../Resources/market_data.csv) file and examine the DataFrame. Review the first five rows of the Dataframe, then utilize the `info()` function to determine the columns and their respective data-types.\n",
    "\n",
    "2. Reimport the \"market_data.csv\" file using the Pandas read_csv function, but this time set the `index_col` to \"Timestamp\", and set the `parse_dates` and `infer_datetime_format` parameters. Display the first five rows of the Dataframe. Utilize the `info()` function to determine the columns and their respective data-types.\n",
    "\n",
    "3. Using the `.plot` function, plot the pricing information for the ticker of your choosing from the DataFrame. This will display the data for the full week's worth of information for the chosen stock.\n",
    "\n",
    "You will notice that the data is very choppy. This is because the data contains information for times when the markets were not open and the stock or index was not trading.\n",
    "\n",
    "4. Using the same stock from step 3, choose the day with the biggest pricing change and plot just that single day. You will need to utilize the `loc[]` function and reference your chosen date in the format displayed in the TimeStamp index. You will not reference the time in this step.\n",
    "\n",
    "5. For your chosen stock, plot the active trading period. To do this, utilize the `loc[]` function, reference the date used in step 6 and add the time component. The trading day for these stocks will be from approximately 09:30 to 16:00.\n",
    "\n",
    "In the following steps you are going to calculate the percent change in the stock/index for your chosen day of the week.\n",
    "\n",
    "6. Create a Pandas DataFrame that includes data for your chosen stocks trading day. To create the DataFrame, use the code from the previous step and remove the `plot()` function. This should display the exact times that the stock/index started and finished trading. Confirm the creation of your DataFrame by displaying the first and last five rows.\n",
    "\n",
    "7. Create a variable called `day_open` that holds the opening price for your stock or index. Set this variable equal to the opening price using the `loc[]` function and referene the date and exact time that trading began. View the value of this variable.\n",
    "\n",
    "8. Create a variable called `day_close` that holds the closing price for your stock or index. Set this variable equal to the closing price using the `loc[]` function and reference the date and exact time that trading ended. View the value of this variable.\n",
    "\n",
    "9.  Calculate and display the percent change (day_percent_change) variable using the formula: (day_close- day_open) / day_open\n",
    "\n",
    "In the following steps you are going to calculate the percent change in the stock/index for the week.\n",
    "\n",
    "10. Create a Pandas DataFrame that includes the weeks worth of trading data for your chosen stock. Use the `loc` function and specify the time from 09:30:00 on 2020-02-24 through 16:00:00 on 202-02-28. Confirm the creation of your DataFrame by displaying the first and last five rows of the DataFrame.\n",
    "\n",
    "11. Create a variable `week_open` that holds the week's opening price for your stock or index. Set this variable equal to the opening price using the `loc[]` function and reference the date and exact time that trading began on the first day of the week. Display this variable.\n",
    "\n",
    "12. Create a variable `week_close` that holds the week's closing price for your stock or index. Set this variable equal to the closing price using the `loc[]` function and referene the date and exact time that trading closed on the last day of the week. Display this variable.\n",
    "\n",
    "13.  Calculate and display the percent change (week_percent_change) variable using the formula: (week_close - week_open) / week_open."
   ]
  },
  {
   "cell_type": "code",
   "execution_count": 1,
   "metadata": {},
   "outputs": [],
   "source": [
    "# Import required libraries\n",
    "\n",
    "import pandas as pd\n",
    "from pathlib import Path\n"
   ]
  },
  {
   "cell_type": "markdown",
   "metadata": {},
   "source": [
    "## Using the Pandas `read_csv` function and the Path module, read in the \"market_data.csv\" file and examine the DataFrame. Display the first five rows of the Dataframe. Utilize the `info()` function to determine the columns and their respective data-types."
   ]
  },
  {
   "cell_type": "code",
   "execution_count": 2,
   "metadata": {},
   "outputs": [
    {
     "data": {
      "text/html": [
       "<div>\n",
       "<style scoped>\n",
       "    .dataframe tbody tr th:only-of-type {\n",
       "        vertical-align: middle;\n",
       "    }\n",
       "\n",
       "    .dataframe tbody tr th {\n",
       "        vertical-align: top;\n",
       "    }\n",
       "\n",
       "    .dataframe thead th {\n",
       "        text-align: right;\n",
       "    }\n",
       "</style>\n",
       "<table border=\"1\" class=\"dataframe\">\n",
       "  <thead>\n",
       "    <tr style=\"text-align: right;\">\n",
       "      <th></th>\n",
       "      <th>TimeStamp</th>\n",
       "      <th>SPY</th>\n",
       "      <th>QQQ</th>\n",
       "      <th>IWM</th>\n",
       "      <th>AAPL</th>\n",
       "      <th>MSFT</th>\n",
       "      <th>NVDA</th>\n",
       "      <th>XLK</th>\n",
       "      <th>XLF</th>\n",
       "      <th>XLP</th>\n",
       "      <th>XLY</th>\n",
       "      <th>XTN</th>\n",
       "      <th>HYG</th>\n",
       "      <th>TLT</th>\n",
       "    </tr>\n",
       "  </thead>\n",
       "  <tbody>\n",
       "    <tr>\n",
       "      <th>0</th>\n",
       "      <td>2020-02-23 17:59:02.000</td>\n",
       "      <td>333.48</td>\n",
       "      <td>230.27</td>\n",
       "      <td>167.1</td>\n",
       "      <td>313.05</td>\n",
       "      <td>178.59</td>\n",
       "      <td>294.07</td>\n",
       "      <td>99.44</td>\n",
       "      <td>30.77</td>\n",
       "      <td>64.65</td>\n",
       "      <td>130.3</td>\n",
       "      <td>66.5047</td>\n",
       "      <td>88.33</td>\n",
       "      <td>148.04</td>\n",
       "    </tr>\n",
       "    <tr>\n",
       "      <th>1</th>\n",
       "      <td>2020-02-23 17:59:05.000</td>\n",
       "      <td>333.48</td>\n",
       "      <td>230.27</td>\n",
       "      <td>167.1</td>\n",
       "      <td>313.05</td>\n",
       "      <td>178.59</td>\n",
       "      <td>294.07</td>\n",
       "      <td>99.44</td>\n",
       "      <td>30.77</td>\n",
       "      <td>64.65</td>\n",
       "      <td>130.3</td>\n",
       "      <td>66.5047</td>\n",
       "      <td>88.33</td>\n",
       "      <td>148.04</td>\n",
       "    </tr>\n",
       "    <tr>\n",
       "      <th>2</th>\n",
       "      <td>2020-02-23 17:59:08.000</td>\n",
       "      <td>333.48</td>\n",
       "      <td>230.27</td>\n",
       "      <td>167.1</td>\n",
       "      <td>313.05</td>\n",
       "      <td>178.59</td>\n",
       "      <td>294.07</td>\n",
       "      <td>99.44</td>\n",
       "      <td>30.77</td>\n",
       "      <td>64.65</td>\n",
       "      <td>130.3</td>\n",
       "      <td>66.5047</td>\n",
       "      <td>88.33</td>\n",
       "      <td>148.04</td>\n",
       "    </tr>\n",
       "    <tr>\n",
       "      <th>3</th>\n",
       "      <td>2020-02-23 17:59:11.000</td>\n",
       "      <td>333.48</td>\n",
       "      <td>230.27</td>\n",
       "      <td>167.1</td>\n",
       "      <td>313.05</td>\n",
       "      <td>178.59</td>\n",
       "      <td>294.07</td>\n",
       "      <td>99.44</td>\n",
       "      <td>30.77</td>\n",
       "      <td>64.65</td>\n",
       "      <td>130.3</td>\n",
       "      <td>66.5047</td>\n",
       "      <td>88.33</td>\n",
       "      <td>148.04</td>\n",
       "    </tr>\n",
       "    <tr>\n",
       "      <th>4</th>\n",
       "      <td>2020-02-23 17:59:14.000</td>\n",
       "      <td>333.48</td>\n",
       "      <td>230.27</td>\n",
       "      <td>167.1</td>\n",
       "      <td>313.05</td>\n",
       "      <td>178.59</td>\n",
       "      <td>294.07</td>\n",
       "      <td>99.44</td>\n",
       "      <td>30.77</td>\n",
       "      <td>64.65</td>\n",
       "      <td>130.3</td>\n",
       "      <td>66.5047</td>\n",
       "      <td>88.33</td>\n",
       "      <td>148.04</td>\n",
       "    </tr>\n",
       "  </tbody>\n",
       "</table>\n",
       "</div>"
      ],
      "text/plain": [
       "                 TimeStamp     SPY     QQQ    IWM    AAPL    MSFT    NVDA  \\\n",
       "0  2020-02-23 17:59:02.000  333.48  230.27  167.1  313.05  178.59  294.07   \n",
       "1  2020-02-23 17:59:05.000  333.48  230.27  167.1  313.05  178.59  294.07   \n",
       "2  2020-02-23 17:59:08.000  333.48  230.27  167.1  313.05  178.59  294.07   \n",
       "3  2020-02-23 17:59:11.000  333.48  230.27  167.1  313.05  178.59  294.07   \n",
       "4  2020-02-23 17:59:14.000  333.48  230.27  167.1  313.05  178.59  294.07   \n",
       "\n",
       "     XLK    XLF    XLP    XLY      XTN    HYG     TLT  \n",
       "0  99.44  30.77  64.65  130.3  66.5047  88.33  148.04  \n",
       "1  99.44  30.77  64.65  130.3  66.5047  88.33  148.04  \n",
       "2  99.44  30.77  64.65  130.3  66.5047  88.33  148.04  \n",
       "3  99.44  30.77  64.65  130.3  66.5047  88.33  148.04  \n",
       "4  99.44  30.77  64.65  130.3  66.5047  88.33  148.04  "
      ]
     },
     "metadata": {},
     "output_type": "display_data"
    },
    {
     "name": "stdout",
     "output_type": "stream",
     "text": [
      "<class 'pandas.core.frame.DataFrame'>\n",
      "RangeIndex: 128367 entries, 0 to 128366\n",
      "Data columns (total 14 columns):\n",
      " #   Column     Non-Null Count   Dtype  \n",
      "---  ------     --------------   -----  \n",
      " 0   TimeStamp  128367 non-null  object \n",
      " 1   SPY        128367 non-null  float64\n",
      " 2   QQQ        128367 non-null  float64\n",
      " 3   IWM        128367 non-null  float64\n",
      " 4   AAPL       128367 non-null  float64\n",
      " 5   MSFT       128367 non-null  float64\n",
      " 6   NVDA       128367 non-null  float64\n",
      " 7   XLK        128367 non-null  float64\n",
      " 8   XLF        128367 non-null  float64\n",
      " 9   XLP        128367 non-null  float64\n",
      " 10  XLY        128367 non-null  float64\n",
      " 11  XTN        128367 non-null  float64\n",
      " 12  HYG        128367 non-null  float64\n",
      " 13  TLT        128367 non-null  float64\n",
      "dtypes: float64(13), object(1)\n",
      "memory usage: 13.7+ MB\n"
     ]
    }
   ],
   "source": [
    "# Using the Pandas `read_csv` function and the Path module, read in the \"Market_Data.csv\" file and examine the DataFrame. \n",
    "market_data_df = pd.read_csv(Path('../Resources/market_data.csv'))\n",
    "\n",
    "# Display the first five rows of the Dataframe\n",
    "display(market_data_df.head())\n",
    "\n",
    "# Utilize the `info()` function to determine the columns and their respective data-types\n",
    "market_data_df.info()\n",
    "\n"
   ]
  },
  {
   "cell_type": "markdown",
   "metadata": {},
   "source": [
    "## Reimport the \"market_data.csv\" file using the Pandas read_csv function, but this time set the `index_col` to \"Timestamp\", and set the `parse_dates` and `infer_datetime_format` parameters. Display the first five rows of the Dataframe. Utilize the `info()` function to determine the columns and their respective data-types."
   ]
  },
  {
   "cell_type": "code",
   "execution_count": 3,
   "metadata": {},
   "outputs": [
    {
     "data": {
      "text/html": [
       "<div>\n",
       "<style scoped>\n",
       "    .dataframe tbody tr th:only-of-type {\n",
       "        vertical-align: middle;\n",
       "    }\n",
       "\n",
       "    .dataframe tbody tr th {\n",
       "        vertical-align: top;\n",
       "    }\n",
       "\n",
       "    .dataframe thead th {\n",
       "        text-align: right;\n",
       "    }\n",
       "</style>\n",
       "<table border=\"1\" class=\"dataframe\">\n",
       "  <thead>\n",
       "    <tr style=\"text-align: right;\">\n",
       "      <th></th>\n",
       "      <th>SPY</th>\n",
       "      <th>QQQ</th>\n",
       "      <th>IWM</th>\n",
       "      <th>AAPL</th>\n",
       "      <th>MSFT</th>\n",
       "      <th>NVDA</th>\n",
       "      <th>XLK</th>\n",
       "      <th>XLF</th>\n",
       "      <th>XLP</th>\n",
       "      <th>XLY</th>\n",
       "      <th>XTN</th>\n",
       "      <th>HYG</th>\n",
       "      <th>TLT</th>\n",
       "    </tr>\n",
       "    <tr>\n",
       "      <th>TimeStamp</th>\n",
       "      <th></th>\n",
       "      <th></th>\n",
       "      <th></th>\n",
       "      <th></th>\n",
       "      <th></th>\n",
       "      <th></th>\n",
       "      <th></th>\n",
       "      <th></th>\n",
       "      <th></th>\n",
       "      <th></th>\n",
       "      <th></th>\n",
       "      <th></th>\n",
       "      <th></th>\n",
       "    </tr>\n",
       "  </thead>\n",
       "  <tbody>\n",
       "    <tr>\n",
       "      <th>2020-02-23 17:59:02</th>\n",
       "      <td>333.48</td>\n",
       "      <td>230.27</td>\n",
       "      <td>167.1</td>\n",
       "      <td>313.05</td>\n",
       "      <td>178.59</td>\n",
       "      <td>294.07</td>\n",
       "      <td>99.44</td>\n",
       "      <td>30.77</td>\n",
       "      <td>64.65</td>\n",
       "      <td>130.3</td>\n",
       "      <td>66.5047</td>\n",
       "      <td>88.33</td>\n",
       "      <td>148.04</td>\n",
       "    </tr>\n",
       "    <tr>\n",
       "      <th>2020-02-23 17:59:05</th>\n",
       "      <td>333.48</td>\n",
       "      <td>230.27</td>\n",
       "      <td>167.1</td>\n",
       "      <td>313.05</td>\n",
       "      <td>178.59</td>\n",
       "      <td>294.07</td>\n",
       "      <td>99.44</td>\n",
       "      <td>30.77</td>\n",
       "      <td>64.65</td>\n",
       "      <td>130.3</td>\n",
       "      <td>66.5047</td>\n",
       "      <td>88.33</td>\n",
       "      <td>148.04</td>\n",
       "    </tr>\n",
       "    <tr>\n",
       "      <th>2020-02-23 17:59:08</th>\n",
       "      <td>333.48</td>\n",
       "      <td>230.27</td>\n",
       "      <td>167.1</td>\n",
       "      <td>313.05</td>\n",
       "      <td>178.59</td>\n",
       "      <td>294.07</td>\n",
       "      <td>99.44</td>\n",
       "      <td>30.77</td>\n",
       "      <td>64.65</td>\n",
       "      <td>130.3</td>\n",
       "      <td>66.5047</td>\n",
       "      <td>88.33</td>\n",
       "      <td>148.04</td>\n",
       "    </tr>\n",
       "    <tr>\n",
       "      <th>2020-02-23 17:59:11</th>\n",
       "      <td>333.48</td>\n",
       "      <td>230.27</td>\n",
       "      <td>167.1</td>\n",
       "      <td>313.05</td>\n",
       "      <td>178.59</td>\n",
       "      <td>294.07</td>\n",
       "      <td>99.44</td>\n",
       "      <td>30.77</td>\n",
       "      <td>64.65</td>\n",
       "      <td>130.3</td>\n",
       "      <td>66.5047</td>\n",
       "      <td>88.33</td>\n",
       "      <td>148.04</td>\n",
       "    </tr>\n",
       "    <tr>\n",
       "      <th>2020-02-23 17:59:14</th>\n",
       "      <td>333.48</td>\n",
       "      <td>230.27</td>\n",
       "      <td>167.1</td>\n",
       "      <td>313.05</td>\n",
       "      <td>178.59</td>\n",
       "      <td>294.07</td>\n",
       "      <td>99.44</td>\n",
       "      <td>30.77</td>\n",
       "      <td>64.65</td>\n",
       "      <td>130.3</td>\n",
       "      <td>66.5047</td>\n",
       "      <td>88.33</td>\n",
       "      <td>148.04</td>\n",
       "    </tr>\n",
       "  </tbody>\n",
       "</table>\n",
       "</div>"
      ],
      "text/plain": [
       "                        SPY     QQQ    IWM    AAPL    MSFT    NVDA    XLK  \\\n",
       "TimeStamp                                                                   \n",
       "2020-02-23 17:59:02  333.48  230.27  167.1  313.05  178.59  294.07  99.44   \n",
       "2020-02-23 17:59:05  333.48  230.27  167.1  313.05  178.59  294.07  99.44   \n",
       "2020-02-23 17:59:08  333.48  230.27  167.1  313.05  178.59  294.07  99.44   \n",
       "2020-02-23 17:59:11  333.48  230.27  167.1  313.05  178.59  294.07  99.44   \n",
       "2020-02-23 17:59:14  333.48  230.27  167.1  313.05  178.59  294.07  99.44   \n",
       "\n",
       "                       XLF    XLP    XLY      XTN    HYG     TLT  \n",
       "TimeStamp                                                         \n",
       "2020-02-23 17:59:02  30.77  64.65  130.3  66.5047  88.33  148.04  \n",
       "2020-02-23 17:59:05  30.77  64.65  130.3  66.5047  88.33  148.04  \n",
       "2020-02-23 17:59:08  30.77  64.65  130.3  66.5047  88.33  148.04  \n",
       "2020-02-23 17:59:11  30.77  64.65  130.3  66.5047  88.33  148.04  \n",
       "2020-02-23 17:59:14  30.77  64.65  130.3  66.5047  88.33  148.04  "
      ]
     },
     "metadata": {},
     "output_type": "display_data"
    },
    {
     "name": "stdout",
     "output_type": "stream",
     "text": [
      "<class 'pandas.core.frame.DataFrame'>\n",
      "DatetimeIndex: 128367 entries, 2020-02-23 17:59:02 to 2020-02-28 17:40:57\n",
      "Data columns (total 13 columns):\n",
      " #   Column  Non-Null Count   Dtype  \n",
      "---  ------  --------------   -----  \n",
      " 0   SPY     128367 non-null  float64\n",
      " 1   QQQ     128367 non-null  float64\n",
      " 2   IWM     128367 non-null  float64\n",
      " 3   AAPL    128367 non-null  float64\n",
      " 4   MSFT    128367 non-null  float64\n",
      " 5   NVDA    128367 non-null  float64\n",
      " 6   XLK     128367 non-null  float64\n",
      " 7   XLF     128367 non-null  float64\n",
      " 8   XLP     128367 non-null  float64\n",
      " 9   XLY     128367 non-null  float64\n",
      " 10  XTN     128367 non-null  float64\n",
      " 11  HYG     128367 non-null  float64\n",
      " 12  TLT     128367 non-null  float64\n",
      "dtypes: float64(13)\n",
      "memory usage: 13.7 MB\n"
     ]
    }
   ],
   "source": [
    "# Using the Pandas `read_csv` function and the Path module, read in the \"Market_Data.csv\" file and examine the DataFrame. \n",
    "market_data_df = pd.read_csv(\n",
    "    Path('../Resources/market_data.csv'), \n",
    "    index_col = \"TimeStamp\", \n",
    "    parse_dates = True, \n",
    "    infer_datetime_format = True\n",
    ")\n",
    "\n",
    "# Display the first five rows of the Dataframe\n",
    "display(market_data_df.head())\n",
    "\n",
    "# Utilize the `info()` function to determine the columns and their respective data-types\n",
    "market_data_df.info()\n",
    "\n"
   ]
  },
  {
   "cell_type": "markdown",
   "metadata": {},
   "source": [
    "### Plot the pricing information for your choosen stock or index"
   ]
  },
  {
   "cell_type": "code",
   "execution_count": 4,
   "metadata": {},
   "outputs": [
    {
     "data": {
      "text/plain": [
       "<AxesSubplot:xlabel='TimeStamp'>"
      ]
     },
     "execution_count": 4,
     "metadata": {},
     "output_type": "execute_result"
    },
    {
     "data": {
      "image/png": "[encoded data removed]",
      "text/plain": [
       "<Figure size 432x288 with 1 Axes>"
      ]
     },
     "metadata": {
      "needs_background": "light"
     },
     "output_type": "display_data"
    }
   ],
   "source": [
    "# Choose a stock or index and plot the data for the week's pricing information\n",
    "market_data_df['NVDA'].plot(rot=45)\n"
   ]
  },
  {
   "cell_type": "markdown",
   "metadata": {},
   "source": [
    "## Using the same stock from step 3, choose the day with the biggest pricing change and plot just that single day. You will need to utilize the `loc[]` function and reference your chosen date in the format displayed in the TimeStamp index. You will not reference the time in this step.\n"
   ]
  },
  {
   "cell_type": "code",
   "execution_count": 5,
   "metadata": {},
   "outputs": [
    {
     "data": {
      "text/plain": [
       "<AxesSubplot:xlabel='TimeStamp'>"
      ]
     },
     "execution_count": 5,
     "metadata": {},
     "output_type": "execute_result"
    },
    {
     "data": {
      "image/png": "[encoded data removed]",
      "text/plain": [
       "<Figure size 432x288 with 1 Axes>"
      ]
     },
     "metadata": {
      "needs_background": "light"
     },
     "output_type": "display_data"
    }
   ],
   "source": [
    "# Using loc[], plot the stock or index for the day with the biggest pricing change\n",
    "market_data_df['NVDA'].loc['2020-02-27'].plot(rot=45)\n"
   ]
  },
  {
   "cell_type": "markdown",
   "metadata": {},
   "source": [
    "## For your chosen stock, plot the active trading period. To do this, utilize the `loc[]` function, reference the date used in step 6 and add the time component. The trading day for these stocks will be from approximately 09:30 to 16:00."
   ]
  },
  {
   "cell_type": "code",
   "execution_count": 6,
   "metadata": {},
   "outputs": [
    {
     "data": {
      "text/plain": [
       "<AxesSubplot:xlabel='TimeStamp'>"
      ]
     },
     "execution_count": 6,
     "metadata": {},
     "output_type": "execute_result"
    },
    {
     "data": {
      "image/png": "[encoded data removed]",
      "text/plain": [
       "<Figure size 432x288 with 1 Axes>"
      ]
     },
     "metadata": {
      "needs_background": "light"
     },
     "output_type": "display_data"
    }
   ],
   "source": [
    "# Using loc[], plot your stock or index for the active trading hours of your chosen day (ie: time 09:30 and 16:00)\n",
    "market_data_df['NVDA'].loc['2020-02-27 09:30:00': '2020-02-27 16:00:00' ].plot(rot=45)\n"
   ]
  },
  {
   "cell_type": "markdown",
   "metadata": {},
   "source": [
    "## In the following steps you are going to calculate the percent change in the stock/index for your chosen day of the week."
   ]
  },
  {
   "cell_type": "markdown",
   "metadata": {},
   "source": [
    "## Create a Pandas DataFrame that includes data for your chosen stocks trading day. To create the DataFrame, use the code from the previous step and remove the `plot()` function. The should display the exact times that the stock/index started and finished trading. Confirm the creation of your DataFrame by displaying the first and last five rows."
   ]
  },
  {
   "cell_type": "code",
   "execution_count": 7,
   "metadata": {},
   "outputs": [
    {
     "data": {
      "text/plain": [
       "TimeStamp\n",
       "2020-02-27 09:30:00    267.65\n",
       "2020-02-27 09:30:03    254.84\n",
       "2020-02-27 09:30:06    254.90\n",
       "2020-02-27 09:30:09    254.78\n",
       "2020-02-27 09:30:12    254.06\n",
       "Name: NVDA, dtype: float64"
      ]
     },
     "metadata": {},
     "output_type": "display_data"
    },
    {
     "data": {
      "text/plain": [
       "TimeStamp\n",
       "2020-02-27 15:59:46    253.61\n",
       "2020-02-27 15:59:49    253.69\n",
       "2020-02-27 15:59:52    253.50\n",
       "2020-02-27 15:59:55    253.59\n",
       "2020-02-27 15:59:58    253.65\n",
       "Name: NVDA, dtype: float64"
      ]
     },
     "metadata": {},
     "output_type": "display_data"
    }
   ],
   "source": [
    "# View the DataFrame for your chosen day to determine the exact opening and closing times.\n",
    "day_stock_df = market_data_df['NVDA'].loc['2020-02-27 09:30:00': '2020-02-27 16:00:00' ]\n",
    "\n",
    "# Display the first and last five rows of the resulting DataFrame\n",
    "display(day_stock_df.head())\n",
    "display(day_stock_df.tail())\n"
   ]
  },
  {
   "cell_type": "markdown",
   "metadata": {},
   "source": [
    "## Create a variable called `day_open` that holds the opening price for your stock or index. Set this variable equal to the opening price using the `loc[]` function and reference the date and exact time that trading began. View the value of this variable."
   ]
  },
  {
   "cell_type": "code",
   "execution_count": 8,
   "metadata": {},
   "outputs": [
    {
     "data": {
      "text/plain": [
       "267.65"
      ]
     },
     "execution_count": 8,
     "metadata": {},
     "output_type": "execute_result"
    }
   ],
   "source": [
    "# Crate a variable day_open to hold the opening price (approximately 09:30:00) for the week\n",
    "day_open = day_stock_df.loc['2020-02-27 09:30:00']\n",
    "\n",
    "# View the day_close value\n",
    "day_open"
   ]
  },
  {
   "cell_type": "markdown",
   "metadata": {},
   "source": [
    "## Create a variable called `day_close` that holds the closing price for your stock or index. Set this variable equal to the closing price using the `loc[]` function and reference the date and exact time that trading ended. View the value of this variable."
   ]
  },
  {
   "cell_type": "code",
   "execution_count": 9,
   "metadata": {},
   "outputs": [
    {
     "data": {
      "text/plain": [
       "253.65"
      ]
     },
     "execution_count": 9,
     "metadata": {},
     "output_type": "execute_result"
    }
   ],
   "source": [
    "# Crate a variable (ie day_close_spy) to hold the closing (approximately 16:00:00) price for the chosen day\n",
    "day_close = day_stock_df.loc['2020-02-27 15:59:58']\n",
    "\n",
    "# View the day_close value\n",
    "day_close\n"
   ]
  },
  {
   "cell_type": "markdown",
   "metadata": {},
   "source": [
    "## Calculate and display the percent change (day_percent_change) variable using the formula `(day_close- day_open) / day_open`"
   ]
  },
  {
   "cell_type": "code",
   "execution_count": 10,
   "metadata": {},
   "outputs": [
    {
     "data": {
      "text/plain": [
       "-0.05230711750420315"
      ]
     },
     "execution_count": 10,
     "metadata": {},
     "output_type": "execute_result"
    }
   ],
   "source": [
    "# Using the variables, calculate the percent change in the price for the trading day (close-open/open)\n",
    "day_percent_change = (day_close - day_open) / day_open\n",
    "\n",
    "# View the percent change of your stock on the day chosen\n",
    "day_percent_change\n"
   ]
  },
  {
   "cell_type": "markdown",
   "metadata": {},
   "source": [
    "## In the following steps you are going to calculate the percent change in the stock/index for the week."
   ]
  },
  {
   "cell_type": "markdown",
   "metadata": {},
   "source": [
    "## Create a Pandas DataFrame that includes the weeks worth of trading data for your chosen stock. Use the `loc` function and specify the time from 09:30:00 on 2020-02-24 through 16:00:00 on 202-02-28. Confirm the creation of your DataFrame by displaying the first and last five rows of the DataFrame."
   ]
  },
  {
   "cell_type": "code",
   "execution_count": 11,
   "metadata": {},
   "outputs": [
    {
     "data": {
      "text/plain": [
       "TimeStamp\n",
       "2020-02-24 09:30:02    294.07\n",
       "2020-02-24 09:30:05    271.47\n",
       "2020-02-24 09:30:08    270.39\n",
       "2020-02-24 09:30:11    269.76\n",
       "2020-02-24 09:30:14    269.97\n",
       "Name: NVDA, dtype: float64"
      ]
     },
     "metadata": {},
     "output_type": "display_data"
    },
    {
     "data": {
      "text/plain": [
       "TimeStamp\n",
       "2020-02-28 15:59:48    267.5500\n",
       "2020-02-28 15:59:51    267.5500\n",
       "2020-02-28 15:59:54    267.9332\n",
       "2020-02-28 15:59:57    267.9332\n",
       "2020-02-28 16:00:00    267.9900\n",
       "Name: NVDA, dtype: float64"
      ]
     },
     "metadata": {},
     "output_type": "display_data"
    }
   ],
   "source": [
    "# Create a Pandas DataFrame that includes the weeks worth of trading data for your chosen stock. \n",
    "# Use the `loc` function and specify the time from 2020-02-24 09:30:00 through 2020-02-28 16:00:00.\n",
    "week_stock_df = market_data_df['NVDA'].loc['2020-02-24 09:30:00': '2020-02-28 16:00:00' ]\n",
    "\n",
    "# Display the first and last five rows of your DataFrame\n",
    "display(week_stock_df.head())\n",
    "display(week_stock_df.tail())"
   ]
  },
  {
   "cell_type": "markdown",
   "metadata": {},
   "source": [
    "## Create a variable `week_open` that holds the week's opening price for your stock or index. Set this variable equal to the opening price using the `loc[]` function and reference the date and exact time that trading began on the first day of the week. Display this variable."
   ]
  },
  {
   "cell_type": "code",
   "execution_count": 12,
   "metadata": {},
   "outputs": [
    {
     "data": {
      "text/plain": [
       "294.07"
      ]
     },
     "execution_count": 12,
     "metadata": {},
     "output_type": "execute_result"
    }
   ],
   "source": [
    "# Set the opening price for the week to a variable called week_open.\n",
    "week_open = week_stock_df.loc['2020-02-24 09:30:02']\n",
    "\n",
    "# View the value of week_open\n",
    "week_open"
   ]
  },
  {
   "cell_type": "markdown",
   "metadata": {},
   "source": [
    "## Create a variable `week_close` that holds the week's closing price for your stock or index. Set this variable equal to the closing price using the `loc[]` function and reference the date and exact time that trading closed on the last day of the week. Display this variable."
   ]
  },
  {
   "cell_type": "code",
   "execution_count": 13,
   "metadata": {},
   "outputs": [
    {
     "data": {
      "text/plain": [
       "267.99"
      ]
     },
     "execution_count": 13,
     "metadata": {},
     "output_type": "execute_result"
    }
   ],
   "source": [
    "# Set the closing price for the week to a variable called week_close.\n",
    "week_close = week_stock_df.loc['2020-02-28 16:00:00']\n",
    "\n",
    "# View the value of week_close\n",
    "week_close\n"
   ]
  },
  {
   "cell_type": "markdown",
   "metadata": {},
   "source": [
    "## Calculate and display the percent change (week_percent_change) variable using the formula `(week_close - week_open) / week_open`"
   ]
  },
  {
   "cell_type": "code",
   "execution_count": 14,
   "metadata": {},
   "outputs": [
    {
     "data": {
      "text/plain": [
       "-0.08868636719148497"
      ]
     },
     "execution_count": 14,
     "metadata": {},
     "output_type": "execute_result"
    }
   ],
   "source": [
    "# Using the variables, calculate the percent change in the price for the trading week (close-open/open)\n",
    "week_percent_change = (week_close - week_open) / week_open\n",
    "\n",
    "# View the value of the week_percent_change\n",
    "week_percent_change\n"
   ]
  },
  {
   "cell_type": "code",
   "execution_count": null,
   "metadata": {},
   "outputs": [],
   "source": []
  }
 ],
 "metadata": {
  "kernelspec": {
   "display_name": "Python 3.7.7 64-bit ('dev': conda)",
   "language": "python",
   "name": "python37764bitdevconda30c4027b071341ef863ddfcdef37d5e3"
  },
  "language_info": {
   "codemirror_mode": {
    "name": "ipython",
    "version": 3
   },
   "file_extension": ".py",
   "mimetype": "text/x-python",
   "name": "python",
   "nbconvert_exporter": "python",
   "pygments_lexer": "ipython3",
   "version": "3.7.1"
  }
 },
 "nbformat": 4,
 "nbformat_minor": 4
}
