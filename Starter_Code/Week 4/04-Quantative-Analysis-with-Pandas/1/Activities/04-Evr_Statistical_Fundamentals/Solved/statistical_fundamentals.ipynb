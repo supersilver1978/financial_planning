{
 "cells": [
  {
   "cell_type": "markdown",
   "metadata": {},
   "source": [
    "# Statisticals Fundamentals\n",
    "\n",
    "In this activity, students will code along with the instructor to get the opportunity to practice using statistical fundamentals to create a report for a group of stocks. The report will give a recommendation for each stock on whether it is over or under valued and more or less volatile than the market."
   ]
  },
  {
   "cell_type": "markdown",
   "metadata": {},
   "source": [
    "## Importing Required Modules"
   ]
  },
  {
   "cell_type": "code",
   "execution_count": 1,
   "metadata": {},
   "outputs": [],
   "source": [
    "# Import modules\n",
    "import pandas as pd\n",
    "from pathlib import Path\n",
    "import matplotlib.pyplot as plt"
   ]
  },
  {
   "cell_type": "markdown",
   "metadata": {},
   "source": [
    "## Loading the Stocks Data\n",
    "\n",
    "  - Each CSV file contains a stock's closing price and the date of the closing price.\n",
    "\n",
    "  - Create a `Path` object for each CSV filepath."
   ]
  },
  {
   "cell_type": "code",
   "execution_count": 2,
   "metadata": {},
   "outputs": [],
   "source": [
    "# Set paths to CSV files\n",
    "hd_csv_path = Path(\"../Resources/HD.csv\")\n",
    "intc_csv_path = Path(\"../Resources/INTC.csv\")\n",
    "mu_csv_path = Path(\"../Resources/MU.csv\")\n",
    "nvda_csv_path = Path(\"../Resources/NVDA.csv\")\n",
    "tsla_csv_path = Path(\"../Resources/TSLA.csv\")\n",
    "sp500_path = Path(\"../Resources/sp500.csv\")"
   ]
  },
  {
   "cell_type": "markdown",
   "metadata": {},
   "source": [
    "For each CSV file read the data into a `pandas` `DataFrame`.\n",
    "\n",
    "  - Set the index column to be the date.\n",
    "\n",
    "  - Infer the date time format.\n",
    "\n",
    "  - Parse all dates when the CSV file is loaded."
   ]
  },
  {
   "cell_type": "code",
   "execution_count": 3,
   "metadata": {},
   "outputs": [],
   "source": [
    "# Read in CSV files\n",
    "hd_df = pd.read_csv(\n",
    "    hd_csv_path, \n",
    "    index_col=\"date\", \n",
    "    infer_datetime_format=True, \n",
    "    parse_dates=True\n",
    ")\n",
    "intc_df = pd.read_csv(\n",
    "    intc_csv_path, \n",
    "    index_col=\"date\", \n",
    "    infer_datetime_format=True, \n",
    "    parse_dates=True\n",
    ")\n",
    "mu_df = pd.read_csv(\n",
    "    mu_csv_path, \n",
    "    index_col=\"date\", \n",
    "    infer_datetime_format=True, \n",
    "    parse_dates=True\n",
    ")\n",
    "nvda_df = pd.read_csv(\n",
    "    nvda_csv_path, \n",
    "    index_col=\"date\", \n",
    "    infer_datetime_format=True, \n",
    "    parse_dates=True\n",
    ")\n",
    "tsla_df = pd.read_csv(\n",
    "    tsla_csv_path, \n",
    "    index_col=\"date\", \n",
    "    infer_datetime_format=True, \n",
    "    parse_dates=True\n",
    ")\n",
    "\n",
    "sp500_df = pd.read_csv(\n",
    "    sp500_path, \n",
    "    index_col=\"date\", \n",
    "    infer_datetime_format=True, \n",
    "    parse_dates=True\n",
    ")"
   ]
  },
  {
   "cell_type": "markdown",
   "metadata": {},
   "source": [
    "## Coding Statistical Measures in Python\n",
    "\n",
    "### Create a function named `calculate_mean`\n",
    "\n",
    "   - Calculate mean should return the average value for a given `list` or `Series`.\n",
    "\n",
    "   - $\\mu = \\frac{\\sum{x_{i}}}{n}$\n",
    "\n",
    "   - Choose a function name that will not conflict with any modules that may have been imported."
   ]
  },
  {
   "cell_type": "code",
   "execution_count": 4,
   "metadata": {},
   "outputs": [],
   "source": [
    "# Create a function named 'calculate_mean'.\n",
    "def calculate_mean(data_set):\n",
    "    sum = 0\n",
    "    length = 0\n",
    "    for value in data_set:\n",
    "        sum = sum + value\n",
    "        length = length + 1\n",
    "    result = sum / length\n",
    "    return result"
   ]
  },
  {
   "cell_type": "code",
   "execution_count": 5,
   "metadata": {},
   "outputs": [
    {
     "name": "stdout",
     "output_type": "stream",
     "text": [
      "3.0\n"
     ]
    }
   ],
   "source": [
    "# Test the `calculate_mean` function\n",
    "data = [1, 2, 3, 4, 5]\n",
    "print(calculate_mean(data))"
   ]
  },
  {
   "cell_type": "markdown",
   "metadata": {},
   "source": [
    "### Create a function named `calculate_variance`\n",
    "   - Variance is the squared average change around the mean.\n",
    "\n",
    "   - ${S}^2 = \\frac{\\sum{ (x_{i} - \\mu })^{2}}{ n - 1}$\n"
   ]
  },
  {
   "cell_type": "code",
   "execution_count": 6,
   "metadata": {},
   "outputs": [],
   "source": [
    "# Create a function named 'calculate_variance'.\n",
    "def calculate_variance(data_set):\n",
    "    sum = 0\n",
    "    length = 0\n",
    "    mean_value = calculate_mean(data_set)\n",
    "    for value in data_set:\n",
    "        sum = sum + (value - mean_value) ** 2\n",
    "        length = length + 1\n",
    "    result = sum / (length - 1) \n",
    "    return result"
   ]
  },
  {
   "cell_type": "code",
   "execution_count": 7,
   "metadata": {},
   "outputs": [
    {
     "name": "stdout",
     "output_type": "stream",
     "text": [
      "2.5\n"
     ]
    }
   ],
   "source": [
    "# Test the `calculate_variance` function\n",
    "data = [1, 2, 3, 4, 5]\n",
    "print(calculate_variance(data))"
   ]
  },
  {
   "cell_type": "markdown",
   "metadata": {},
   "source": [
    "### Create a function named `calculate_standard_deviation`\n",
    "\n",
    " - The standard deviation is the square root of the variance.\n",
    "\n",
    " - $\\sigma = \\sqrt{S^{2}}$"
   ]
  },
  {
   "cell_type": "code",
   "execution_count": 8,
   "metadata": {},
   "outputs": [],
   "source": [
    "# Create a function named 'calculate_standard_deviation'.\n",
    "def calculate_standard_deviation(data_set):\n",
    "    return (calculate_variance(data_set)) ** (1 / 2)"
   ]
  },
  {
   "cell_type": "code",
   "execution_count": 9,
   "metadata": {},
   "outputs": [
    {
     "name": "stdout",
     "output_type": "stream",
     "text": [
      "1.5811388300841898\n"
     ]
    }
   ],
   "source": [
    "# Test the `calculate_standard_deviation` function\n",
    "data = [1, 2, 3, 4, 5]\n",
    "print(calculate_standard_deviation(data))"
   ]
  },
  {
   "cell_type": "markdown",
   "metadata": {},
   "source": [
    "## Coding Helper Functions\n",
    "\n",
    "### Create a function named `check_value`\n",
    "\n",
    "   - The function should compare the most recent price of the asset to it's mean price.\n",
    "\n",
    "   - If the most recent price is greater than the mean price the asset is over-valued.\n",
    "\n",
    "   - If the most recent price is under than the mean price the asset is under-valued.\n",
    "\n",
    "   - If neither case is true then the most recent price must be at the mean price."
   ]
  },
  {
   "cell_type": "code",
   "execution_count": 10,
   "metadata": {},
   "outputs": [],
   "source": [
    "# Create a function to check to most recent price against the mean price to determine if the stock is overvalued.\n",
    "def check_value(current_price, mean_price):\n",
    "    if current_price > mean_price:\n",
    "        print(\"Overvalued\")\n",
    "    elif current_price < mean_price:\n",
    "        print(\"Undervalued\")\n",
    "    else:\n",
    "        print(\"Price is at mean value.\")"
   ]
  },
  {
   "cell_type": "markdown",
   "metadata": {},
   "source": [
    "### Create a function named `compare_volatility`\n",
    "   \n",
    "   - The function should compare the standard deviation of an assets price change percentage to a market's.\n",
    "\n",
    "   - If the asset's standard deviation is greater than the market's the stock is more volatile otherwise it's less volatile."
   ]
  },
  {
   "cell_type": "code",
   "execution_count": 11,
   "metadata": {},
   "outputs": [],
   "source": [
    "# Create a function to compare the volatility with the underlying market\n",
    "def compare_volatility(stock_std, market_std):\n",
    "    if stock_std > market_std:\n",
    "        print(\"The stock is more volatile than the market.\")\n",
    "    else:\n",
    "        print(\"The stock is less volatile than the market.\")"
   ]
  },
  {
   "cell_type": "markdown",
   "metadata": {},
   "source": [
    "## Coding the Stocks Report\n",
    "\n",
    "### Calculate the Daily Percent Change for the SP500"
   ]
  },
  {
   "cell_type": "code",
   "execution_count": 12,
   "metadata": {},
   "outputs": [
    {
     "data": {
      "text/html": [
       "<div>\n",
       "<style scoped>\n",
       "    .dataframe tbody tr th:only-of-type {\n",
       "        vertical-align: middle;\n",
       "    }\n",
       "\n",
       "    .dataframe tbody tr th {\n",
       "        vertical-align: top;\n",
       "    }\n",
       "\n",
       "    .dataframe thead th {\n",
       "        text-align: right;\n",
       "    }\n",
       "</style>\n",
       "<table border=\"1\" class=\"dataframe\">\n",
       "  <thead>\n",
       "    <tr style=\"text-align: right;\">\n",
       "      <th></th>\n",
       "      <th>close</th>\n",
       "      <th>pct_change</th>\n",
       "    </tr>\n",
       "    <tr>\n",
       "      <th>date</th>\n",
       "      <th></th>\n",
       "      <th></th>\n",
       "    </tr>\n",
       "  </thead>\n",
       "  <tbody>\n",
       "    <tr>\n",
       "      <th>2014-05-21</th>\n",
       "      <td>1888.03</td>\n",
       "      <td>0.008116</td>\n",
       "    </tr>\n",
       "    <tr>\n",
       "      <th>2014-05-22</th>\n",
       "      <td>1892.49</td>\n",
       "      <td>0.002362</td>\n",
       "    </tr>\n",
       "    <tr>\n",
       "      <th>2014-05-23</th>\n",
       "      <td>1900.53</td>\n",
       "      <td>0.004248</td>\n",
       "    </tr>\n",
       "    <tr>\n",
       "      <th>2014-05-27</th>\n",
       "      <td>1911.91</td>\n",
       "      <td>0.005988</td>\n",
       "    </tr>\n",
       "    <tr>\n",
       "      <th>2014-05-28</th>\n",
       "      <td>1909.78</td>\n",
       "      <td>-0.001114</td>\n",
       "    </tr>\n",
       "  </tbody>\n",
       "</table>\n",
       "</div>"
      ],
      "text/plain": [
       "              close  pct_change\n",
       "date                           \n",
       "2014-05-21  1888.03    0.008116\n",
       "2014-05-22  1892.49    0.002362\n",
       "2014-05-23  1900.53    0.004248\n",
       "2014-05-27  1911.91    0.005988\n",
       "2014-05-28  1909.78   -0.001114"
      ]
     },
     "execution_count": 12,
     "metadata": {},
     "output_type": "execute_result"
    }
   ],
   "source": [
    "# Calculate the daily percent changes for sp500 and drop n/a values\n",
    "sp500_df[\"pct_change\"] = sp500_df[\"close\"].pct_change()\n",
    "sp500_df = sp500_df.dropna()\n",
    "sp500_df.head()"
   ]
  },
  {
   "cell_type": "markdown",
   "metadata": {},
   "source": [
    "## Calculate the Standard Deviation for the SP500"
   ]
  },
  {
   "cell_type": "code",
   "execution_count": 13,
   "metadata": {},
   "outputs": [
    {
     "name": "stdout",
     "output_type": "stream",
     "text": [
      "0.008386473841433477\n"
     ]
    }
   ],
   "source": [
    "# Calculate the standard deviation for the sp500\n",
    "sp500_std = calculate_standard_deviation(sp500_df[\"pct_change\"])\n",
    "print(sp500_std)"
   ]
  },
  {
   "cell_type": "markdown",
   "metadata": {},
   "source": [
    "### Create a Python Dictionary of Stocks to Run the Report On\n",
    "   \n",
    "   - Map each stock name to it's dataframe\n",
    "\n",
    "   - Do not include the SP500\n",
    "\n",
    "   - Example: stocks_to_check = {\"stock_name\" : stock_df}"
   ]
  },
  {
   "cell_type": "code",
   "execution_count": 14,
   "metadata": {},
   "outputs": [],
   "source": [
    "# Create a dictionary for all stocks except the sp500\n",
    "stocks_to_check = {\n",
    "    \"Home Depot\": hd_df,\n",
    "    \"Intel\": intc_df,\n",
    "    \"Micron Tech.\": mu_df,\n",
    "    \"NVIDIA\": nvda_df,\n",
    "    \"Tesla\": tsla_df,\n",
    "}"
   ]
  },
  {
   "cell_type": "markdown",
   "metadata": {},
   "source": [
    "### Generate the Report\n",
    "\n",
    "  - Loop through the dictionary of stocks.\n",
    "\n",
    "  - **Hint**: Use the `items()` method for dictionaries. You can read more on the [documentation page](https://docs.python.org/3/tutorial/datastructures.html#looping-techniques).\n",
    "\n",
    "  - For each stock:\n",
    "    * Calculate the daily percent change.\n",
    "    * Get the most recent price.\n",
    "    * Calculate the mean and standard deviation using the functions you created.\n",
    "    * Print the stock's name.\n",
    "    * Print the statistics that you calculated.\n",
    "    * Using `check_value` see if the stock is over or under valued.\n",
    "    * Using `compare_volatility` check if the stock is more or less volatile than the SP500\n",
    "    * Plot a box plot of the daily percent change"
   ]
  },
  {
   "cell_type": "code",
   "execution_count": 20,
   "metadata": {},
   "outputs": [
    {
     "name": "stdout",
     "output_type": "stream",
     "text": [
      "Home Depot\n",
      "\n",
      "Recent Price Pct: -0.0015496534802634798\n",
      "Mean Price Pct: 0.0005143162010646481\n",
      "Price Pct std. deviation: nan\n",
      "Undervalued\n",
      "The stock is less volatile than the market.\n"
     ]
    },
    {
     "data": {
      "image/png": "[encoded data removed]",
      "text/plain": [
       "<Figure size 640x480 with 1 Axes>"
      ]
     },
     "metadata": {},
     "output_type": "display_data"
    },
    {
     "name": "stdout",
     "output_type": "stream",
     "text": [
      "\n",
      "\n",
      "Intel\n",
      "\n",
      "Recent Price Pct: -0.0015496534802634798\n",
      "Mean Price Pct: 0.0005143162010646481\n",
      "Price Pct std. deviation: nan\n",
      "Undervalued\n",
      "The stock is less volatile than the market.\n"
     ]
    },
    {
     "data": {
      "image/png": "[encoded data removed]",
      "text/plain": [
       "<Figure size 640x480 with 1 Axes>"
      ]
     },
     "metadata": {},
     "output_type": "display_data"
    },
    {
     "name": "stdout",
     "output_type": "stream",
     "text": [
      "\n",
      "\n",
      "Micron Tech.\n",
      "\n",
      "Recent Price Pct: -0.0015496534802634798\n",
      "Mean Price Pct: 0.0005143162010646481\n",
      "Price Pct std. deviation: nan\n",
      "Undervalued\n",
      "The stock is less volatile than the market.\n"
     ]
    },
    {
     "data": {
      "image/png": "[encoded data removed]",
      "text/plain": [
       "<Figure size 640x480 with 1 Axes>"
      ]
     },
     "metadata": {},
     "output_type": "display_data"
    },
    {
     "name": "stdout",
     "output_type": "stream",
     "text": [
      "\n",
      "\n",
      "NVIDIA\n",
      "\n",
      "Recent Price Pct: -0.0015496534802634798\n",
      "Mean Price Pct: 0.0005143162010646481\n",
      "Price Pct std. deviation: nan\n",
      "Undervalued\n",
      "The stock is less volatile than the market.\n"
     ]
    },
    {
     "data": {
      "image/png": "[encoded data removed]",
      "text/plain": [
       "<Figure size 640x480 with 1 Axes>"
      ]
     },
     "metadata": {},
     "output_type": "display_data"
    },
    {
     "name": "stdout",
     "output_type": "stream",
     "text": [
      "\n",
      "\n",
      "Tesla\n",
      "\n",
      "Recent Price Pct: -0.0015496534802634798\n",
      "Mean Price Pct: 0.0005143162010646481\n",
      "Price Pct std. deviation: nan\n",
      "Undervalued\n",
      "The stock is less volatile than the market.\n"
     ]
    },
    {
     "data": {
      "image/png": "[encoded data removed]",
      "text/plain": [
       "<Figure size 640x480 with 1 Axes>"
      ]
     },
     "metadata": {},
     "output_type": "display_data"
    },
    {
     "name": "stdout",
     "output_type": "stream",
     "text": [
      "\n",
      "\n"
     ]
    }
   ],
   "source": [
    "# Loop through the stocks in the dictionary and compare their performance with the sp500.\n",
    "for stock_name, dataframe in stocks_to_check.items():\n",
    "\n",
    "    # Calculate the daily percent change for each stock\n",
    "    \n",
    "\n",
    "    # Get most recent price stock_recent_price = \n",
    "\n",
    "    # Calculate the mean price percent change stock_mean = \n",
    "    \n",
    "\n",
    "    # Calculate the standard deviation of the percent change stock_std = \n",
    "    \n",
    "\n",
    "    # Print the stock name and calculated statistics\n",
    "    print(f\"{stock_name}\\n\")\n",
    "    print(f\"Recent Price Pct: {stock_recent_price}\")\n",
    "    print(f\"Mean Price Pct: {stock_mean}\")\n",
    "    print(f\"Price Pct std. deviation: {stock_std}\")\n",
    "\n",
    "    # Using check_value, check if the stock is overvalued or not\n",
    "    \n",
    "    # Compare the stock's volatility with the market\n",
    "    \n",
    "    "
   ]
  },
  {
   "cell_type": "code",
   "execution_count": null,
   "metadata": {},
   "outputs": [],
   "source": []
  }
 ],
 "metadata": {
  "interpreter": {
   "hash": "d26420431de51cf62b599d1a4cd83c6fba348aa73a9343faf14f9f0171d9fdc1"
  },
  "kernelspec": {
   "display_name": "Python 3.8.10 64-bit (conda)",
   "name": "python3"
  },
  "language_info": {
   "codemirror_mode": {
    "name": "ipython",
    "version": 3
   },
   "file_extension": ".py",
   "mimetype": "text/x-python",
   "name": "python",
   "nbconvert_exporter": "python",
   "pygments_lexer": "ipython3",
   "version": "3.9.12"
  }
 },
 "nbformat": 4,
 "nbformat_minor": 4
}
