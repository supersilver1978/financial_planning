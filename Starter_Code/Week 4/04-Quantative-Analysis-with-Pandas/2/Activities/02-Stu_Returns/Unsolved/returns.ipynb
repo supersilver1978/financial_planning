{
 "cells": [
  {
   "cell_type": "markdown",
   "metadata": {},
   "source": [
    "# Calculating Stock Returns using Pandas DataFrames\n",
    "\n",
    "In this exercise you will learn how to calculate daily stock returns and cumulative stock returns\n",
    "using the average daily price.\n",
    "\n",
    "The average daily price is defined as:\n",
    "\n",
    "average_daily_price = (open + close + high + low) / 4"
   ]
  },
  {
   "cell_type": "markdown",
   "metadata": {},
   "source": [
    "## 1. Import Libaries and Dependencies\n",
    "  - Import the `pandas` and `pathlib` libraries, and set the `%matplotlib inline` property."
   ]
  },
  {
   "cell_type": "code",
   "execution_count": 96,
   "metadata": {},
   "outputs": [
    {
     "data": {
      "text/plain": [
       "'C:\\\\Users\\\\super\\\\Desktop\\\\FinTech-Workspace\\\\Week 4\\\\04-Quantative-Analysis-with-Pandas\\\\2\\\\Activities\\\\02-Stu_Returns\\\\Unsolved'"
      ]
     },
     "execution_count": 96,
     "metadata": {},
     "output_type": "execute_result"
    }
   ],
   "source": [
    "# Import necessary libraries and dependencies\n",
    "import pandas as pd\n",
    "from pathlib import Path\n",
    "%matplotlib inline\n",
    "import os\n",
    "os.getcwd() \n"
   ]
  },
  {
   "cell_type": "markdown",
   "metadata": {},
   "source": [
    "## 2. Create a Path to the File Using Pathlib\n",
    "  - Create a variable `csvpath` that represents the path to the [MSFT.csv](../Resources/MSFT.csv) using the Pathlib library."
   ]
  },
  {
   "cell_type": "code",
   "execution_count": 97,
   "metadata": {},
   "outputs": [],
   "source": [
    "# Use the Pathlib libary to set the path to the CSV\n",
    "\n",
    "#msft_path = Path(\"..\\\\resources\\\\MSFT_csv\")\n",
    "#msft_path = Path(\"C:\\\\Users\\\\super\\\\Desktop\\\\FinTech-Workspace\\\\Week 4\\\\04-Quantative-Analysis-with-Pandas\\\\2\\\\Activities\\\\02-Stu_Returns\\\\Resources\")\n",
    "#msft_df = pd.read_csv(msft_path)\n",
    "msft_path = Path(\"..\\\\Resources\\\\MSFT.csv\")"
   ]
  },
  {
   "cell_type": "markdown",
   "metadata": {},
   "source": [
    "## 3. Read CSV in as DataFrame\n",
    "  - Read the CSV into a Pandas DataFrame. Use the `index_col` parameter to set the index to be the `date` column. Set `parse_dates` and `infer_datetime_format` to `True`."
   ]
  },
  {
   "cell_type": "code",
   "execution_count": 98,
   "metadata": {},
   "outputs": [],
   "source": [
    "# Read in the CSV as a DataFrame\n",
    "msft_df = pd.read_csv((msft_path), \n",
    "    index_col= \"date\", \n",
    "    parse_dates = True, \n",
    "    infer_datetime_format = True\n",
    "                     )"
   ]
  },
  {
   "cell_type": "markdown",
   "metadata": {},
   "source": [
    "## 4. Drop Volume Column\n"
   ]
  },
  {
   "cell_type": "code",
   "execution_count": 99,
   "metadata": {},
   "outputs": [
    {
     "data": {
      "text/html": [
       "<div>\n",
       "<style scoped>\n",
       "    .dataframe tbody tr th:only-of-type {\n",
       "        vertical-align: middle;\n",
       "    }\n",
       "\n",
       "    .dataframe tbody tr th {\n",
       "        vertical-align: top;\n",
       "    }\n",
       "\n",
       "    .dataframe thead th {\n",
       "        text-align: right;\n",
       "    }\n",
       "</style>\n",
       "<table border=\"1\" class=\"dataframe\">\n",
       "  <thead>\n",
       "    <tr style=\"text-align: right;\">\n",
       "      <th></th>\n",
       "      <th>close</th>\n",
       "      <th>open</th>\n",
       "      <th>high</th>\n",
       "      <th>low</th>\n",
       "    </tr>\n",
       "    <tr>\n",
       "      <th>date</th>\n",
       "      <th></th>\n",
       "      <th></th>\n",
       "      <th></th>\n",
       "      <th></th>\n",
       "    </tr>\n",
       "  </thead>\n",
       "  <tbody>\n",
       "    <tr>\n",
       "      <th>2009-08-03</th>\n",
       "      <td>23.83</td>\n",
       "      <td>23.82</td>\n",
       "      <td>23.86</td>\n",
       "      <td>23.50</td>\n",
       "    </tr>\n",
       "    <tr>\n",
       "      <th>2009-08-04</th>\n",
       "      <td>23.77</td>\n",
       "      <td>23.68</td>\n",
       "      <td>23.79</td>\n",
       "      <td>23.53</td>\n",
       "    </tr>\n",
       "    <tr>\n",
       "      <th>2009-08-05</th>\n",
       "      <td>23.81</td>\n",
       "      <td>23.84</td>\n",
       "      <td>24.25</td>\n",
       "      <td>23.79</td>\n",
       "    </tr>\n",
       "    <tr>\n",
       "      <th>2009-08-06</th>\n",
       "      <td>23.46</td>\n",
       "      <td>23.93</td>\n",
       "      <td>23.98</td>\n",
       "      <td>23.27</td>\n",
       "    </tr>\n",
       "    <tr>\n",
       "      <th>2009-08-07</th>\n",
       "      <td>23.56</td>\n",
       "      <td>23.75</td>\n",
       "      <td>23.82</td>\n",
       "      <td>23.50</td>\n",
       "    </tr>\n",
       "  </tbody>\n",
       "</table>\n",
       "</div>"
      ],
      "text/plain": [
       "            close   open   high    low\n",
       "date                                  \n",
       "2009-08-03  23.83  23.82  23.86  23.50\n",
       "2009-08-04  23.77  23.68  23.79  23.53\n",
       "2009-08-05  23.81  23.84  24.25  23.79\n",
       "2009-08-06  23.46  23.93  23.98  23.27\n",
       "2009-08-07  23.56  23.75  23.82  23.50"
      ]
     },
     "execution_count": 99,
     "metadata": {},
     "output_type": "execute_result"
    }
   ],
   "source": [
    "# Drop volume column\n",
    "msft_df= msft_df.drop('volume', axis=1)\n",
    "msft_df.head()"
   ]
  },
  {
   "cell_type": "markdown",
   "metadata": {},
   "source": [
    "## 5. Calculate Daily Average Price\n",
    "  - Use the mean() method with axis = 1\n",
    "  - Save the average price into a new column in the dataframe\n",
    "\n",
    "  - Hint: Remember that dataframes are concatenation of series\n"
   ]
  },
  {
   "cell_type": "code",
   "execution_count": 103,
   "metadata": {},
   "outputs": [
    {
     "data": {
      "text/html": [
       "<div>\n",
       "<style scoped>\n",
       "    .dataframe tbody tr th:only-of-type {\n",
       "        vertical-align: middle;\n",
       "    }\n",
       "\n",
       "    .dataframe tbody tr th {\n",
       "        vertical-align: top;\n",
       "    }\n",
       "\n",
       "    .dataframe thead th {\n",
       "        text-align: right;\n",
       "    }\n",
       "</style>\n",
       "<table border=\"1\" class=\"dataframe\">\n",
       "  <thead>\n",
       "    <tr style=\"text-align: right;\">\n",
       "      <th></th>\n",
       "      <th>close</th>\n",
       "      <th>open</th>\n",
       "      <th>high</th>\n",
       "      <th>low</th>\n",
       "      <th>avg_price</th>\n",
       "    </tr>\n",
       "    <tr>\n",
       "      <th>date</th>\n",
       "      <th></th>\n",
       "      <th></th>\n",
       "      <th></th>\n",
       "      <th></th>\n",
       "      <th></th>\n",
       "    </tr>\n",
       "  </thead>\n",
       "  <tbody>\n",
       "    <tr>\n",
       "      <th>2009-08-03</th>\n",
       "      <td>23.83</td>\n",
       "      <td>23.82</td>\n",
       "      <td>23.86</td>\n",
       "      <td>23.50</td>\n",
       "      <td>23.7525</td>\n",
       "    </tr>\n",
       "    <tr>\n",
       "      <th>2009-08-04</th>\n",
       "      <td>23.77</td>\n",
       "      <td>23.68</td>\n",
       "      <td>23.79</td>\n",
       "      <td>23.53</td>\n",
       "      <td>23.6925</td>\n",
       "    </tr>\n",
       "    <tr>\n",
       "      <th>2009-08-05</th>\n",
       "      <td>23.81</td>\n",
       "      <td>23.84</td>\n",
       "      <td>24.25</td>\n",
       "      <td>23.79</td>\n",
       "      <td>23.9225</td>\n",
       "    </tr>\n",
       "    <tr>\n",
       "      <th>2009-08-06</th>\n",
       "      <td>23.46</td>\n",
       "      <td>23.93</td>\n",
       "      <td>23.98</td>\n",
       "      <td>23.27</td>\n",
       "      <td>23.6600</td>\n",
       "    </tr>\n",
       "    <tr>\n",
       "      <th>2009-08-07</th>\n",
       "      <td>23.56</td>\n",
       "      <td>23.75</td>\n",
       "      <td>23.82</td>\n",
       "      <td>23.50</td>\n",
       "      <td>23.6575</td>\n",
       "    </tr>\n",
       "  </tbody>\n",
       "</table>\n",
       "</div>"
      ],
      "text/plain": [
       "            close   open   high    low  avg_price\n",
       "date                                             \n",
       "2009-08-03  23.83  23.82  23.86  23.50    23.7525\n",
       "2009-08-04  23.77  23.68  23.79  23.53    23.6925\n",
       "2009-08-05  23.81  23.84  24.25  23.79    23.9225\n",
       "2009-08-06  23.46  23.93  23.98  23.27    23.6600\n",
       "2009-08-07  23.56  23.75  23.82  23.50    23.6575"
      ]
     },
     "execution_count": 103,
     "metadata": {},
     "output_type": "execute_result"
    }
   ],
   "source": [
    "# Calculate the daily average price\n",
    "#msft_df['daily_avg'] = msft_df[['high', 'low']].mean(axis=1)\n",
    "msft_df['avg_price'] = msft_df.mean(axis=1)\n",
    "msft_df.head()"
   ]
  },
  {
   "cell_type": "markdown",
   "metadata": {},
   "source": [
    "## 6. Plot the average daily values of MSFT"
   ]
  },
  {
   "cell_type": "code",
   "execution_count": 106,
   "metadata": {},
   "outputs": [
    {
     "data": {
      "text/plain": [
       "<AxesSubplot:xlabel='date'>"
      ]
     },
     "execution_count": 106,
     "metadata": {},
     "output_type": "execute_result"
    },
    {
     "data": {
      "image/png": "[encoded data removed]",
      "text/plain": [
       "<Figure size 640x480 with 1 Axes>"
      ]
     },
     "metadata": {},
     "output_type": "display_data"
    }
   ],
   "source": [
    "# Plot the average daily stock price of MSFT over the last 5 years\n",
    "msft_slice_df = msft_df['avg_price'].loc['2014-08-01' : '2019-08-01']\n",
    "#msft_df['avg_price'].plot()\n",
    "msft_slice_df.plot()\n",
    "#msft_avg_price_df = msft_df.loc['2014-08-01' : '2019:08-01'], \"daily_avg\"]]\n",
    "\n",
    "#msft_avg_price_df.plot(figsize=(10, 5), title=\"MSFT Daily Average Prices\", color=\"blue\")"
   ]
  },
  {
   "cell_type": "markdown",
   "metadata": {},
   "source": [
    "## 7. Calculate Daily Returns\n",
    "  - Use the `pct_change` function to calculate the daily returns of MSFT"
   ]
  },
  {
   "cell_type": "code",
   "execution_count": 108,
   "metadata": {},
   "outputs": [
    {
     "name": "stdout",
     "output_type": "stream",
     "text": [
      "date\n",
      "2009-08-03         NaN\n",
      "2009-08-04   -0.002518\n",
      "2009-08-05    0.001683\n",
      "2009-08-06   -0.014700\n",
      "2009-08-07    0.004263\n",
      "                ...   \n",
      "2019-07-26    0.008203\n",
      "2019-07-29   -0.002193\n",
      "2019-07-30   -0.004822\n",
      "2019-07-31   -0.029070\n",
      "2019-08-01    0.013136\n",
      "Name: close, Length: 2517, dtype: float64\n"
     ]
    }
   ],
   "source": [
    "# Calculate the daily return using the 'pct_change()' function\n",
    "# msft_df\n",
    "msft_daily_returns_df = msft_df['close'].pct_change()\n",
    "print(msft_daily_returns_df)\n"
   ]
  },
  {
   "cell_type": "markdown",
   "metadata": {},
   "source": [
    "## 8. Plot the daily return values for MSFT"
   ]
  },
  {
   "cell_type": "code",
   "execution_count": 111,
   "metadata": {},
   "outputs": [
    {
     "data": {
      "text/plain": [
       "date\n",
       "2009-08-03         NaN\n",
       "2009-08-04   -0.002518\n",
       "2009-08-05    0.001683\n",
       "2009-08-06   -0.014700\n",
       "2009-08-07    0.004263\n",
       "Name: close, dtype: float64"
      ]
     },
     "execution_count": 111,
     "metadata": {},
     "output_type": "execute_result"
    }
   ],
   "source": [
    "# Plot the daily returns of MSFT over the last 10 years\n",
    "#msft_daily_returns_df = msft_daily_returns_df.insert(1,'\n",
    "#roi = (msft_df[\"Shift 1\"][1] * msft_pct_change_df)\n",
    "       #print(roi[5]) \n",
    "\n",
    "msft_daily_returns_df.head()\n",
    "daily_returns\n"
   ]
  },
  {
   "cell_type": "markdown",
   "metadata": {},
   "source": [
    "## 9. Calculate Cumulative Returns\n",
    "  -  Use the `cumprod` function to calculate the cumulative returns of MSFT"
   ]
  },
  {
   "cell_type": "code",
   "execution_count": 112,
   "metadata": {},
   "outputs": [
    {
     "data": {
      "text/plain": [
       "date\n",
       "2009-08-03             NaN\n",
       "2009-08-04   -2.517835e-03\n",
       "2009-08-05   -4.236996e-06\n",
       "2009-08-06    6.228259e-08\n",
       "2009-08-07    2.654842e-10\n",
       "                  ...     \n",
       "2019-07-26    0.000000e+00\n",
       "2019-07-29   -0.000000e+00\n",
       "2019-07-30    0.000000e+00\n",
       "2019-07-31   -0.000000e+00\n",
       "2019-08-01   -0.000000e+00\n",
       "Name: close, Length: 2517, dtype: float64"
      ]
     },
     "execution_count": 112,
     "metadata": {},
     "output_type": "execute_result"
    }
   ],
   "source": [
    "# Calculate the cumulative returns using the 'cumprod()' function\n"
   ]
  },
  {
   "cell_type": "markdown",
   "metadata": {},
   "source": [
    "## 10. Plot cumulative return values for MSFT"
   ]
  },
  {
   "cell_type": "code",
   "execution_count": 10,
   "metadata": {},
   "outputs": [
    {
     "data": {
      "text/plain": [
       "<AxesSubplot:title={'center':'Cumulative Returns of MSFT over the Last 10 Years'}, xlabel='date'>"
      ]
     },
     "execution_count": 10,
     "metadata": {},
     "output_type": "execute_result"
    },
    {
     "data": {
      "image/png": "[encoded data removed]",
      "text/plain": [
       "<Figure size 720x360 with 1 Axes>"
      ]
     },
     "metadata": {
      "needs_background": "light"
     },
     "output_type": "display_data"
    }
   ],
   "source": [
    "# Plot the daily returns of the S&P 500 over the last 5 years\n",
    "# YOUR CODE HERE!"
   ]
  },
  {
   "cell_type": "code",
   "execution_count": null,
   "metadata": {},
   "outputs": [],
   "source": []
  }
 ],
 "metadata": {
  "kernelspec": {
   "display_name": "Python 3 (ipykernel)",
   "language": "python",
   "name": "python3"
  },
  "language_info": {
   "codemirror_mode": {
    "name": "ipython",
    "version": 3
   },
   "file_extension": ".py",
   "mimetype": "text/x-python",
   "name": "python",
   "nbconvert_exporter": "python",
   "pygments_lexer": "ipython3",
   "version": "3.7.13"
  }
 },
 "nbformat": 4,
 "nbformat_minor": 4
}
