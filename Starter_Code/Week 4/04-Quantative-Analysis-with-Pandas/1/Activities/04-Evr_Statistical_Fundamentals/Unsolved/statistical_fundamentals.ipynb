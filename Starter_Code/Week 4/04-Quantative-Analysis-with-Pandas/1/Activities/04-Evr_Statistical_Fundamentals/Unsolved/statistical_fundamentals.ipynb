{
 "cells": [
  {
   "cell_type": "markdown",
   "metadata": {},
   "source": [
    "# Statisticals Fundamentals\n",
    "\n",
    "In this activity, students will code along with the instructor to get the opportunity to practice using statistical fundamentals to create a report for a group of stocks. The report will give a recommendation for each stock on whether it is over or under valued and more or less volatile than the market."
   ]
  },
  {
   "cell_type": "markdown",
   "metadata": {},
   "source": [
    "## Importing Required Modules"
   ]
  },
  {
   "cell_type": "code",
   "execution_count": 5,
   "metadata": {},
   "outputs": [],
   "source": [
    "# Import modules\n",
    "import pandas as pd\n",
    "from pathlib import Path\n",
    "import matplotlib.pyplot as plt"
   ]
  },
  {
   "cell_type": "markdown",
   "metadata": {},
   "source": [
    "## Loading the Stocks Data\n",
    "\n",
    "  - Each CSV file contains a stock's closing price and the date of the closing price.\n",
    "\n",
    "  - Create a `Path` object for each CSV filepath."
   ]
  },
  {
   "cell_type": "code",
   "execution_count": 39,
   "metadata": {},
   "outputs": [],
   "source": [
    "# Set paths to CSV files\n",
    "hd_csv_path = Path(\"../Resources/HD.csv\")\n",
    "intc_csv_path = Path(\"../Resources/INTC.csv\")\n",
    "mu_csv_path = Path(\"../Resources/MU.csv\")\n",
    "nvda_csv_path = Path(\"../Resources/NVDA.csv\")\n",
    "tsla_csv_path = Path(\"../Resources/TSLA.csv\")\n",
    "sp500_csv_path = Path(\"../Resources/sp500.csv\")"
   ]
  },
  {
   "cell_type": "markdown",
   "metadata": {},
   "source": [
    "For each CSV file read the data into a `pandas` `DataFrame`.\n",
    "\n",
    "  - Set the index column to be the date.\n",
    "\n",
    "  - Infer the date time format.\n",
    "\n",
    "  - Parse all dates when the CSV file is loaded."
   ]
  },
  {
   "cell_type": "code",
   "execution_count": 40,
   "metadata": {},
   "outputs": [],
   "source": [
    "# Read in CSV files\n",
    "\n",
    "hd_df = pd.read_csv(\n",
    "    hd_csv_path, \n",
    "    index_col=\"date\", \n",
    "    infer_datetime_format=True, \n",
    "    parse_dates=True\n",
    ")\n",
    "\n",
    "intc_df = pd.read_csv(\n",
    "    intc_csv_path, \n",
    "    index_col=\"date\", \n",
    "    infer_datetime_format=True, \n",
    "    parse_dates=True\n",
    ")\n",
    "mu_df = pd.read_csv(\n",
    "    mu_csv_path, \n",
    "    index_col=\"date\", \n",
    "    infer_datetime_format=True, \n",
    "    parse_dates=True\n",
    ")\n",
    "nvda_df = pd.read_csv(\n",
    "    nvda_csv_path, \n",
    "    index_col=\"date\", \n",
    "    infer_datetime_format=True, \n",
    "    parse_dates=True\n",
    ")\n",
    "tsla_df = pd.read_csv(\n",
    "    tsla_csv_path, \n",
    "    index_col=\"date\", \n",
    "    infer_datetime_format=True, \n",
    "    parse_dates=True\n",
    ")\n",
    "sp500_df = pd.read_csv(\n",
    "    sp500_csv_path, \n",
    "    index_col=\"date\", \n",
    "    infer_datetime_format=True, \n",
    "    parse_dates=True\n",
    ")\n"
   ]
  },
  {
   "cell_type": "markdown",
   "metadata": {},
   "source": [
    "## Coding Statistical Measures in Python\n",
    "\n",
    "### Create a function named `calculate_mean`\n",
    "\n",
    "   - Calculate mean should return the average value for a given `list` or `Series`.\n",
    "\n",
    "   - $\\mu = \\frac{\\sum{x_{i}}}{n}$\n",
    "\n",
    "   - Choose a function name that will not conflict with any modules that may have been imported."
   ]
  },
  {
   "cell_type": "code",
   "execution_count": 41,
   "metadata": {},
   "outputs": [],
   "source": [
    "# Create a function named 'calculate_mean'.\n",
    "\n",
    "def calculate_mean(data):\n",
    "    #Convert all strings in returns list to floats\n",
    "    #returns = [float(x) for x in returns]\n",
    "    df = pd.DataFrame({'data' : data})\n",
    "    return df.mean()"
   ]
  },
  {
   "cell_type": "code",
   "execution_count": 42,
   "metadata": {},
   "outputs": [
    {
     "name": "stdout",
     "output_type": "stream",
     "text": [
      "data    3.0\n",
      "dtype: float64\n"
     ]
    }
   ],
   "source": [
    "# Test the `calculate_mean` function\n",
    "data = [1, 2, 3, 4, 5]\n",
    "data_average = calculate_mean(data)\n",
    "print(data_average)"
   ]
  },
  {
   "cell_type": "markdown",
   "metadata": {},
   "source": [
    "### Create a function named `calculate_variance`\n",
    "   - Variance is the squared average change around the mean.\n",
    "\n",
    "   - ${S}^2 = \\frac{\\sum{ (x_{i} - \\mu })^{2}}{ n - 1}$\n"
   ]
  },
  {
   "cell_type": "code",
   "execution_count": 43,
   "metadata": {},
   "outputs": [],
   "source": [
    "# Create a function named 'calculate_variance'.\n",
    "def calculate_variance(data_set):\n",
    "    df = pd.DataFrame({'data' : data})\n",
    "    return df.var()\n",
    "    "
   ]
  },
  {
   "cell_type": "code",
   "execution_count": 44,
   "metadata": {},
   "outputs": [
    {
     "name": "stdout",
     "output_type": "stream",
     "text": [
      "data    2.5\n",
      "dtype: float64\n"
     ]
    }
   ],
   "source": [
    "# Test the `calculate_variance` function\n",
    "data = [1, 2, 3, 4, 5]\n",
    "data_variance = calculate_variance(data)\n",
    "print(data_variance)"
   ]
  },
  {
   "cell_type": "markdown",
   "metadata": {},
   "source": [
    "### Create a function named `calculate_standard_deviation`\n",
    "\n",
    " - The standard deviation is the square root of the variance.\n",
    "\n",
    " - $\\sigma = \\sqrt{S^{2}}$"
   ]
  },
  {
   "cell_type": "code",
   "execution_count": 45,
   "metadata": {},
   "outputs": [],
   "source": [
    "# Create a function named 'calculate_standard_deviation'.\n",
    "def calculate_standard_deviation(data_set):\n",
    "    df = pd.DataFrame ({'data' : data})\n",
    "    return df.std()    "
   ]
  },
  {
   "cell_type": "code",
   "execution_count": 46,
   "metadata": {},
   "outputs": [
    {
     "name": "stdout",
     "output_type": "stream",
     "text": [
      "data    1.581139\n",
      "dtype: float64\n"
     ]
    }
   ],
   "source": [
    "# Test the `calculate_standard_deviation` function\n",
    "data = [1, 2, 3, 4, 5]\n",
    "data_standard_deviation = calculate_standard_deviation(data)\n",
    "print(data_standard_deviation)"
   ]
  },
  {
   "cell_type": "markdown",
   "metadata": {},
   "source": [
    "## Coding Helper Functions\n",
    "\n",
    "### Create a function named `check_value`\n",
    "\n",
    "   - The function should compare the most recent price of the asset to it's mean price.\n",
    "\n",
    "   - If the most recent price is greater than the mean price the asset is over-valued.\n",
    "\n",
    "   - If the most recent price is under than the mean price the asset is under-valued.\n",
    "\n",
    "   - If neither case is true then the most recent price must be at the mean price."
   ]
  },
  {
   "cell_type": "code",
   "execution_count": 47,
   "metadata": {},
   "outputs": [],
   "source": [
    "# Create a function to check to most recent price against the mean price to determine if the stock is overvalued.\n",
    "def check_value(current_price, mean_price):\n",
    "    if current_price > mean_price: \n",
    "        return \"The stock is overvalued.\"\n",
    "    elif current_price < mean_price:\n",
    "        return \"The stock is undervalued.\"\n",
    "    else:\n",
    "        return \"The stock is properly valued.\"\n",
    "    "
   ]
  },
  {
   "cell_type": "markdown",
   "metadata": {},
   "source": [
    "### Create a function named `compare_volatility`\n",
    "   \n",
    "   - The function should compare the standard deviation of an assets price change percentage to a market's.\n",
    "\n",
    "   - If the asset's standard deviation is greater than the market's the stock is more volatile otherwise it's less volatile."
   ]
  },
  {
   "cell_type": "code",
   "execution_count": 48,
   "metadata": {},
   "outputs": [],
   "source": [
    "# Create a function to compare the volatility with the underlying market\n",
    "def compare_volatility(stock_std, market_std):\n",
    "    if stock_std > market_std:\n",
    "        return \"The stock is more volatile.\"\n",
    "    elif stock_std < market_std:\n",
    "        return \"The stock is less volatile.\"\n",
    "    else:\n",
    "        return \"The stock volitility is on par with the market.\"\n",
    "    "
   ]
  },
  {
   "cell_type": "markdown",
   "metadata": {},
   "source": [
    "## Coding the Stocks Report\n",
    "\n",
    "### Calculate the Daily Percent Change for the SP500"
   ]
  },
  {
   "cell_type": "code",
   "execution_count": 49,
   "metadata": {},
   "outputs": [
    {
     "name": "stdout",
     "output_type": "stream",
     "text": [
      "               close\n",
      "date                \n",
      "2014-05-21  0.008116\n",
      "2014-05-22  0.002362\n",
      "2014-05-23  0.004248\n",
      "2014-05-27  0.005988\n",
      "2014-05-28 -0.001114\n",
      "...              ...\n",
      "2019-05-09 -0.003021\n",
      "2019-05-10  0.003720\n",
      "2019-05-13 -0.024131\n",
      "2019-05-14  0.008016\n",
      "2019-05-15  0.005839\n",
      "\n",
      "[1255 rows x 1 columns]\n"
     ]
    }
   ],
   "source": [
    "# Calculate the daily percent changes for sp500 and drop n/a values\n",
    "daily_returns = sp500_df.pct_change().dropna()\n",
    "print(daily_returns)"
   ]
  },
  {
   "cell_type": "markdown",
   "metadata": {},
   "source": [
    "## Calculate the Standard Deviation for the SP500"
   ]
  },
  {
   "cell_type": "code",
   "execution_count": 50,
   "metadata": {},
   "outputs": [
    {
     "name": "stdout",
     "output_type": "stream",
     "text": [
      "close    318.992692\n",
      "dtype: float64\n"
     ]
    }
   ],
   "source": [
    "# Calculate the standard deviation for the sp500\n",
    "sp500_standard_dev = sp500_df.std()\n",
    "print(sp500_standard_dev)"
   ]
  },
  {
   "cell_type": "markdown",
   "metadata": {},
   "source": [
    "### Create a Python Dictionary of Stocks to Run the Report On\n",
    "   \n",
    "   - Map each stock name to it's dataframe\n",
    "\n",
    "   - Do not include the SP500\n",
    "\n",
    "   - Example: stocks_to_check = {\"stock_name\" : stock_df}"
   ]
  },
  {
   "cell_type": "code",
   "execution_count": 53,
   "metadata": {},
   "outputs": [],
   "source": [
    "# Create a dictionary for all stocks except the sp500\n",
    "stocks = {\n",
    "    \"HD\" : hd_df,\n",
    "    \"INTC\" : intc_df,\n",
    "    \"MU\" : mu_df,\n",
    "    \"NVDA\" : nvda_df,\n",
    "    \"TSLA\" : tsla_df\n",
    "}"
   ]
  },
  {
   "cell_type": "markdown",
   "metadata": {},
   "source": [
    "### Generate the Report\n",
    "\n",
    "  - Loop through the dictionary of stocks.\n",
    "\n",
    "  - **Hint**: Use the `items()` method for dictionaries. You can read more on the [documentation page](https://docs.python.org/3/tutorial/datastructures.html#looping-techniques).\n",
    "\n",
    "  - For each stock:\n",
    "    * Calculate the daily percent change.\n",
    "    * Get the most recent price.\n",
    "    * Calculate the mean and standard deviation using the functions you created.\n",
    "    * Print the stock's name.\n",
    "    * Print the statistics that you calculated.\n",
    "    * Using `check_value` see if the stock is over or under valued.\n",
    "    * Using `compare_volatility` check if the stock is more or less volatile than the SP500\n",
    "    * Plot a box plot of the daily percent change"
   ]
  },
  {
   "cell_type": "code",
   "execution_count": 70,
   "metadata": {},
   "outputs": [
    {
     "ename": "TypeError",
     "evalue": "check_value() missing 1 required positional argument: 'mean_price'",
     "output_type": "error",
     "traceback": [
      "\u001b[1;31m---------------------------------------------------------------------------\u001b[0m",
      "\u001b[1;31mTypeError\u001b[0m                                 Traceback (most recent call last)",
      "\u001b[1;32m~\\AppData\\Local\\Temp\\ipykernel_20808\\1355805982.py\u001b[0m in \u001b[0;36m<module>\u001b[1;34m\u001b[0m\n\u001b[0;32m     24\u001b[0m \u001b[1;33m\u001b[0m\u001b[0m\n\u001b[0;32m     25\u001b[0m     \u001b[1;31m# Using check_value, check if the stock is overvalued or not\u001b[0m\u001b[1;33m\u001b[0m\u001b[1;33m\u001b[0m\u001b[1;33m\u001b[0m\u001b[0m\n\u001b[1;32m---> 26\u001b[1;33m     \u001b[0mcheck_value\u001b[0m\u001b[1;33m(\u001b[0m\u001b[0mdataframe\u001b[0m\u001b[1;33m)\u001b[0m\u001b[1;33m\u001b[0m\u001b[1;33m\u001b[0m\u001b[0m\n\u001b[0m\u001b[0;32m     27\u001b[0m \u001b[1;33m\u001b[0m\u001b[0m\n\u001b[0;32m     28\u001b[0m     \u001b[1;31m# Compare the stock's volatility with the market\u001b[0m\u001b[1;33m\u001b[0m\u001b[1;33m\u001b[0m\u001b[1;33m\u001b[0m\u001b[0m\n",
      "\u001b[1;31mTypeError\u001b[0m: check_value() missing 1 required positional argument: 'mean_price'"
     ]
    }
   ],
   "source": [
    "# Loop through the stocks in the dictionary and compare their performance with the sp500.\n",
    "\n",
    "for stock_name, dataframe in stocks.items():\n",
    "    \n",
    "    # Calculate the daily percent change for each stock\n",
    "  \n",
    "    daily_returns = dataframe.pct_change().dropna()\n",
    "    #print(daily_returns)\n",
    "    \n",
    "    # Get most recent price\n",
    "    most_recent_price = dataframe['close'].iloc[-1]\n",
    "    #print(most_recent_price)\n",
    "\n",
    "    # Calculate the mean price percent change\n",
    "    avg_pct_change = daily_returns.mean()\n",
    "    #print(avg_pct_change)\n",
    "    \n",
    "    # Calculate the standard deviation of the percent change\n",
    "    std_dev = daily_returns.std()\n",
    "    #print(std_dev)\n",
    "    \n",
    "    # Print the stock name and calculated statistics\n",
    "    #print(stock_name, dataframe.describe())\n",
    "\n",
    "    # Using check_value, check if the stock is overvalued or not\n",
    "    check_value\n",
    "    sp500_standard_dev\n",
    "\n",
    "    # Compare the stock's volatility with the market\n",
    "    "
   ]
  },
  {
   "cell_type": "code",
   "execution_count": null,
   "metadata": {},
   "outputs": [],
   "source": []
  }
 ],
 "metadata": {
  "interpreter": {
   "hash": "d26420431de51cf62b599d1a4cd83c6fba348aa73a9343faf14f9f0171d9fdc1"
  },
  "kernelspec": {
   "display_name": "Python 3 (ipykernel)",
   "language": "python",
   "name": "python3"
  },
  "language_info": {
   "codemirror_mode": {
    "name": "ipython",
    "version": 3
   },
   "file_extension": ".py",
   "mimetype": "text/x-python",
   "name": "python",
   "nbconvert_exporter": "python",
   "pygments_lexer": "ipython3",
   "version": "3.7.13"
  }
 },
 "nbformat": 4,
 "nbformat_minor": 4
}
