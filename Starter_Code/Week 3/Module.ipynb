{
 "cells": [
  {
   "cell_type": "code",
   "execution_count": 1,
   "id": "60f81e54-2fca-41a3-9a0f-9c78f593ce31",
   "metadata": {},
   "outputs": [],
   "source": [
    "#import required libraries\n",
    "import pandas as pd\n"
   ]
  },
  {
   "cell_type": "code",
   "execution_count": 25,
   "id": "407cbe28-e82d-4e42-bf60-07b0f9a76def",
   "metadata": {},
   "outputs": [
    {
     "ename": "SyntaxError",
     "evalue": "invalid syntax (2232895021.py, line 8)",
     "output_type": "error",
     "traceback": [
      "\u001b[1;36m  File \u001b[1;32m\"C:\\Users\\super\\AppData\\Local\\Temp\\ipykernel_17152\\2232895021.py\"\u001b[1;36m, line \u001b[1;32m8\u001b[0m\n\u001b[1;33m    sales_dataframe = sales_dataframe.rename(column{\u001b[0m\n\u001b[1;37m                                                   ^\u001b[0m\n\u001b[1;31mSyntaxError\u001b[0m\u001b[1;31m:\u001b[0m invalid syntax\n"
     ]
    }
   ],
   "source": [
    "from pathlib import Path\n",
    "csvpath = Path(\"C:\\\\Users\\\\super\\\\Desktop\\\\FinTech-Workspace\\\\Week 3\\\\02_Fix_Column_Headers\\\\sales_no_header.csv\")\n",
    "# csvpath = Path(\"../01_Import_Data/sales.csv\")\n",
    "sales_dataframe = pd.read_csv(csvpath, header=None)\n",
    "columns = [\"Full Name\", \"Email\", \"Zip Code\", \"Sale Price\"]\n",
    "sales_dataframe.columns = columns\n",
    "sales_dataframe.head()\n",
    "sales_dataframe = sales_dataframe.rename(column{\n",
    "    \"Full Name\": \"Name\"\n",
    "})\n"
   ]
  },
  {
   "cell_type": "code",
   "execution_count": null,
   "id": "0a2b7f60-720a-462a-875e-2110a331967f",
   "metadata": {},
   "outputs": [],
   "source": []
  },
  {
   "cell_type": "code",
   "execution_count": null,
   "id": "0e3a7e97-5c90-48dc-8928-ef0881e687fa",
   "metadata": {},
   "outputs": [],
   "source": []
  }
 ],
 "metadata": {
  "kernelspec": {
   "display_name": "Python (dev)",
   "language": "python",
   "name": "dev"
  },
  "language_info": {
   "codemirror_mode": {
    "name": "ipython",
    "version": 3
   },
   "file_extension": ".py",
   "mimetype": "text/x-python",
   "name": "python",
   "nbconvert_exporter": "python",
   "pygments_lexer": "ipython3",
   "version": "3.7.13"
  }
 },
 "nbformat": 4,
 "nbformat_minor": 5
}
