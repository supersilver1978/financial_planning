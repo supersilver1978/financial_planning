{
 "cells": [
  {
   "cell_type": "markdown",
   "metadata": {},
   "source": [
    "# Financial Planning with APIs and Simulations\n",
    "\n",
    "In this Challenge, you’ll create two financial analysis tools by using a single Jupyter notebook:\n",
    "\n",
    "Part 1: A financial planner for emergencies. The members will be able to use this tool to visualize their current savings. The members can then determine if they have enough reserves for an emergency fund.\n",
    "\n",
    "Part 2: A financial planner for retirement. This tool will forecast the performance of their retirement portfolio in 30 years. To do this, the tool will make an Alpaca API call via the Alpaca SDK to get historical price data for use in Monte Carlo simulations.\n",
    "\n",
    "You’ll use the information from the Monte Carlo simulation to answer questions about the portfolio in your Jupyter notebook.\n",
    "\n"
   ]
  },
  {
   "cell_type": "code",
   "execution_count": 1,
   "metadata": {},
   "outputs": [
    {
     "name": "stdout",
     "output_type": "stream",
     "text": [
      "['C:\\\\Users\\\\super\\\\fintech\\\\financial_planning', 'C:\\\\Users\\\\super\\\\anaconda3\\\\envs\\\\dev\\\\python37.zip', 'C:\\\\Users\\\\super\\\\anaconda3\\\\envs\\\\dev\\\\DLLs', 'C:\\\\Users\\\\super\\\\anaconda3\\\\envs\\\\dev\\\\lib', 'C:\\\\Users\\\\super\\\\anaconda3\\\\envs\\\\dev', '', 'C:\\\\Users\\\\super\\\\anaconda3\\\\envs\\\\dev\\\\lib\\\\site-packages', 'C:\\\\Users\\\\super\\\\anaconda3\\\\envs\\\\dev\\\\lib\\\\site-packages\\\\win32', 'C:\\\\Users\\\\super\\\\anaconda3\\\\envs\\\\dev\\\\lib\\\\site-packages\\\\win32\\\\lib', 'C:\\\\Users\\\\super\\\\anaconda3\\\\envs\\\\dev\\\\lib\\\\site-packages\\\\Pythonwin', 'C:\\\\Users\\\\super\\\\anaconda3\\\\envs\\\\dev\\\\lib\\\\site-packages\\\\IPython\\\\extensions', 'C:\\\\Users\\\\super\\\\.ipython']\n"
     ]
    }
   ],
   "source": [
    "# Import the required libraries and dependencies\n",
    "import os\n",
    "import requests\n",
    "import json\n",
    "import pandas as pd\n",
    "from dotenv import load_dotenv\n",
    "\n",
    "import sys\n",
    "print(sys.path)\n",
    "sys.path.append('C:\\\\Users\\\\super\\\\anaconda3\\\\lib\\\\site-packages')\n",
    "\n",
    "\n",
    "import alpaca_trade_api as tradeapi\n",
    "from MCForecastTools import MCSimulation\n",
    "\n",
    "%matplotlib inline"
   ]
  },
  {
   "cell_type": "code",
   "execution_count": 2,
   "metadata": {},
   "outputs": [
    {
     "data": {
      "text/plain": [
       "True"
      ]
     },
     "execution_count": 2,
     "metadata": {},
     "output_type": "execute_result"
    }
   ],
   "source": [
    "# Load the environment variables from the .env file\n",
    "#by calling the load_dotenv function\n",
    "load_dotenv()"
   ]
  },
  {
   "cell_type": "markdown",
   "metadata": {},
   "source": [
    "## Part 1: Create a Financial Planner for Emergencies"
   ]
  },
  {
   "cell_type": "markdown",
   "metadata": {},
   "source": [
    "### Evaluate the Cryptocurrency Wallet by Using the Requests Library\n",
    "\n",
    "In this section, you’ll determine the current value of a member’s cryptocurrency wallet. You’ll collect the current prices for the Bitcoin and Ethereum cryptocurrencies by using the Python Requests library. For the prototype, you’ll assume that the member holds the 1.2 Bitcoins (BTC) and 5.3 Ethereum coins (ETH). To do all this, complete the following steps:\n",
    "\n",
    "1. Create a variable named `monthly_income`, and set its value to `12000`.\n",
    "\n",
    "2. Use the Requests library to get the current price (in US dollars) of Bitcoin (BTC) and Ethereum (ETH) by using the API endpoints that the starter code supplies.\n",
    "\n",
    "3. Navigate the JSON response object to access the current price of each coin, and store each in a variable.\n",
    "\n",
    "    > **Hint** Note the specific identifier for each cryptocurrency in the API JSON response. The Bitcoin identifier is `1`, and the Ethereum identifier is `1027`.\n",
    "\n",
    "4. Calculate the value, in US dollars, of the current amount of each cryptocurrency and of the entire cryptocurrency wallet.\n",
    "\n"
   ]
  },
  {
   "cell_type": "code",
   "execution_count": 3,
   "metadata": {},
   "outputs": [],
   "source": [
    "# The current number of coins for each cryptocurrency asset held in the portfolio.\n",
    "btc_coins = 1.2\n",
    "eth_coins = 5.3"
   ]
  },
  {
   "cell_type": "markdown",
   "metadata": {},
   "source": [
    "#### Step 1: Create a variable named `monthly_income`, and set its value to `12000`."
   ]
  },
  {
   "cell_type": "code",
   "execution_count": 4,
   "metadata": {},
   "outputs": [],
   "source": [
    "# The monthly amount for the member's household income\n",
    "monthly_income = 12000\n"
   ]
  },
  {
   "cell_type": "markdown",
   "metadata": {},
   "source": [
    "#### Review the endpoint URLs for the API calls to Free Crypto API in order to get the current pricing information for both BTC and ETH."
   ]
  },
  {
   "cell_type": "code",
   "execution_count": 5,
   "metadata": {},
   "outputs": [],
   "source": [
    "# The Free Crypto API Call endpoint URLs for the held cryptocurrency assets\n",
    "btc_url = \"https://api.alternative.me/v2/ticker/Bitcoin/?convert=USD\"\n",
    "eth_url = \"https://api.alternative.me/v2/ticker/Ethereum/?convert=USD\""
   ]
  },
  {
   "cell_type": "markdown",
   "metadata": {},
   "source": [
    "#### Step 2. Use the Requests library to get the current price (in US dollars) of Bitcoin (BTC) and Ethereum (ETH) by using the API endpoints that the starter code supplied."
   ]
  },
  {
   "cell_type": "code",
   "execution_count": 6,
   "metadata": {},
   "outputs": [
    {
     "name": "stdout",
     "output_type": "stream",
     "text": [
      "{\n",
      "    \"data\": {\n",
      "        \"1\": {\n",
      "            \"circulating_supply\": 19350931,\n",
      "            \"id\": 1,\n",
      "            \"last_updated\": 1681935295,\n",
      "            \"max_supply\": 21000000,\n",
      "            \"name\": \"Bitcoin\",\n",
      "            \"quotes\": {\n",
      "                \"USD\": {\n",
      "                    \"market_cap\": 566303767421,\n",
      "                    \"percent_change_1h\": -0.086310096489076,\n",
      "                    \"percent_change_24h\": -3.2186862462741,\n",
      "                    \"percent_change_7d\": -3.29142634351822,\n",
      "                    \"percentage_change_1h\": -0.086310096489076,\n",
      "                    \"percentage_change_24h\": -3.2186862462741,\n",
      "                    \"percentage_change_7d\": -3.29142634351822,\n",
      "                    \"price\": 29265.0,\n",
      "                    \"volume_24h\": 22009137536\n",
      "                }\n",
      "            },\n",
      "            \"rank\": 1,\n",
      "            \"symbol\": \"BTC\",\n",
      "            \"total_supply\": 19350931,\n",
      "            \"website_slug\": \"bitcoin\"\n",
      "        }\n",
      "    },\n",
      "    \"metadata\": {\n",
      "        \"error\": null,\n",
      "        \"num_cryptocurrencies\": 3119,\n",
      "        \"timestamp\": 1681935295\n",
      "    }\n",
      "}\n"
     ]
    }
   ],
   "source": [
    "# Using the Python requests library, make an API call to access the current price of BTC\n",
    "btc_response = requests.get(btc_url).json()\n",
    "\n",
    "# Use the json.dumps function to review the response data from the API call\n",
    "# Use the indent and sort_keys parameters to make the response object readable\n",
    "print(json.dumps(btc_response, indent=4, sort_keys=True))\n"
   ]
  },
  {
   "cell_type": "code",
   "execution_count": 7,
   "metadata": {},
   "outputs": [
    {
     "name": "stdout",
     "output_type": "stream",
     "text": [
      "{\n",
      "    \"data\": {\n",
      "        \"1027\": {\n",
      "            \"circulating_supply\": 119344051,\n",
      "            \"id\": 1027,\n",
      "            \"last_updated\": 1681935291,\n",
      "            \"max_supply\": 119344051,\n",
      "            \"name\": \"Ethereum\",\n",
      "            \"quotes\": {\n",
      "                \"USD\": {\n",
      "                    \"market_cap\": 236671297498,\n",
      "                    \"percent_change_1h\": 0.0739937584015828,\n",
      "                    \"percent_change_24h\": -4.78766955366714,\n",
      "                    \"percent_change_7d\": 4.7473678892586,\n",
      "                    \"percentage_change_1h\": 0.0739937584015828,\n",
      "                    \"percentage_change_24h\": -4.78766955366714,\n",
      "                    \"percentage_change_7d\": 4.7473678892586,\n",
      "                    \"price\": 1982.8,\n",
      "                    \"volume_24h\": 14608385459\n",
      "                }\n",
      "            },\n",
      "            \"rank\": 2,\n",
      "            \"symbol\": \"ETH\",\n",
      "            \"total_supply\": 119344051,\n",
      "            \"website_slug\": \"ethereum\"\n",
      "        }\n",
      "    },\n",
      "    \"metadata\": {\n",
      "        \"error\": null,\n",
      "        \"num_cryptocurrencies\": 3119,\n",
      "        \"timestamp\": 1681935291\n",
      "    }\n",
      "}\n"
     ]
    }
   ],
   "source": [
    "# Using the Python requests library, make an API call to access the current price ETH\n",
    "eth_response = requests.get(eth_url).json()\n",
    "\n",
    "# Use the json.dumps function to review the response data from the API call\n",
    "# Use the indent and sort_keys parameters to make the response object readable\n",
    "\n",
    "print(json.dumps(eth_response, indent=4, sort_keys=True))"
   ]
  },
  {
   "cell_type": "markdown",
   "metadata": {},
   "source": [
    "#### Step 3: Navigate the JSON response object to access the current price of each coin, and store each in a variable."
   ]
  },
  {
   "cell_type": "code",
   "execution_count": 8,
   "metadata": {},
   "outputs": [
    {
     "name": "stdout",
     "output_type": "stream",
     "text": [
      "The current price of BTC is $29265.00.\n"
     ]
    }
   ],
   "source": [
    "# Navigate the BTC response object to access the current price of BTC\n",
    "btc_price = btc_response[\"data\"][\"1\"][\"quotes\"][\"USD\"][\"price\"]\n",
    "\n",
    "# Print the current price of BTC\n",
    "print(f\"The current price of BTC is ${btc_price:.2f}.\")"
   ]
  },
  {
   "cell_type": "code",
   "execution_count": 9,
   "metadata": {},
   "outputs": [
    {
     "name": "stdout",
     "output_type": "stream",
     "text": [
      "The current price of ETH is $1982.80.\n"
     ]
    }
   ],
   "source": [
    "# Navigate the BTC response object to access the current price of ETH\n",
    "eth_price = eth_response[\"data\"][\"1027\"][\"quotes\"][\"USD\"][\"price\"]\n",
    "\n",
    "# Print the current price of ETH\n",
    "print(f\"The current price of ETH is ${eth_price:.2f}.\")\n"
   ]
  },
  {
   "cell_type": "markdown",
   "metadata": {},
   "source": [
    "### Step 4: Calculate the value, in US dollars, of the current amount of each cryptocurrency and of the entire cryptocurrency wallet."
   ]
  },
  {
   "cell_type": "code",
   "execution_count": 10,
   "metadata": {},
   "outputs": [
    {
     "name": "stdout",
     "output_type": "stream",
     "text": [
      "The current value of your BTC is $35118.00.\n"
     ]
    }
   ],
   "source": [
    "# Compute the current value of the BTC holding \n",
    "btc_value = btc_coins * btc_price\n",
    "\n",
    "# Print current value of your holding in BTC\n",
    "print(f\"The current value of your BTC is ${btc_value:.2f}.\")\n"
   ]
  },
  {
   "cell_type": "code",
   "execution_count": 11,
   "metadata": {},
   "outputs": [
    {
     "name": "stdout",
     "output_type": "stream",
     "text": [
      "The current value of your ETH is $10508.84.\n"
     ]
    }
   ],
   "source": [
    "# Compute the current value of the ETH holding \n",
    "eth_value = eth_coins * eth_price\n",
    "\n",
    "# Print current value of your holding in ETH\n",
    "print(f\"The current value of your ETH is ${eth_value:.2f}.\")\n"
   ]
  },
  {
   "cell_type": "code",
   "execution_count": 12,
   "metadata": {},
   "outputs": [
    {
     "name": "stdout",
     "output_type": "stream",
     "text": [
      "Your cryptocurrency wallet balence is $45626.84.\n"
     ]
    }
   ],
   "source": [
    "# Compute the total value of the cryptocurrency wallet\n",
    "# Add the value of the BTC holding to the value of the ETH holding\n",
    "total_crypto_wallet = btc_value + eth_value\n",
    "\n",
    "# Print current cryptocurrency wallet balance\n",
    "print(f\"Your cryptocurrency wallet balence is ${total_crypto_wallet}.\")"
   ]
  },
  {
   "cell_type": "markdown",
   "metadata": {},
   "source": [
    "### Evaluate the Stock and Bond Holdings by Using the Alpaca SDK\n",
    "\n",
    "In this section, you’ll determine the current value of a member’s stock and bond holdings. You’ll make an API call to Alpaca via the Alpaca SDK to get the current closing prices of the SPDR S&P 500 ETF Trust (ticker: SPY) and of the iShares Core US Aggregate Bond ETF (ticker: AGG). For the prototype, assume that the member holds 110 shares of SPY, which represents the stock portion of their portfolio, and 200 shares of AGG, which represents the bond portion. To do all this, complete the following steps:\n",
    "\n",
    "1. In the `Starter_Code` folder, create an environment file (`.env`) to store the values of your Alpaca API key and Alpaca secret key.\n",
    "\n",
    "2. Set the variables for the Alpaca API and secret keys. Using the Alpaca SDK, create the Alpaca `tradeapi.REST` object. In this object, include the parameters for the Alpaca API key, the secret key, and the version number.\n",
    "\n",
    "3. Set the following parameters for the Alpaca API call:\n",
    "\n",
    "    - `tickers`: Use the tickers for the member’s stock and bond holdings.\n",
    "\n",
    "    - `timeframe`: Use a time frame of one day.\n",
    "\n",
    "    - `start_date` and `end_date`: Use the same date for these parameters, and format them with the date of the previous weekday (or `2020-08-07`). This is because you want the one closing price for the most-recent trading day.\n",
    "\n",
    "4. Get the current closing prices for `SPY` and `AGG` by using the Alpaca `get_bars` function. Format the response as a Pandas DataFrame by including the `df` property at the end of the `get_bars` function.\n",
    "\n",
    "5. Navigating the Alpaca response DataFrame, select the `SPY` and `AGG` closing prices, and store them as variables.\n",
    "\n",
    "6. Calculate the value, in US dollars, of the current amount of shares in each of the stock and bond portions of the portfolio, and print the results.\n"
   ]
  },
  {
   "cell_type": "markdown",
   "metadata": {},
   "source": [
    "#### Review the total number of shares held in both (SPY) and (AGG)."
   ]
  },
  {
   "cell_type": "code",
   "execution_count": 13,
   "metadata": {},
   "outputs": [],
   "source": [
    "# Current amount of shares held in both the stock (SPY) and bond (AGG) portion of the portfolio.\n",
    "spy_shares = 110\n",
    "agg_shares = 200\n"
   ]
  },
  {
   "cell_type": "markdown",
   "metadata": {},
   "source": [
    "#### Step 1: In the `Starter_Code` folder, create an environment file (`.env`) to store the values of your Alpaca API key and Alpaca secret key."
   ]
  },
  {
   "cell_type": "markdown",
   "metadata": {},
   "source": [
    "#### Step 2: Set the variables for the Alpaca API and secret keys. Using the Alpaca SDK, create the Alpaca `tradeapi.REST` object. In this object, include the parameters for the Alpaca API key, the secret key, and the version number."
   ]
  },
  {
   "cell_type": "code",
   "execution_count": 14,
   "metadata": {},
   "outputs": [],
   "source": [
    "# Set the variables for the Alpaca API and secret keys\n",
    "alpaca_api_key = os.getenv(\"ALPACA_API_KEY\")\n",
    "alpaca_secret_key = os.getenv(\"ALPACA_SECRET_KEY\")\n",
    "\n",
    "# Create the Alpaca tradeapi.REST object\n",
    "alpaca = tradeapi.REST(\n",
    "    alpaca_api_key,\n",
    "    alpaca_secret_key,\n",
    "    api_version=\"v2\")\n"
   ]
  },
  {
   "cell_type": "markdown",
   "metadata": {},
   "source": [
    "#### Step 3: Set the following parameters for the Alpaca API call:\n",
    "\n",
    "- `tickers`: Use the tickers for the member’s stock and bond holdings.\n",
    "\n",
    "- `timeframe`: Use a time frame of one day.\n",
    "\n",
    "- `start_date` and `end_date`: Use the same date for these parameters, and format them with the date of the previous weekday (or `2020-08-07`). This is because you want the one closing price for the most-recent trading day.\n"
   ]
  },
  {
   "cell_type": "code",
   "execution_count": 15,
   "metadata": {},
   "outputs": [],
   "source": [
    "# Set the tickers for both the bond and stock portion of the portfolio\n",
    "tickers = [\"SPY\", \"AGG\"]\n",
    "\n",
    "# Set timeframe to 1Day\n",
    "timeframe = [\"1D\"]\n",
    "\n",
    "# Format current date as ISO format\n",
    "# Set both the start and end date at the date of your prior weekday \n",
    "# This will give you the closing price of the previous trading day\n",
    "# Alternatively you can use a start and end date of 2020-08-07\n",
    "\n",
    "start_date = pd.Timestamp(\"2023-04-18\", tz=\"America/New_York\").isoformat()\n",
    "end_date = pd.Timestamp(\"2023-04-18\", tz=\"America/New_York\").isoformat()"
   ]
  },
  {
   "cell_type": "markdown",
   "metadata": {},
   "source": [
    "#### Step 4: Get the current closing prices for `SPY` and `AGG` by using the Alpaca `get_bars` function. Format the response as a Pandas DataFrame by including the `df` property at the end of the `get_bars` function."
   ]
  },
  {
   "cell_type": "code",
   "execution_count": 16,
   "metadata": {},
   "outputs": [
    {
     "data": {
      "text/html": [
       "<div>\n",
       "<style scoped>\n",
       "    .dataframe tbody tr th:only-of-type {\n",
       "        vertical-align: middle;\n",
       "    }\n",
       "\n",
       "    .dataframe tbody tr th {\n",
       "        vertical-align: top;\n",
       "    }\n",
       "\n",
       "    .dataframe thead th {\n",
       "        text-align: right;\n",
       "    }\n",
       "</style>\n",
       "<table border=\"1\" class=\"dataframe\">\n",
       "  <thead>\n",
       "    <tr style=\"text-align: right;\">\n",
       "      <th></th>\n",
       "      <th>open</th>\n",
       "      <th>high</th>\n",
       "      <th>low</th>\n",
       "      <th>close</th>\n",
       "      <th>volume</th>\n",
       "      <th>trade_count</th>\n",
       "      <th>vwap</th>\n",
       "      <th>symbol</th>\n",
       "    </tr>\n",
       "    <tr>\n",
       "      <th>timestamp</th>\n",
       "      <th></th>\n",
       "      <th></th>\n",
       "      <th></th>\n",
       "      <th></th>\n",
       "      <th></th>\n",
       "      <th></th>\n",
       "      <th></th>\n",
       "      <th></th>\n",
       "    </tr>\n",
       "  </thead>\n",
       "  <tbody>\n",
       "    <tr>\n",
       "      <th>2023-04-18 04:00:00+00:00</th>\n",
       "      <td>98.91</td>\n",
       "      <td>99.16</td>\n",
       "      <td>98.9100</td>\n",
       "      <td>99.04</td>\n",
       "      <td>4708306</td>\n",
       "      <td>17596</td>\n",
       "      <td>99.023574</td>\n",
       "      <td>AGG</td>\n",
       "    </tr>\n",
       "    <tr>\n",
       "      <th>2023-04-18 04:00:00+00:00</th>\n",
       "      <td>415.58</td>\n",
       "      <td>415.72</td>\n",
       "      <td>412.7802</td>\n",
       "      <td>414.21</td>\n",
       "      <td>61604564</td>\n",
       "      <td>477409</td>\n",
       "      <td>414.072352</td>\n",
       "      <td>SPY</td>\n",
       "    </tr>\n",
       "  </tbody>\n",
       "</table>\n",
       "</div>"
      ],
      "text/plain": [
       "                             open    high       low   close    volume  \\\n",
       "timestamp                                                               \n",
       "2023-04-18 04:00:00+00:00   98.91   99.16   98.9100   99.04   4708306   \n",
       "2023-04-18 04:00:00+00:00  415.58  415.72  412.7802  414.21  61604564   \n",
       "\n",
       "                           trade_count        vwap symbol  \n",
       "timestamp                                                  \n",
       "2023-04-18 04:00:00+00:00        17596   99.023574    AGG  \n",
       "2023-04-18 04:00:00+00:00       477409  414.072352    SPY  "
      ]
     },
     "execution_count": 16,
     "metadata": {},
     "output_type": "execute_result"
    }
   ],
   "source": [
    "# Use the Alpaca get_bars function to get current closing prices the portfolio\n",
    "# Be sure to set the `df` property after the function to format the response object as a DataFrame\n",
    "prices_df = alpaca.get_bars(\n",
    "    tickers,\n",
    "    timeframe, \n",
    "    start=start_date,\n",
    "    end=end_date\n",
    ").df\n",
    "\n",
    "prices_df"
   ]
  },
  {
   "cell_type": "code",
   "execution_count": 17,
   "metadata": {},
   "outputs": [
    {
     "data": {
      "text/html": [
       "<div>\n",
       "<style scoped>\n",
       "    .dataframe tbody tr th:only-of-type {\n",
       "        vertical-align: middle;\n",
       "    }\n",
       "\n",
       "    .dataframe tbody tr th {\n",
       "        vertical-align: top;\n",
       "    }\n",
       "\n",
       "    .dataframe thead tr th {\n",
       "        text-align: left;\n",
       "    }\n",
       "\n",
       "    .dataframe thead tr:last-of-type th {\n",
       "        text-align: right;\n",
       "    }\n",
       "</style>\n",
       "<table border=\"1\" class=\"dataframe\">\n",
       "  <thead>\n",
       "    <tr>\n",
       "      <th></th>\n",
       "      <th colspan=\"7\" halign=\"left\">SPY</th>\n",
       "      <th colspan=\"7\" halign=\"left\">AGG</th>\n",
       "    </tr>\n",
       "    <tr>\n",
       "      <th></th>\n",
       "      <th>open</th>\n",
       "      <th>high</th>\n",
       "      <th>low</th>\n",
       "      <th>close</th>\n",
       "      <th>volume</th>\n",
       "      <th>trade_count</th>\n",
       "      <th>vwap</th>\n",
       "      <th>open</th>\n",
       "      <th>high</th>\n",
       "      <th>low</th>\n",
       "      <th>close</th>\n",
       "      <th>volume</th>\n",
       "      <th>trade_count</th>\n",
       "      <th>vwap</th>\n",
       "    </tr>\n",
       "    <tr>\n",
       "      <th>timestamp</th>\n",
       "      <th></th>\n",
       "      <th></th>\n",
       "      <th></th>\n",
       "      <th></th>\n",
       "      <th></th>\n",
       "      <th></th>\n",
       "      <th></th>\n",
       "      <th></th>\n",
       "      <th></th>\n",
       "      <th></th>\n",
       "      <th></th>\n",
       "      <th></th>\n",
       "      <th></th>\n",
       "      <th></th>\n",
       "    </tr>\n",
       "  </thead>\n",
       "  <tbody>\n",
       "    <tr>\n",
       "      <th>2023-04-18 04:00:00+00:00</th>\n",
       "      <td>415.58</td>\n",
       "      <td>415.72</td>\n",
       "      <td>412.7802</td>\n",
       "      <td>414.21</td>\n",
       "      <td>61604564</td>\n",
       "      <td>477409</td>\n",
       "      <td>414.072352</td>\n",
       "      <td>98.91</td>\n",
       "      <td>99.16</td>\n",
       "      <td>98.91</td>\n",
       "      <td>99.04</td>\n",
       "      <td>4708306</td>\n",
       "      <td>17596</td>\n",
       "      <td>99.023574</td>\n",
       "    </tr>\n",
       "  </tbody>\n",
       "</table>\n",
       "</div>"
      ],
      "text/plain": [
       "                              SPY                                      \\\n",
       "                             open    high       low   close    volume   \n",
       "timestamp                                                               \n",
       "2023-04-18 04:00:00+00:00  415.58  415.72  412.7802  414.21  61604564   \n",
       "\n",
       "                                                     AGG                       \\\n",
       "                          trade_count        vwap   open   high    low  close   \n",
       "timestamp                                                                       \n",
       "2023-04-18 04:00:00+00:00      477409  414.072352  98.91  99.16  98.91  99.04   \n",
       "\n",
       "                                                           \n",
       "                            volume trade_count       vwap  \n",
       "timestamp                                                  \n",
       "2023-04-18 04:00:00+00:00  4708306       17596  99.023574  "
      ]
     },
     "execution_count": 17,
     "metadata": {},
     "output_type": "execute_result"
    }
   ],
   "source": [
    "# Reorganize the DataFrame\n",
    "# Separate ticker data\n",
    "spy_df = prices_df[prices_df['symbol'] == 'SPY'].drop(\"symbol\", axis=1)\n",
    "agg_df = prices_df[prices_df['symbol'] == 'AGG'].drop(\"symbol\", axis=1)\n",
    "\n",
    "# Concatenate the ticker DataFrames\n",
    "spy_agg_df = pd.concat([spy_df, agg_df],axis=1,keys=[\"SPY\", \"AGG\"])\n",
    "spy_agg_df                 \n",
    "\n"
   ]
  },
  {
   "cell_type": "code",
   "execution_count": 18,
   "metadata": {},
   "outputs": [],
   "source": [
    "#Other methods to use:\n",
    "\n",
    "#spy_df = prices_df.loc[prices_df['symbol'] == 'SPY', ['close']]\n",
    "#agg_df = prices_df.loc[prices_df['symbol'] == 'AGG', ['close']]\n",
    "\n",
    "# Rename the 'close' columns\n",
    "#spy_df.rename(columns={\"close\": \"SPY\"}, inplace=True)\n",
    "#agg_df.rename(columns={\"close\": \"AGG\"}, inplace=True)\n"
   ]
  },
  {
   "cell_type": "markdown",
   "metadata": {},
   "source": [
    "#### Step 5: Navigating the Alpaca response DataFrame, select the `SPY` and `AGG` closing prices, and store them as variables."
   ]
  },
  {
   "cell_type": "code",
   "execution_count": 19,
   "metadata": {},
   "outputs": [
    {
     "name": "stdout",
     "output_type": "stream",
     "text": [
      "99.04\n"
     ]
    }
   ],
   "source": [
    "# Access the closing price for AGG from the Alpaca DataFrame\n",
    "# Converting the value to a floating point number\n",
    "agg_close_price = float((spy_agg_df['AGG'][\"close\"][0]))\n",
    "\n",
    "# Print the AGG closing price\n",
    "print(agg_close_price)\n"
   ]
  },
  {
   "cell_type": "code",
   "execution_count": 20,
   "metadata": {},
   "outputs": [
    {
     "name": "stdout",
     "output_type": "stream",
     "text": [
      "414.21\n"
     ]
    }
   ],
   "source": [
    "# Access the closing price for SPY from the Alpaca DataFrame\n",
    "# Converting the value to a floating point number\n",
    "spy_close_price = (spy_agg_df[\"SPY\"][\"close\"][0]).astype(float)\n",
    "\n",
    "# Print the SPY closing price\n",
    "print(spy_close_price)\n"
   ]
  },
  {
   "cell_type": "markdown",
   "metadata": {},
   "source": [
    "#### Step 6: Calculate the value, in US dollars, of the current amount of shares in each of the stock and bond portions of the portfolio, and print the results."
   ]
  },
  {
   "cell_type": "code",
   "execution_count": 21,
   "metadata": {},
   "outputs": [
    {
     "name": "stdout",
     "output_type": "stream",
     "text": [
      "Current value of the bond portfolio is: $19808.0.\n"
     ]
    }
   ],
   "source": [
    "# Calculate the current value of the bond portion of the portfolio\n",
    "agg_value = agg_shares * agg_close_price\n",
    "\n",
    "# Print the current value of the bond portfolio\n",
    "print(f\"Current value of the bond portfolio is: ${agg_value}.\")"
   ]
  },
  {
   "cell_type": "code",
   "execution_count": 22,
   "metadata": {},
   "outputs": [
    {
     "name": "stdout",
     "output_type": "stream",
     "text": [
      "Current value of the stock portfolio is: $45563.1.\n"
     ]
    }
   ],
   "source": [
    "# Calculate the current value of the stock portion of the portfolio\n",
    "spy_value = spy_shares * spy_close_price\n",
    "\n",
    "# Print the current value of the stock portfolio\n",
    "print(f\"Current value of the stock portfolio is: ${spy_value}.\")"
   ]
  },
  {
   "cell_type": "code",
   "execution_count": 23,
   "metadata": {},
   "outputs": [
    {
     "name": "stdout",
     "output_type": "stream",
     "text": [
      "Current value of the total stock and bond portfolio is: $65371.1.\n"
     ]
    }
   ],
   "source": [
    "# Calculate the total value of the stock and bond portion of the portfolio\n",
    "total_stocks_bonds = agg_value + spy_value\n",
    "\n",
    "# Print the current balance of the stock and bond portion of the portfolio\n",
    "print(f\"Current value of the total stock and bond portfolio is: ${total_stocks_bonds}.\")"
   ]
  },
  {
   "cell_type": "code",
   "execution_count": 24,
   "metadata": {},
   "outputs": [
    {
     "name": "stdout",
     "output_type": "stream",
     "text": [
      "Your total portfolio balance is $110997.94.\n"
     ]
    }
   ],
   "source": [
    "# Calculate the total value of the member's entire savings portfolio\n",
    "# Add the value of the cryptocurrency walled to the value of the total stocks and bonds\n",
    "total_portfolio = total_stocks_bonds + total_crypto_wallet\n",
    "\n",
    "# Print total portfolio balance\n",
    "print(f\"Your total portfolio balance is ${total_portfolio:.2f}.\")"
   ]
  },
  {
   "cell_type": "markdown",
   "metadata": {},
   "source": [
    "### Evaluate the Emergency Fund\n",
    "\n",
    "In this section, you’ll use the valuations for the cryptocurrency wallet and for the stock and bond portions of the portfolio to determine if the credit union member has enough savings to build an emergency fund into their financial plan. To do this, complete the following steps:\n",
    "\n",
    "1. Create a Python list named `savings_data` that has two elements. The first element contains the total value of the cryptocurrency wallet. The second element contains the total value of the stock and bond portions of the portfolio.\n",
    "\n",
    "2. Use the `savings_data` list to create a Pandas DataFrame named `savings_df`, and then display this DataFrame. The function to create the DataFrame should take the following three parameters:\n",
    "\n",
    "    - `savings_data`: Use the list that you just created.\n",
    "\n",
    "    - `columns`: Set this parameter equal to a Python list with a single value called `amount`.\n",
    "\n",
    "    - `index`: Set this parameter equal to a Python list with the values of `crypto` and `stock/bond`.\n",
    "\n",
    "3. Use the `savings_df` DataFrame to plot a pie chart that visualizes the composition of the member’s portfolio. The y-axis of the pie chart uses `amount`. Be sure to add a title.\n",
    "\n",
    "4. Using Python, determine if the current portfolio has enough to create an emergency fund as part of the member’s financial plan. Ideally, an emergency fund should equal to three times the member’s monthly income. To do this, implement the following steps:\n",
    "\n",
    "    1. Create a variable named `emergency_fund_value`, and set it equal to three times the value of the member’s `monthly_income` of $12000. (You set this earlier in Part 1).\n",
    "\n",
    "    2. Create a series of three if statements to determine if the member’s total portfolio is large enough to fund the emergency portfolio:\n",
    "\n",
    "        1. If the total portfolio value is greater than the emergency fund value, display a message congratulating the member for having enough money in this fund.\n",
    "\n",
    "        2. Else if the total portfolio value is equal to the emergency fund value, display a message congratulating the member on reaching this important financial goal.\n",
    "\n",
    "        3. Else the total portfolio is less than the emergency fund value, so display a message showing how many dollars away the member is from reaching the goal. (Subtract the total portfolio value from the emergency fund value.)\n"
   ]
  },
  {
   "cell_type": "markdown",
   "metadata": {},
   "source": [
    "#### Step 1: Create a Python list named `savings_data` that has two elements. The first element contains the total value of the cryptocurrency wallet. The second element contains the total value of the stock and bond portions of the portfolio."
   ]
  },
  {
   "cell_type": "code",
   "execution_count": 25,
   "metadata": {},
   "outputs": [
    {
     "name": "stdout",
     "output_type": "stream",
     "text": [
      "[65371.1, 45626.84]\n"
     ]
    }
   ],
   "source": [
    "# Consolidate financial assets data into a Python list\n",
    "savings_data = [total_stocks_bonds, total_crypto_wallet]\n",
    "\n",
    "# Review the Python list savings_data\n",
    "print(savings_data)"
   ]
  },
  {
   "cell_type": "markdown",
   "metadata": {},
   "source": [
    "#### Step 2: Use the `savings_data` list to create a Pandas DataFrame named `savings_df`, and then display this DataFrame. The function to create the DataFrame should take the following three parameters:\n",
    "\n",
    "- `savings_data`: Use the list that you just created.\n",
    "\n",
    "- `columns`: Set this parameter equal to a Python list with a single value called `amount`.\n",
    "\n",
    "- `index`: Set this parameter equal to a Python list with the values of `crypto` and `stock/bond`.\n"
   ]
  },
  {
   "cell_type": "code",
   "execution_count": 26,
   "metadata": {},
   "outputs": [
    {
     "data": {
      "text/html": [
       "<div>\n",
       "<style scoped>\n",
       "    .dataframe tbody tr th:only-of-type {\n",
       "        vertical-align: middle;\n",
       "    }\n",
       "\n",
       "    .dataframe tbody tr th {\n",
       "        vertical-align: top;\n",
       "    }\n",
       "\n",
       "    .dataframe thead th {\n",
       "        text-align: right;\n",
       "    }\n",
       "</style>\n",
       "<table border=\"1\" class=\"dataframe\">\n",
       "  <thead>\n",
       "    <tr style=\"text-align: right;\">\n",
       "      <th></th>\n",
       "      <th>amount</th>\n",
       "    </tr>\n",
       "  </thead>\n",
       "  <tbody>\n",
       "    <tr>\n",
       "      <th>crypto</th>\n",
       "      <td>65371.10</td>\n",
       "    </tr>\n",
       "    <tr>\n",
       "      <th>stocks&amp;bonds</th>\n",
       "      <td>45626.84</td>\n",
       "    </tr>\n",
       "  </tbody>\n",
       "</table>\n",
       "</div>"
      ],
      "text/plain": [
       "                amount\n",
       "crypto        65371.10\n",
       "stocks&bonds  45626.84"
      ]
     },
     "metadata": {},
     "output_type": "display_data"
    }
   ],
   "source": [
    "# Create a Pandas DataFrame called savings_df \n",
    "savings_df = pd.DataFrame(savings_data, columns=[\"amount\"], index=[\"crypto\", \"stocks&bonds\"])\n",
    "\n",
    "# Display the savings_df DataFrame\n",
    "display(savings_df)\n"
   ]
  },
  {
   "cell_type": "markdown",
   "metadata": {},
   "source": [
    "#### Step 3: Use the `savings_df` DataFrame to plot a pie chart that visualizes the composition of the member’s portfolio. The y-axis of the pie chart uses `amount`. Be sure to add a title."
   ]
  },
  {
   "cell_type": "code",
   "execution_count": 27,
   "metadata": {},
   "outputs": [
    {
     "data": {
      "text/plain": [
       "<AxesSubplot:title={'center':\"Member's Total Portfolio\"}, ylabel='amount'>"
      ]
     },
     "execution_count": 27,
     "metadata": {},
     "output_type": "execute_result"
    },
    {
     "data": {
      "image/png": "[encoded data removed]",
      "text/plain": [
       "<Figure size 1000x500 with 1 Axes>"
      ]
     },
     "metadata": {},
     "output_type": "display_data"
    }
   ],
   "source": [
    "# Plot the total value of the member's portfolio (crypto and stock/bond) in a pie chart\n",
    "savings_df.plot.pie(y=\"amount\", title=\"Member's Total Portfolio\", figsize=(10, 5))\n"
   ]
  },
  {
   "cell_type": "markdown",
   "metadata": {},
   "source": [
    "#### Step 4: Using Python, determine if the current portfolio has enough to create an emergency fund as part of the member’s financial plan. Ideally, an emergency fund should equal to three times the member’s monthly income. To do this, implement the following steps:\n",
    "\n",
    "Step 1. Create a variable named `emergency_fund_value`, and set it equal to three times the value of the member’s `monthly_income` of 12000. (You set this earlier in Part 1).\n",
    "\n",
    "Step 2. Create a series of three if statements to determine if the member’s total portfolio is large enough to fund the emergency portfolio:\n",
    "\n",
    "* If the total portfolio value is greater than the emergency fund value, display a message congratulating the member for having enough money in this fund.\n",
    "\n",
    "* Else if the total portfolio value is equal to the emergency fund value, display a message congratulating the member on reaching this important financial goal.\n",
    "\n",
    "* Else the total portfolio is less than the emergency fund value, so display a message showing how many dollars away the member is from reaching the goal. (Subtract the total portfolio value from the emergency fund value.)\n"
   ]
  },
  {
   "cell_type": "markdown",
   "metadata": {},
   "source": [
    "##### Step 4-1: Create a variable named `emergency_fund_value`, and set it equal to three times the value of the member’s `monthly_income` of 12000. (You set this earlier in Part 1)."
   ]
  },
  {
   "cell_type": "code",
   "execution_count": 28,
   "metadata": {},
   "outputs": [
    {
     "data": {
      "text/plain": [
       "36000.0"
      ]
     },
     "execution_count": 28,
     "metadata": {},
     "output_type": "execute_result"
    }
   ],
   "source": [
    "# Create a variable named emergency_fund_value\n",
    "emergency_fund_value = float(3* monthly_income)\n",
    "emergency_fund_value"
   ]
  },
  {
   "cell_type": "markdown",
   "metadata": {},
   "source": [
    "##### Step 4-2: Create a series of three if statements to determine if the member’s total portfolio is large enough to fund the emergency portfolio:\n",
    "\n",
    "* If the total portfolio value is greater than the emergency fund value, display a message congratulating the member for having enough money in this fund.\n",
    "\n",
    "* Else if the total portfolio value is equal to the emergency fund value, display a message congratulating the member on reaching this important financial goal.\n",
    "\n",
    "* Else the total portfolio is less than the emergency fund value, so display a message showing how many dollars away the member is from reaching the goal. (Subtract the total portfolio value from the emergency fund value.)"
   ]
  },
  {
   "cell_type": "code",
   "execution_count": 29,
   "metadata": {},
   "outputs": [
    {
     "name": "stdout",
     "output_type": "stream",
     "text": [
      "Congratulations! You have exceeded your goal!\n"
     ]
    }
   ],
   "source": [
    "# Evaluate the possibility of creating an emergency fund with 3 conditions:\n",
    "if total_portfolio > emergency_fund_value:\n",
    "    print(\"Congratulations! You have exceeded your goal!\")\n",
    "elif total_portfolio == emergency_fund_value:\n",
    "    print(\"Congratulations! You have just reached your goal of meeting your emergency_fund_value.\")\n",
    "else:\n",
    "    goal = emergency_fund_value - total_portfolio\n",
    "    print(f\"Your goal is now ${goal} to cover an emergency fund.\")\n"
   ]
  },
  {
   "cell_type": "markdown",
   "metadata": {},
   "source": [
    "## Part 2: Create a Financial Planner for Retirement"
   ]
  },
  {
   "cell_type": "markdown",
   "metadata": {},
   "source": [
    "### Create the Monte Carlo Simulation\n",
    "\n",
    "In this section, you’ll use the MCForecastTools library to create a Monte Carlo simulation for the member’s savings portfolio. To do this, complete the following steps:\n",
    "\n",
    "1. Make an API call via the Alpaca SDK to get 3 years of historical closing prices for a traditional 60/40 portfolio split: 60% stocks (SPY) and 40% bonds (AGG).\n",
    "\n",
    "2. Run a Monte Carlo simulation of 500 samples and 30 years for the 60/40 portfolio, and then plot the results.The following image shows the overlay line plot resulting from a simulation with these characteristics. However, because a random number generator is used to run each live Monte Carlo simulation, your image will differ slightly from this exact image:\n",
    "\n",
    "![A screenshot depicts the resulting plot.](Images/5-4-monte-carlo-line-plot.png)\n",
    "\n",
    "3. Plot the probability distribution of the Monte Carlo simulation. Plot the probability distribution of the Monte Carlo simulation. The following image shows the histogram plot resulting from a simulation with these characteristics. However, because a random number generator is used to run each live Monte Carlo simulation, your image will differ slightly from this exact image:\n",
    "\n",
    "![A screenshot depicts the histogram plot.](Images/5-4-monte-carlo-histogram.png)\n",
    "\n",
    "4. Generate the summary statistics for the Monte Carlo simulation.\n",
    "\n"
   ]
  },
  {
   "cell_type": "markdown",
   "metadata": {},
   "source": [
    "#### Step 1: Make an API call via the Alpaca SDK to get 3 years of historical closing prices for a traditional 60/40 portfolio split: 60% stocks (SPY) and 40% bonds (AGG)."
   ]
  },
  {
   "cell_type": "code",
   "execution_count": 30,
   "metadata": {},
   "outputs": [],
   "source": [
    "# Set start and end dates of 3 years back from your current date\n",
    "# Alternatively, you can use an end date of 2020-08-07 and work 3 years back from that date \n",
    "start_date_3yr = pd.Timestamp(\"2020-04-18\", tz=\"America/New_York\").isoformat()\n",
    "end_date_3yr = pd.Timestamp(\"2023-04-18\", tz=\"America/New_York\").isoformat()"
   ]
  },
  {
   "cell_type": "code",
   "execution_count": 38,
   "metadata": {},
   "outputs": [
    {
     "data": {
      "text/html": [
       "<div>\n",
       "<style scoped>\n",
       "    .dataframe tbody tr th:only-of-type {\n",
       "        vertical-align: middle;\n",
       "    }\n",
       "\n",
       "    .dataframe tbody tr th {\n",
       "        vertical-align: top;\n",
       "    }\n",
       "\n",
       "    .dataframe thead th {\n",
       "        text-align: right;\n",
       "    }\n",
       "</style>\n",
       "<table border=\"1\" class=\"dataframe\">\n",
       "  <thead>\n",
       "    <tr style=\"text-align: right;\">\n",
       "      <th></th>\n",
       "      <th>open</th>\n",
       "      <th>high</th>\n",
       "      <th>low</th>\n",
       "      <th>close</th>\n",
       "      <th>volume</th>\n",
       "      <th>trade_count</th>\n",
       "      <th>vwap</th>\n",
       "      <th>symbol</th>\n",
       "    </tr>\n",
       "    <tr>\n",
       "      <th>timestamp</th>\n",
       "      <th></th>\n",
       "      <th></th>\n",
       "      <th></th>\n",
       "      <th></th>\n",
       "      <th></th>\n",
       "      <th></th>\n",
       "      <th></th>\n",
       "      <th></th>\n",
       "    </tr>\n",
       "  </thead>\n",
       "  <tbody>\n",
       "    <tr>\n",
       "      <th>2020-04-20 04:00:00+00:00</th>\n",
       "      <td>117.15</td>\n",
       "      <td>117.28</td>\n",
       "      <td>116.9400</td>\n",
       "      <td>117.0800</td>\n",
       "      <td>3847904</td>\n",
       "      <td>18508</td>\n",
       "      <td>117.030930</td>\n",
       "      <td>AGG</td>\n",
       "    </tr>\n",
       "    <tr>\n",
       "      <th>2020-04-21 04:00:00+00:00</th>\n",
       "      <td>117.43</td>\n",
       "      <td>117.44</td>\n",
       "      <td>117.0700</td>\n",
       "      <td>117.1400</td>\n",
       "      <td>4660507</td>\n",
       "      <td>19425</td>\n",
       "      <td>117.166762</td>\n",
       "      <td>AGG</td>\n",
       "    </tr>\n",
       "    <tr>\n",
       "      <th>2020-04-22 04:00:00+00:00</th>\n",
       "      <td>117.16</td>\n",
       "      <td>117.24</td>\n",
       "      <td>116.9400</td>\n",
       "      <td>117.1400</td>\n",
       "      <td>4647244</td>\n",
       "      <td>17538</td>\n",
       "      <td>117.056879</td>\n",
       "      <td>AGG</td>\n",
       "    </tr>\n",
       "    <tr>\n",
       "      <th>2020-04-23 04:00:00+00:00</th>\n",
       "      <td>117.33</td>\n",
       "      <td>117.45</td>\n",
       "      <td>117.1900</td>\n",
       "      <td>117.4200</td>\n",
       "      <td>4331115</td>\n",
       "      <td>18473</td>\n",
       "      <td>117.341656</td>\n",
       "      <td>AGG</td>\n",
       "    </tr>\n",
       "    <tr>\n",
       "      <th>2020-04-24 04:00:00+00:00</th>\n",
       "      <td>117.22</td>\n",
       "      <td>117.39</td>\n",
       "      <td>117.2000</td>\n",
       "      <td>117.3595</td>\n",
       "      <td>3162137</td>\n",
       "      <td>14100</td>\n",
       "      <td>117.295003</td>\n",
       "      <td>AGG</td>\n",
       "    </tr>\n",
       "    <tr>\n",
       "      <th>...</th>\n",
       "      <td>...</td>\n",
       "      <td>...</td>\n",
       "      <td>...</td>\n",
       "      <td>...</td>\n",
       "      <td>...</td>\n",
       "      <td>...</td>\n",
       "      <td>...</td>\n",
       "      <td>...</td>\n",
       "    </tr>\n",
       "    <tr>\n",
       "      <th>2023-04-12 04:00:00+00:00</th>\n",
       "      <td>411.87</td>\n",
       "      <td>412.17</td>\n",
       "      <td>407.4400</td>\n",
       "      <td>408.0500</td>\n",
       "      <td>86440377</td>\n",
       "      <td>639926</td>\n",
       "      <td>409.706051</td>\n",
       "      <td>SPY</td>\n",
       "    </tr>\n",
       "    <tr>\n",
       "      <th>2023-04-13 04:00:00+00:00</th>\n",
       "      <td>409.18</td>\n",
       "      <td>413.84</td>\n",
       "      <td>407.9922</td>\n",
       "      <td>413.4700</td>\n",
       "      <td>85814754</td>\n",
       "      <td>566796</td>\n",
       "      <td>411.717306</td>\n",
       "      <td>SPY</td>\n",
       "    </tr>\n",
       "    <tr>\n",
       "      <th>2023-04-14 04:00:00+00:00</th>\n",
       "      <td>412.81</td>\n",
       "      <td>415.09</td>\n",
       "      <td>410.0600</td>\n",
       "      <td>412.4600</td>\n",
       "      <td>75973321</td>\n",
       "      <td>573427</td>\n",
       "      <td>412.263399</td>\n",
       "      <td>SPY</td>\n",
       "    </tr>\n",
       "    <tr>\n",
       "      <th>2023-04-17 04:00:00+00:00</th>\n",
       "      <td>412.37</td>\n",
       "      <td>413.96</td>\n",
       "      <td>411.0850</td>\n",
       "      <td>413.9400</td>\n",
       "      <td>66436399</td>\n",
       "      <td>477978</td>\n",
       "      <td>412.589612</td>\n",
       "      <td>SPY</td>\n",
       "    </tr>\n",
       "    <tr>\n",
       "      <th>2023-04-18 04:00:00+00:00</th>\n",
       "      <td>415.58</td>\n",
       "      <td>415.72</td>\n",
       "      <td>412.7802</td>\n",
       "      <td>414.2100</td>\n",
       "      <td>61604564</td>\n",
       "      <td>477409</td>\n",
       "      <td>414.072352</td>\n",
       "      <td>SPY</td>\n",
       "    </tr>\n",
       "  </tbody>\n",
       "</table>\n",
       "<p>1510 rows × 8 columns</p>\n",
       "</div>"
      ],
      "text/plain": [
       "                             open    high       low     close    volume  \\\n",
       "timestamp                                                                 \n",
       "2020-04-20 04:00:00+00:00  117.15  117.28  116.9400  117.0800   3847904   \n",
       "2020-04-21 04:00:00+00:00  117.43  117.44  117.0700  117.1400   4660507   \n",
       "2020-04-22 04:00:00+00:00  117.16  117.24  116.9400  117.1400   4647244   \n",
       "2020-04-23 04:00:00+00:00  117.33  117.45  117.1900  117.4200   4331115   \n",
       "2020-04-24 04:00:00+00:00  117.22  117.39  117.2000  117.3595   3162137   \n",
       "...                           ...     ...       ...       ...       ...   \n",
       "2023-04-12 04:00:00+00:00  411.87  412.17  407.4400  408.0500  86440377   \n",
       "2023-04-13 04:00:00+00:00  409.18  413.84  407.9922  413.4700  85814754   \n",
       "2023-04-14 04:00:00+00:00  412.81  415.09  410.0600  412.4600  75973321   \n",
       "2023-04-17 04:00:00+00:00  412.37  413.96  411.0850  413.9400  66436399   \n",
       "2023-04-18 04:00:00+00:00  415.58  415.72  412.7802  414.2100  61604564   \n",
       "\n",
       "                           trade_count        vwap symbol  \n",
       "timestamp                                                  \n",
       "2020-04-20 04:00:00+00:00        18508  117.030930    AGG  \n",
       "2020-04-21 04:00:00+00:00        19425  117.166762    AGG  \n",
       "2020-04-22 04:00:00+00:00        17538  117.056879    AGG  \n",
       "2020-04-23 04:00:00+00:00        18473  117.341656    AGG  \n",
       "2020-04-24 04:00:00+00:00        14100  117.295003    AGG  \n",
       "...                                ...         ...    ...  \n",
       "2023-04-12 04:00:00+00:00       639926  409.706051    SPY  \n",
       "2023-04-13 04:00:00+00:00       566796  411.717306    SPY  \n",
       "2023-04-14 04:00:00+00:00       573427  412.263399    SPY  \n",
       "2023-04-17 04:00:00+00:00       477978  412.589612    SPY  \n",
       "2023-04-18 04:00:00+00:00       477409  414.072352    SPY  \n",
       "\n",
       "[1510 rows x 8 columns]"
      ]
     },
     "metadata": {},
     "output_type": "display_data"
    }
   ],
   "source": [
    "# Use the Alpaca get_bars function to make the API call to get the 3 years worth of pricing data\n",
    "# The tickers and timeframe parameters should have been set in Part 1 of this activity \n",
    "# The start and end dates should be updated with the information set above\n",
    "# Remember to add the df property to the end of the call so the response is returned as a DataFrame\n",
    "stocks_bonds_3yr_df = alpaca.get_bars([\"SPY\", \"AGG\"], '1D', start=start_date_3yr, end=end_date_3yr).df\n",
    "display(stocks_bonds_3yr_df)"
   ]
  },
  {
   "cell_type": "code",
   "execution_count": 39,
   "metadata": {},
   "outputs": [
    {
     "data": {
      "text/html": [
       "<div>\n",
       "<style scoped>\n",
       "    .dataframe tbody tr th:only-of-type {\n",
       "        vertical-align: middle;\n",
       "    }\n",
       "\n",
       "    .dataframe tbody tr th {\n",
       "        vertical-align: top;\n",
       "    }\n",
       "\n",
       "    .dataframe thead tr th {\n",
       "        text-align: left;\n",
       "    }\n",
       "\n",
       "    .dataframe thead tr:last-of-type th {\n",
       "        text-align: right;\n",
       "    }\n",
       "</style>\n",
       "<table border=\"1\" class=\"dataframe\">\n",
       "  <thead>\n",
       "    <tr>\n",
       "      <th></th>\n",
       "      <th colspan=\"7\" halign=\"left\">SPY</th>\n",
       "      <th colspan=\"7\" halign=\"left\">AGG</th>\n",
       "    </tr>\n",
       "    <tr>\n",
       "      <th></th>\n",
       "      <th>open</th>\n",
       "      <th>high</th>\n",
       "      <th>low</th>\n",
       "      <th>close</th>\n",
       "      <th>volume</th>\n",
       "      <th>trade_count</th>\n",
       "      <th>vwap</th>\n",
       "      <th>open</th>\n",
       "      <th>high</th>\n",
       "      <th>low</th>\n",
       "      <th>close</th>\n",
       "      <th>volume</th>\n",
       "      <th>trade_count</th>\n",
       "      <th>vwap</th>\n",
       "    </tr>\n",
       "    <tr>\n",
       "      <th>timestamp</th>\n",
       "      <th></th>\n",
       "      <th></th>\n",
       "      <th></th>\n",
       "      <th></th>\n",
       "      <th></th>\n",
       "      <th></th>\n",
       "      <th></th>\n",
       "      <th></th>\n",
       "      <th></th>\n",
       "      <th></th>\n",
       "      <th></th>\n",
       "      <th></th>\n",
       "      <th></th>\n",
       "      <th></th>\n",
       "    </tr>\n",
       "  </thead>\n",
       "  <tbody>\n",
       "    <tr>\n",
       "      <th>2023-04-18 04:00:00+00:00</th>\n",
       "      <td>415.58</td>\n",
       "      <td>415.72</td>\n",
       "      <td>412.7802</td>\n",
       "      <td>414.21</td>\n",
       "      <td>61604564</td>\n",
       "      <td>477409</td>\n",
       "      <td>414.072352</td>\n",
       "      <td>98.91</td>\n",
       "      <td>99.16</td>\n",
       "      <td>98.91</td>\n",
       "      <td>99.04</td>\n",
       "      <td>4708306</td>\n",
       "      <td>17596</td>\n",
       "      <td>99.023574</td>\n",
       "    </tr>\n",
       "  </tbody>\n",
       "</table>\n",
       "</div>"
      ],
      "text/plain": [
       "                              SPY                                      \\\n",
       "                             open    high       low   close    volume   \n",
       "timestamp                                                               \n",
       "2023-04-18 04:00:00+00:00  415.58  415.72  412.7802  414.21  61604564   \n",
       "\n",
       "                                                     AGG                       \\\n",
       "                          trade_count        vwap   open   high    low  close   \n",
       "timestamp                                                                       \n",
       "2023-04-18 04:00:00+00:00      477409  414.072352  98.91  99.16  98.91  99.04   \n",
       "\n",
       "                                                           \n",
       "                            volume trade_count       vwap  \n",
       "timestamp                                                  \n",
       "2023-04-18 04:00:00+00:00  4708306       17596  99.023574  "
      ]
     },
     "execution_count": 39,
     "metadata": {},
     "output_type": "execute_result"
    }
   ],
   "source": [
    "# Separate ticker data\n",
    "spy_3yr_df = stocks_bonds_3yr_df[stocks_bonds_3yr_df['symbol'] == 'SPY'].drop(\"symbol\", axis=1)\n",
    "agg_3yr_df = stocks_bonds_3yr_df[stocks_bonds_3yr_df['symbol'] == 'AGG'].drop(\"symbol\", axis=1)\n",
    "\n",
    "# Concatenate the ticker DataFrames\n",
    "spy_agg_df = pd.concat([spy_df, agg_df],axis=1,keys=[\"SPY\", \"AGG\"])\n",
    "\n",
    "# Display both the first and last five rows of the DataFrame\n",
    "spy_agg_df.head()\n",
    "spy_agg_df.tail()"
   ]
  },
  {
   "cell_type": "code",
   "execution_count": 41,
   "metadata": {},
   "outputs": [
    {
     "name": "stdout",
     "output_type": "stream",
     "text": [
      "symbol                          AGG     SPY\n",
      "timestamp                                  \n",
      "2020-04-20 04:00:00+00:00  117.0800  281.76\n",
      "2020-04-21 04:00:00+00:00  117.1400  273.17\n",
      "2020-04-22 04:00:00+00:00  117.1400  279.04\n",
      "2020-04-23 04:00:00+00:00  117.4200  279.01\n",
      "2020-04-24 04:00:00+00:00  117.3595  282.89\n",
      "symbol                       AGG     SPY\n",
      "timestamp                               \n",
      "2023-04-12 04:00:00+00:00  99.93  408.05\n",
      "2023-04-13 04:00:00+00:00  99.89  413.47\n",
      "2023-04-14 04:00:00+00:00  99.40  412.46\n",
      "2023-04-17 04:00:00+00:00  98.90  413.94\n",
      "2023-04-18 04:00:00+00:00  99.04  414.21\n"
     ]
    }
   ],
   "source": [
    "# Reorganize the DataFrame\n",
    "stocks_bonds_3yr_df.reset_index(inplace=True)\n",
    "prices_3yr_df = stocks_bonds_3yr_df.pivot(index='timestamp', columns='symbol', values='close')\n",
    "\n",
    "# Display both the first and last five rows of the DataFrame\n",
    "print(prices_3yr_df.head())\n",
    "print(prices_3yr_df.tail())"
   ]
  },
  {
   "cell_type": "markdown",
   "metadata": {},
   "source": [
    "#### Step 2: Run a Monte Carlo simulation of 500 samples and 30 years for the 60/40 portfolio, and then plot the results."
   ]
  },
  {
   "cell_type": "code",
   "execution_count": 44,
   "metadata": {},
   "outputs": [
    {
     "name": "stdout",
     "output_type": "stream",
     "text": [
      "symbol                          AGG     SPY\n",
      "                              close   close\n",
      "timestamp                                  \n",
      "2020-04-20 04:00:00+00:00  117.0800  281.76\n",
      "2020-04-21 04:00:00+00:00  117.1400  273.17\n",
      "2020-04-22 04:00:00+00:00  117.1400  279.04\n",
      "2020-04-23 04:00:00+00:00  117.4200  279.01\n",
      "2020-04-24 04:00:00+00:00  117.3595  282.89\n"
     ]
    }
   ],
   "source": [
    "# Create a multi-level column DataFrame\n",
    "prices_df_multiindex = pd.concat([prices_3yr_df], axis=1, keys=[\"close\"])\n",
    "\n",
    "# Set the column names to a multi-level index with the ticker symbols as the first level\n",
    "prices_df_multiindex.columns = pd.MultiIndex.from_product([prices_3yr_df.columns, ['close']])\n",
    "\n",
    "# Display the first few rows of the modified DataFrame\n",
    "print(prices_df_multiindex.head())"
   ]
  },
  {
   "cell_type": "code",
   "execution_count": 50,
   "metadata": {},
   "outputs": [
    {
     "data": {
      "text/html": [
       "<div>\n",
       "<style scoped>\n",
       "    .dataframe tbody tr th:only-of-type {\n",
       "        vertical-align: middle;\n",
       "    }\n",
       "\n",
       "    .dataframe tbody tr th {\n",
       "        vertical-align: top;\n",
       "    }\n",
       "\n",
       "    .dataframe thead tr th {\n",
       "        text-align: left;\n",
       "    }\n",
       "\n",
       "    .dataframe thead tr:last-of-type th {\n",
       "        text-align: right;\n",
       "    }\n",
       "</style>\n",
       "<table border=\"1\" class=\"dataframe\">\n",
       "  <thead>\n",
       "    <tr>\n",
       "      <th>symbol</th>\n",
       "      <th colspan=\"2\" halign=\"left\">AGG</th>\n",
       "      <th colspan=\"2\" halign=\"left\">SPY</th>\n",
       "    </tr>\n",
       "    <tr>\n",
       "      <th></th>\n",
       "      <th>close</th>\n",
       "      <th>daily_return</th>\n",
       "      <th>close</th>\n",
       "      <th>daily_return</th>\n",
       "    </tr>\n",
       "    <tr>\n",
       "      <th>timestamp</th>\n",
       "      <th></th>\n",
       "      <th></th>\n",
       "      <th></th>\n",
       "      <th></th>\n",
       "    </tr>\n",
       "  </thead>\n",
       "  <tbody>\n",
       "    <tr>\n",
       "      <th>2020-04-20 04:00:00+00:00</th>\n",
       "      <td>117.0800</td>\n",
       "      <td>NaN</td>\n",
       "      <td>281.76</td>\n",
       "      <td>NaN</td>\n",
       "    </tr>\n",
       "    <tr>\n",
       "      <th>2020-04-21 04:00:00+00:00</th>\n",
       "      <td>117.1400</td>\n",
       "      <td>0.000512</td>\n",
       "      <td>273.17</td>\n",
       "      <td>-0.030487</td>\n",
       "    </tr>\n",
       "    <tr>\n",
       "      <th>2020-04-22 04:00:00+00:00</th>\n",
       "      <td>117.1400</td>\n",
       "      <td>0.000000</td>\n",
       "      <td>279.04</td>\n",
       "      <td>0.021488</td>\n",
       "    </tr>\n",
       "    <tr>\n",
       "      <th>2020-04-23 04:00:00+00:00</th>\n",
       "      <td>117.4200</td>\n",
       "      <td>0.002390</td>\n",
       "      <td>279.01</td>\n",
       "      <td>-0.000108</td>\n",
       "    </tr>\n",
       "    <tr>\n",
       "      <th>2020-04-24 04:00:00+00:00</th>\n",
       "      <td>117.3595</td>\n",
       "      <td>-0.000515</td>\n",
       "      <td>282.89</td>\n",
       "      <td>0.013906</td>\n",
       "    </tr>\n",
       "  </tbody>\n",
       "</table>\n",
       "</div>"
      ],
      "text/plain": [
       "symbol                          AGG                  SPY             \n",
       "                              close daily_return   close daily_return\n",
       "timestamp                                                            \n",
       "2020-04-20 04:00:00+00:00  117.0800          NaN  281.76          NaN\n",
       "2020-04-21 04:00:00+00:00  117.1400     0.000512  273.17    -0.030487\n",
       "2020-04-22 04:00:00+00:00  117.1400     0.000000  279.04     0.021488\n",
       "2020-04-23 04:00:00+00:00  117.4200     0.002390  279.01    -0.000108\n",
       "2020-04-24 04:00:00+00:00  117.3595    -0.000515  282.89     0.013906"
      ]
     },
     "execution_count": 50,
     "metadata": {},
     "output_type": "execute_result"
    }
   ],
   "source": [
    "# Configure the Monte Carlo simulation to forecast 30 years cumulative returns\n",
    "# The weights should be split 40% to AGG and 60% to SPY.\n",
    "# Run 500 samples.\n",
    "mc_thirty_year = MCSimulation(\n",
    "    portfolio_data=prices_df_multiindex,\n",
    "    weights=[0.40, 0.60],\n",
    "    num_simulation=500,\n",
    "    num_trading_days=252*30\n",
    ")\n",
    "\n",
    "# Review the simulation input data\n",
    "mc_thirty_year.portfolio_data.head()\n"
   ]
  },
  {
   "cell_type": "code",
   "execution_count": 52,
   "metadata": {},
   "outputs": [
    {
     "name": "stdout",
     "output_type": "stream",
     "text": [
      "Running Monte Carlo simulation number 0.\n",
      "Running Monte Carlo simulation number 10.\n",
      "Running Monte Carlo simulation number 20.\n",
      "Running Monte Carlo simulation number 30.\n",
      "Running Monte Carlo simulation number 40.\n",
      "Running Monte Carlo simulation number 50.\n",
      "Running Monte Carlo simulation number 60.\n",
      "Running Monte Carlo simulation number 70.\n",
      "Running Monte Carlo simulation number 80.\n",
      "Running Monte Carlo simulation number 90.\n",
      "Running Monte Carlo simulation number 100.\n"
     ]
    },
    {
     "name": "stderr",
     "output_type": "stream",
     "text": [
      "C:\\Users\\super\\fintech\\financial_planning\\MCForecastTools.py:117: PerformanceWarning: DataFrame is highly fragmented.  This is usually the result of calling `frame.insert` many times, which has poor performance.  Consider joining all columns at once using pd.concat(axis=1) instead.  To get a de-fragmented frame, use `newframe = frame.copy()`\n",
      "  portfolio_cumulative_returns[n] = (1 + sim_df.fillna(0)).cumprod()\n"
     ]
    },
    {
     "name": "stdout",
     "output_type": "stream",
     "text": [
      "Running Monte Carlo simulation number 110.\n",
      "Running Monte Carlo simulation number 120.\n",
      "Running Monte Carlo simulation number 130.\n",
      "Running Monte Carlo simulation number 140.\n",
      "Running Monte Carlo simulation number 150.\n",
      "Running Monte Carlo simulation number 160.\n",
      "Running Monte Carlo simulation number 170.\n",
      "Running Monte Carlo simulation number 180.\n",
      "Running Monte Carlo simulation number 190.\n",
      "Running Monte Carlo simulation number 200.\n",
      "Running Monte Carlo simulation number 210.\n",
      "Running Monte Carlo simulation number 220.\n",
      "Running Monte Carlo simulation number 230.\n",
      "Running Monte Carlo simulation number 240.\n",
      "Running Monte Carlo simulation number 250.\n",
      "Running Monte Carlo simulation number 260.\n",
      "Running Monte Carlo simulation number 270.\n",
      "Running Monte Carlo simulation number 280.\n",
      "Running Monte Carlo simulation number 290.\n",
      "Running Monte Carlo simulation number 300.\n",
      "Running Monte Carlo simulation number 310.\n",
      "Running Monte Carlo simulation number 320.\n",
      "Running Monte Carlo simulation number 330.\n",
      "Running Monte Carlo simulation number 340.\n",
      "Running Monte Carlo simulation number 350.\n",
      "Running Monte Carlo simulation number 360.\n",
      "Running Monte Carlo simulation number 370.\n",
      "Running Monte Carlo simulation number 380.\n",
      "Running Monte Carlo simulation number 390.\n",
      "Running Monte Carlo simulation number 400.\n",
      "Running Monte Carlo simulation number 410.\n",
      "Running Monte Carlo simulation number 420.\n",
      "Running Monte Carlo simulation number 430.\n",
      "Running Monte Carlo simulation number 440.\n",
      "Running Monte Carlo simulation number 450.\n",
      "Running Monte Carlo simulation number 460.\n",
      "Running Monte Carlo simulation number 470.\n",
      "Running Monte Carlo simulation number 480.\n",
      "Running Monte Carlo simulation number 490.\n"
     ]
    },
    {
     "data": {
      "text/html": [
       "<div>\n",
       "<style scoped>\n",
       "    .dataframe tbody tr th:only-of-type {\n",
       "        vertical-align: middle;\n",
       "    }\n",
       "\n",
       "    .dataframe tbody tr th {\n",
       "        vertical-align: top;\n",
       "    }\n",
       "\n",
       "    .dataframe thead th {\n",
       "        text-align: right;\n",
       "    }\n",
       "</style>\n",
       "<table border=\"1\" class=\"dataframe\">\n",
       "  <thead>\n",
       "    <tr style=\"text-align: right;\">\n",
       "      <th></th>\n",
       "      <th>0</th>\n",
       "      <th>1</th>\n",
       "      <th>2</th>\n",
       "      <th>3</th>\n",
       "      <th>4</th>\n",
       "      <th>5</th>\n",
       "      <th>6</th>\n",
       "      <th>7</th>\n",
       "      <th>8</th>\n",
       "      <th>9</th>\n",
       "      <th>...</th>\n",
       "      <th>490</th>\n",
       "      <th>491</th>\n",
       "      <th>492</th>\n",
       "      <th>493</th>\n",
       "      <th>494</th>\n",
       "      <th>495</th>\n",
       "      <th>496</th>\n",
       "      <th>497</th>\n",
       "      <th>498</th>\n",
       "      <th>499</th>\n",
       "    </tr>\n",
       "  </thead>\n",
       "  <tbody>\n",
       "    <tr>\n",
       "      <th>0</th>\n",
       "      <td>1.000000</td>\n",
       "      <td>1.000000</td>\n",
       "      <td>1.000000</td>\n",
       "      <td>1.000000</td>\n",
       "      <td>1.000000</td>\n",
       "      <td>1.000000</td>\n",
       "      <td>1.000000</td>\n",
       "      <td>1.000000</td>\n",
       "      <td>1.000000</td>\n",
       "      <td>1.000000</td>\n",
       "      <td>...</td>\n",
       "      <td>1.000000</td>\n",
       "      <td>1.000000</td>\n",
       "      <td>1.000000</td>\n",
       "      <td>1.000000</td>\n",
       "      <td>1.000000</td>\n",
       "      <td>1.000000</td>\n",
       "      <td>1.000000</td>\n",
       "      <td>1.000000</td>\n",
       "      <td>1.000000</td>\n",
       "      <td>1.000000</td>\n",
       "    </tr>\n",
       "    <tr>\n",
       "      <th>1</th>\n",
       "      <td>1.016750</td>\n",
       "      <td>1.006397</td>\n",
       "      <td>1.015640</td>\n",
       "      <td>1.008205</td>\n",
       "      <td>0.996532</td>\n",
       "      <td>0.994038</td>\n",
       "      <td>0.989165</td>\n",
       "      <td>0.994950</td>\n",
       "      <td>0.999370</td>\n",
       "      <td>0.997663</td>\n",
       "      <td>...</td>\n",
       "      <td>0.997598</td>\n",
       "      <td>1.013109</td>\n",
       "      <td>1.006284</td>\n",
       "      <td>0.981117</td>\n",
       "      <td>0.995051</td>\n",
       "      <td>1.007513</td>\n",
       "      <td>1.011526</td>\n",
       "      <td>1.010706</td>\n",
       "      <td>1.003903</td>\n",
       "      <td>1.000326</td>\n",
       "    </tr>\n",
       "    <tr>\n",
       "      <th>2</th>\n",
       "      <td>1.023506</td>\n",
       "      <td>1.010112</td>\n",
       "      <td>1.030770</td>\n",
       "      <td>0.998749</td>\n",
       "      <td>0.997688</td>\n",
       "      <td>0.996509</td>\n",
       "      <td>0.992887</td>\n",
       "      <td>1.002577</td>\n",
       "      <td>0.997043</td>\n",
       "      <td>0.997481</td>\n",
       "      <td>...</td>\n",
       "      <td>0.988405</td>\n",
       "      <td>1.021197</td>\n",
       "      <td>0.997224</td>\n",
       "      <td>0.970864</td>\n",
       "      <td>1.001129</td>\n",
       "      <td>1.004960</td>\n",
       "      <td>1.013355</td>\n",
       "      <td>0.998453</td>\n",
       "      <td>1.005164</td>\n",
       "      <td>0.991947</td>\n",
       "    </tr>\n",
       "    <tr>\n",
       "      <th>3</th>\n",
       "      <td>1.019228</td>\n",
       "      <td>1.013451</td>\n",
       "      <td>1.017183</td>\n",
       "      <td>1.002560</td>\n",
       "      <td>0.990315</td>\n",
       "      <td>1.000832</td>\n",
       "      <td>0.996575</td>\n",
       "      <td>1.010259</td>\n",
       "      <td>0.992358</td>\n",
       "      <td>1.000271</td>\n",
       "      <td>...</td>\n",
       "      <td>0.993228</td>\n",
       "      <td>1.011735</td>\n",
       "      <td>0.990286</td>\n",
       "      <td>0.969158</td>\n",
       "      <td>0.986042</td>\n",
       "      <td>1.015947</td>\n",
       "      <td>1.031121</td>\n",
       "      <td>0.985018</td>\n",
       "      <td>1.003721</td>\n",
       "      <td>0.979217</td>\n",
       "    </tr>\n",
       "    <tr>\n",
       "      <th>4</th>\n",
       "      <td>1.025686</td>\n",
       "      <td>1.016115</td>\n",
       "      <td>1.009913</td>\n",
       "      <td>1.000540</td>\n",
       "      <td>0.994892</td>\n",
       "      <td>1.012150</td>\n",
       "      <td>0.994028</td>\n",
       "      <td>1.020919</td>\n",
       "      <td>0.995885</td>\n",
       "      <td>1.005813</td>\n",
       "      <td>...</td>\n",
       "      <td>0.994865</td>\n",
       "      <td>1.016081</td>\n",
       "      <td>0.993842</td>\n",
       "      <td>0.948500</td>\n",
       "      <td>0.999889</td>\n",
       "      <td>1.009144</td>\n",
       "      <td>1.033375</td>\n",
       "      <td>0.981709</td>\n",
       "      <td>0.999366</td>\n",
       "      <td>0.984976</td>\n",
       "    </tr>\n",
       "    <tr>\n",
       "      <th>...</th>\n",
       "      <td>...</td>\n",
       "      <td>...</td>\n",
       "      <td>...</td>\n",
       "      <td>...</td>\n",
       "      <td>...</td>\n",
       "      <td>...</td>\n",
       "      <td>...</td>\n",
       "      <td>...</td>\n",
       "      <td>...</td>\n",
       "      <td>...</td>\n",
       "      <td>...</td>\n",
       "      <td>...</td>\n",
       "      <td>...</td>\n",
       "      <td>...</td>\n",
       "      <td>...</td>\n",
       "      <td>...</td>\n",
       "      <td>...</td>\n",
       "      <td>...</td>\n",
       "      <td>...</td>\n",
       "      <td>...</td>\n",
       "      <td>...</td>\n",
       "    </tr>\n",
       "    <tr>\n",
       "      <th>7556</th>\n",
       "      <td>9.238795</td>\n",
       "      <td>7.173350</td>\n",
       "      <td>17.587548</td>\n",
       "      <td>18.785561</td>\n",
       "      <td>5.469436</td>\n",
       "      <td>12.168646</td>\n",
       "      <td>8.859832</td>\n",
       "      <td>2.818628</td>\n",
       "      <td>5.433340</td>\n",
       "      <td>4.479970</td>\n",
       "      <td>...</td>\n",
       "      <td>2.697231</td>\n",
       "      <td>4.200136</td>\n",
       "      <td>2.687791</td>\n",
       "      <td>6.658622</td>\n",
       "      <td>7.323650</td>\n",
       "      <td>4.939525</td>\n",
       "      <td>7.818274</td>\n",
       "      <td>8.331225</td>\n",
       "      <td>4.137376</td>\n",
       "      <td>6.846344</td>\n",
       "    </tr>\n",
       "    <tr>\n",
       "      <th>7557</th>\n",
       "      <td>9.325644</td>\n",
       "      <td>7.253980</td>\n",
       "      <td>17.503181</td>\n",
       "      <td>18.469084</td>\n",
       "      <td>5.492344</td>\n",
       "      <td>12.209300</td>\n",
       "      <td>8.846780</td>\n",
       "      <td>2.841853</td>\n",
       "      <td>5.467629</td>\n",
       "      <td>4.494531</td>\n",
       "      <td>...</td>\n",
       "      <td>2.707876</td>\n",
       "      <td>4.233544</td>\n",
       "      <td>2.694711</td>\n",
       "      <td>6.673462</td>\n",
       "      <td>7.343333</td>\n",
       "      <td>4.923165</td>\n",
       "      <td>7.865230</td>\n",
       "      <td>8.309614</td>\n",
       "      <td>4.102009</td>\n",
       "      <td>6.774032</td>\n",
       "    </tr>\n",
       "    <tr>\n",
       "      <th>7558</th>\n",
       "      <td>9.296415</td>\n",
       "      <td>7.329457</td>\n",
       "      <td>17.388276</td>\n",
       "      <td>18.601369</td>\n",
       "      <td>5.509754</td>\n",
       "      <td>12.133936</td>\n",
       "      <td>8.904265</td>\n",
       "      <td>2.827977</td>\n",
       "      <td>5.426921</td>\n",
       "      <td>4.452270</td>\n",
       "      <td>...</td>\n",
       "      <td>2.688738</td>\n",
       "      <td>4.196762</td>\n",
       "      <td>2.718482</td>\n",
       "      <td>6.635086</td>\n",
       "      <td>7.421783</td>\n",
       "      <td>4.968024</td>\n",
       "      <td>7.879701</td>\n",
       "      <td>8.225346</td>\n",
       "      <td>4.066018</td>\n",
       "      <td>6.792904</td>\n",
       "    </tr>\n",
       "    <tr>\n",
       "      <th>7559</th>\n",
       "      <td>9.239493</td>\n",
       "      <td>7.314339</td>\n",
       "      <td>17.429358</td>\n",
       "      <td>18.466340</td>\n",
       "      <td>5.452379</td>\n",
       "      <td>12.157399</td>\n",
       "      <td>9.054473</td>\n",
       "      <td>2.837799</td>\n",
       "      <td>5.414666</td>\n",
       "      <td>4.431404</td>\n",
       "      <td>...</td>\n",
       "      <td>2.677029</td>\n",
       "      <td>4.225966</td>\n",
       "      <td>2.736045</td>\n",
       "      <td>6.663915</td>\n",
       "      <td>7.401021</td>\n",
       "      <td>5.006300</td>\n",
       "      <td>7.977609</td>\n",
       "      <td>8.186482</td>\n",
       "      <td>4.055478</td>\n",
       "      <td>6.717002</td>\n",
       "    </tr>\n",
       "    <tr>\n",
       "      <th>7560</th>\n",
       "      <td>9.140057</td>\n",
       "      <td>7.279649</td>\n",
       "      <td>17.620822</td>\n",
       "      <td>18.373676</td>\n",
       "      <td>5.359759</td>\n",
       "      <td>12.225660</td>\n",
       "      <td>9.104401</td>\n",
       "      <td>2.809738</td>\n",
       "      <td>5.360920</td>\n",
       "      <td>4.460651</td>\n",
       "      <td>...</td>\n",
       "      <td>2.667241</td>\n",
       "      <td>4.264882</td>\n",
       "      <td>2.723861</td>\n",
       "      <td>6.701134</td>\n",
       "      <td>7.473476</td>\n",
       "      <td>5.058521</td>\n",
       "      <td>7.961844</td>\n",
       "      <td>8.160388</td>\n",
       "      <td>4.065362</td>\n",
       "      <td>6.661321</td>\n",
       "    </tr>\n",
       "  </tbody>\n",
       "</table>\n",
       "<p>7561 rows × 500 columns</p>\n",
       "</div>"
      ],
      "text/plain": [
       "           0         1          2          3         4          5         6    \\\n",
       "0     1.000000  1.000000   1.000000   1.000000  1.000000   1.000000  1.000000   \n",
       "1     1.016750  1.006397   1.015640   1.008205  0.996532   0.994038  0.989165   \n",
       "2     1.023506  1.010112   1.030770   0.998749  0.997688   0.996509  0.992887   \n",
       "3     1.019228  1.013451   1.017183   1.002560  0.990315   1.000832  0.996575   \n",
       "4     1.025686  1.016115   1.009913   1.000540  0.994892   1.012150  0.994028   \n",
       "...        ...       ...        ...        ...       ...        ...       ...   \n",
       "7556  9.238795  7.173350  17.587548  18.785561  5.469436  12.168646  8.859832   \n",
       "7557  9.325644  7.253980  17.503181  18.469084  5.492344  12.209300  8.846780   \n",
       "7558  9.296415  7.329457  17.388276  18.601369  5.509754  12.133936  8.904265   \n",
       "7559  9.239493  7.314339  17.429358  18.466340  5.452379  12.157399  9.054473   \n",
       "7560  9.140057  7.279649  17.620822  18.373676  5.359759  12.225660  9.104401   \n",
       "\n",
       "           7         8         9    ...       490       491       492  \\\n",
       "0     1.000000  1.000000  1.000000  ...  1.000000  1.000000  1.000000   \n",
       "1     0.994950  0.999370  0.997663  ...  0.997598  1.013109  1.006284   \n",
       "2     1.002577  0.997043  0.997481  ...  0.988405  1.021197  0.997224   \n",
       "3     1.010259  0.992358  1.000271  ...  0.993228  1.011735  0.990286   \n",
       "4     1.020919  0.995885  1.005813  ...  0.994865  1.016081  0.993842   \n",
       "...        ...       ...       ...  ...       ...       ...       ...   \n",
       "7556  2.818628  5.433340  4.479970  ...  2.697231  4.200136  2.687791   \n",
       "7557  2.841853  5.467629  4.494531  ...  2.707876  4.233544  2.694711   \n",
       "7558  2.827977  5.426921  4.452270  ...  2.688738  4.196762  2.718482   \n",
       "7559  2.837799  5.414666  4.431404  ...  2.677029  4.225966  2.736045   \n",
       "7560  2.809738  5.360920  4.460651  ...  2.667241  4.264882  2.723861   \n",
       "\n",
       "           493       494       495       496       497       498       499  \n",
       "0     1.000000  1.000000  1.000000  1.000000  1.000000  1.000000  1.000000  \n",
       "1     0.981117  0.995051  1.007513  1.011526  1.010706  1.003903  1.000326  \n",
       "2     0.970864  1.001129  1.004960  1.013355  0.998453  1.005164  0.991947  \n",
       "3     0.969158  0.986042  1.015947  1.031121  0.985018  1.003721  0.979217  \n",
       "4     0.948500  0.999889  1.009144  1.033375  0.981709  0.999366  0.984976  \n",
       "...        ...       ...       ...       ...       ...       ...       ...  \n",
       "7556  6.658622  7.323650  4.939525  7.818274  8.331225  4.137376  6.846344  \n",
       "7557  6.673462  7.343333  4.923165  7.865230  8.309614  4.102009  6.774032  \n",
       "7558  6.635086  7.421783  4.968024  7.879701  8.225346  4.066018  6.792904  \n",
       "7559  6.663915  7.401021  5.006300  7.977609  8.186482  4.055478  6.717002  \n",
       "7560  6.701134  7.473476  5.058521  7.961844  8.160388  4.065362  6.661321  \n",
       "\n",
       "[7561 rows x 500 columns]"
      ]
     },
     "execution_count": 52,
     "metadata": {},
     "output_type": "execute_result"
    }
   ],
   "source": [
    "# Run the Monte Carlo simulation to forecast 30 years cumulative returns\n",
    "mc_thirty_year.calc_cumulative_return()\n"
   ]
  },
  {
   "cell_type": "code",
   "execution_count": 57,
   "metadata": {},
   "outputs": [
    {
     "data": {
      "text/plain": [
       "<AxesSubplot:title={'center':'500 Simulations of Cumulative Portfolio Return Trajectories Over the Next 7560 Trading Days.'}>"
      ]
     },
     "execution_count": 57,
     "metadata": {},
     "output_type": "execute_result"
    },
    {
     "data": {
      "image/png": "[encoded data removed]",
      "text/plain": [
       "<Figure size 640x480 with 1 Axes>"
      ]
     },
     "metadata": {},
     "output_type": "display_data"
    }
   ],
   "source": [
    "# Visualize the 30-year Monte Carlo simulation by creating an\n",
    "# overlay line plot\n",
    "mc_thirty_year.plot_simulation()"
   ]
  },
  {
   "cell_type": "markdown",
   "metadata": {},
   "source": [
    "#### Step 3: Plot the probability distribution of the Monte Carlo simulation."
   ]
  },
  {
   "cell_type": "code",
   "execution_count": 56,
   "metadata": {},
   "outputs": [
    {
     "data": {
      "text/plain": [
       "<AxesSubplot:title={'center':'Distribution of Final Cumuluative Returns Across All 500 Simulations'}, ylabel='Frequency'>"
      ]
     },
     "execution_count": 56,
     "metadata": {},
     "output_type": "execute_result"
    },
    {
     "data": {
      "image/png": "[encoded data removed]",
      "text/plain": [
       "<Figure size 640x480 with 1 Axes>"
      ]
     },
     "metadata": {},
     "output_type": "display_data"
    }
   ],
   "source": [
    "# Visualize the probability distribution of the 30-year Monte Carlo simulation \n",
    "# by plotting a histogram\n",
    "mc_thirty_year.plot_distribution()\n"
   ]
  },
  {
   "cell_type": "markdown",
   "metadata": {},
   "source": [
    "#### Step 4: Generate the summary statistics for the Monte Carlo simulation."
   ]
  },
  {
   "cell_type": "code",
   "execution_count": 55,
   "metadata": {},
   "outputs": [
    {
     "name": "stdout",
     "output_type": "stream",
     "text": [
      "count           500.000000\n",
      "mean              7.511600\n",
      "std               5.859201\n",
      "min               1.249244\n",
      "25%               4.210836\n",
      "50%               6.276728\n",
      "75%               8.865276\n",
      "max              63.499414\n",
      "95% CI Lower      1.946384\n",
      "95% CI Upper     21.752680\n",
      "Name: 7560, dtype: float64\n"
     ]
    }
   ],
   "source": [
    "# Generate summary statistics from the 30-year Monte Carlo simulation results\n",
    "# Save the results as a variable\n",
    "mc_summary = mc_thirty_year.summarize_cumulative_return()\n",
    "\n",
    "\n",
    "# Review the 30-year Monte Carlo summary statistics\n",
    "print(mc_summary)"
   ]
  },
  {
   "cell_type": "markdown",
   "metadata": {},
   "source": [
    "### Analyze the Retirement Portfolio Forecasts\n",
    "\n",
    "Using the current value of only the stock and bond portion of the member's portfolio and the summary statistics that you generated from the Monte Carlo simulation, answer the following question in your Jupyter notebook:\n",
    "\n",
    "-  What are the lower and upper bounds for the expected value of the portfolio with a 95% confidence interval?\n"
   ]
  },
  {
   "cell_type": "code",
   "execution_count": 54,
   "metadata": {},
   "outputs": [
    {
     "name": "stdout",
     "output_type": "stream",
     "text": [
      "Current value of the total stock and bond portfolio is: $65371.1.\n"
     ]
    }
   ],
   "source": [
    "# Print the current balance of the stock and bond portion of the members portfolio\n",
    "print(f\"Current value of the total stock and bond portfolio is: ${total_stocks_bonds}.\")\n"
   ]
  },
  {
   "cell_type": "code",
   "execution_count": 64,
   "metadata": {},
   "outputs": [
    {
     "name": "stdout",
     "output_type": "stream",
     "text": [
      "The lower bound confidence level for the total stock and bond portfolio in 30 years (with 95% confidence) is 127237.25.\n",
      "The upper bound confidence level for the total stock and bond portfolio in 30 years (with 95% confidence) is 1421996.60.\n"
     ]
    }
   ],
   "source": [
    "# Use the lower and upper `95%` confidence intervals to calculate the range of the possible outcomes for the current stock/bond portfolio\n",
    "ci_lower_thirty_cumulative_return = mc_summary[8] * total_stocks_bonds\n",
    "ci_upper_thirty_cumulative_return = mc_summary[9] * total_stocks_bonds\n",
    "\n",
    "# Print the result of your calculations\n",
    "print(f\"The lower bound confidence level for the total stock and bond portfolio in 30 years (with 95% confidence) is {ci_lower_thirty_cumulative_return:.2f}.\")\n",
    "print(f\"The upper bound confidence level for the total stock and bond portfolio in 30 years (with 95% confidence) is {ci_upper_thirty_cumulative_return:.2f}.\")"
   ]
  },
  {
   "cell_type": "markdown",
   "metadata": {},
   "source": [
    "### Forecast Cumulative Returns in 10 Years\n",
    "\n",
    "The CTO of the credit union is impressed with your work on these planning tools but wonders if 30 years is a long time to wait until retirement. So, your next task is to adjust the retirement portfolio and run a new Monte Carlo simulation to find out if the changes will allow members to retire earlier.\n",
    "\n",
    "For this new Monte Carlo simulation, do the following: \n",
    "\n",
    "- Forecast the cumulative returns for 10 years from now. Because of the shortened investment horizon (30 years to 10 years), the portfolio needs to invest more heavily in the riskier asset&mdash;that is, stock&mdash;to help accumulate wealth for retirement. \n",
    "\n",
    "- Adjust the weights of the retirement portfolio so that the composition for the Monte Carlo simulation consists of 20% bonds and 80% stocks. \n",
    "\n",
    "- Run the simulation over 500 samples, and use the same data that the API call to Alpaca generated.\n",
    "\n",
    "- Based on the new Monte Carlo simulation, answer the following questions in your Jupyter notebook:\n",
    "\n",
    "    - Using the current value of only the stock and bond portion of the member's portfolio and the summary statistics that you generated from the new Monte Carlo simulation, what are the lower and upper bounds for the expected value of the portfolio (with the new weights) with a 95% confidence interval?\n",
    "\n",
    "    - Will weighting the portfolio more heavily toward stocks allow the credit union members to retire after only 10 years?\n"
   ]
  },
  {
   "cell_type": "code",
   "execution_count": 65,
   "metadata": {},
   "outputs": [
    {
     "data": {
      "text/html": [
       "<div>\n",
       "<style scoped>\n",
       "    .dataframe tbody tr th:only-of-type {\n",
       "        vertical-align: middle;\n",
       "    }\n",
       "\n",
       "    .dataframe tbody tr th {\n",
       "        vertical-align: top;\n",
       "    }\n",
       "\n",
       "    .dataframe thead tr th {\n",
       "        text-align: left;\n",
       "    }\n",
       "\n",
       "    .dataframe thead tr:last-of-type th {\n",
       "        text-align: right;\n",
       "    }\n",
       "</style>\n",
       "<table border=\"1\" class=\"dataframe\">\n",
       "  <thead>\n",
       "    <tr>\n",
       "      <th>symbol</th>\n",
       "      <th colspan=\"2\" halign=\"left\">AGG</th>\n",
       "      <th colspan=\"2\" halign=\"left\">SPY</th>\n",
       "    </tr>\n",
       "    <tr>\n",
       "      <th></th>\n",
       "      <th>close</th>\n",
       "      <th>daily_return</th>\n",
       "      <th>close</th>\n",
       "      <th>daily_return</th>\n",
       "    </tr>\n",
       "    <tr>\n",
       "      <th>timestamp</th>\n",
       "      <th></th>\n",
       "      <th></th>\n",
       "      <th></th>\n",
       "      <th></th>\n",
       "    </tr>\n",
       "  </thead>\n",
       "  <tbody>\n",
       "    <tr>\n",
       "      <th>2020-04-20 04:00:00+00:00</th>\n",
       "      <td>117.0800</td>\n",
       "      <td>NaN</td>\n",
       "      <td>281.76</td>\n",
       "      <td>NaN</td>\n",
       "    </tr>\n",
       "    <tr>\n",
       "      <th>2020-04-21 04:00:00+00:00</th>\n",
       "      <td>117.1400</td>\n",
       "      <td>0.000512</td>\n",
       "      <td>273.17</td>\n",
       "      <td>-0.030487</td>\n",
       "    </tr>\n",
       "    <tr>\n",
       "      <th>2020-04-22 04:00:00+00:00</th>\n",
       "      <td>117.1400</td>\n",
       "      <td>0.000000</td>\n",
       "      <td>279.04</td>\n",
       "      <td>0.021488</td>\n",
       "    </tr>\n",
       "    <tr>\n",
       "      <th>2020-04-23 04:00:00+00:00</th>\n",
       "      <td>117.4200</td>\n",
       "      <td>0.002390</td>\n",
       "      <td>279.01</td>\n",
       "      <td>-0.000108</td>\n",
       "    </tr>\n",
       "    <tr>\n",
       "      <th>2020-04-24 04:00:00+00:00</th>\n",
       "      <td>117.3595</td>\n",
       "      <td>-0.000515</td>\n",
       "      <td>282.89</td>\n",
       "      <td>0.013906</td>\n",
       "    </tr>\n",
       "  </tbody>\n",
       "</table>\n",
       "</div>"
      ],
      "text/plain": [
       "symbol                          AGG                  SPY             \n",
       "                              close daily_return   close daily_return\n",
       "timestamp                                                            \n",
       "2020-04-20 04:00:00+00:00  117.0800          NaN  281.76          NaN\n",
       "2020-04-21 04:00:00+00:00  117.1400     0.000512  273.17    -0.030487\n",
       "2020-04-22 04:00:00+00:00  117.1400     0.000000  279.04     0.021488\n",
       "2020-04-23 04:00:00+00:00  117.4200     0.002390  279.01    -0.000108\n",
       "2020-04-24 04:00:00+00:00  117.3595    -0.000515  282.89     0.013906"
      ]
     },
     "execution_count": 65,
     "metadata": {},
     "output_type": "execute_result"
    }
   ],
   "source": [
    "# Configure a Monte Carlo simulation to forecast 10 years cumulative returns\n",
    "# The weights should be split 20% to AGG and 80% to SPY.\n",
    "# Run 500 samples.\n",
    "mc_ten_year = MCSimulation(\n",
    "    portfolio_data=prices_df_multiindex,\n",
    "    weights=[0.20, 0.80],\n",
    "    num_simulation=500,\n",
    "    num_trading_days=252*10\n",
    ")\n",
    "\n",
    "# Review the simulation input data\n",
    "mc_ten_year.portfolio_data.head()"
   ]
  },
  {
   "cell_type": "code",
   "execution_count": 67,
   "metadata": {},
   "outputs": [
    {
     "name": "stdout",
     "output_type": "stream",
     "text": [
      "Running Monte Carlo simulation number 0.\n",
      "Running Monte Carlo simulation number 10.\n",
      "Running Monte Carlo simulation number 20.\n",
      "Running Monte Carlo simulation number 30.\n",
      "Running Monte Carlo simulation number 40.\n",
      "Running Monte Carlo simulation number 50.\n",
      "Running Monte Carlo simulation number 60.\n",
      "Running Monte Carlo simulation number 70.\n",
      "Running Monte Carlo simulation number 80.\n",
      "Running Monte Carlo simulation number 90.\n",
      "Running Monte Carlo simulation number 100.\n"
     ]
    },
    {
     "name": "stderr",
     "output_type": "stream",
     "text": [
      "C:\\Users\\super\\fintech\\financial_planning\\MCForecastTools.py:117: PerformanceWarning: DataFrame is highly fragmented.  This is usually the result of calling `frame.insert` many times, which has poor performance.  Consider joining all columns at once using pd.concat(axis=1) instead.  To get a de-fragmented frame, use `newframe = frame.copy()`\n",
      "  portfolio_cumulative_returns[n] = (1 + sim_df.fillna(0)).cumprod()\n"
     ]
    },
    {
     "name": "stdout",
     "output_type": "stream",
     "text": [
      "Running Monte Carlo simulation number 110.\n",
      "Running Monte Carlo simulation number 120.\n",
      "Running Monte Carlo simulation number 130.\n",
      "Running Monte Carlo simulation number 140.\n",
      "Running Monte Carlo simulation number 150.\n",
      "Running Monte Carlo simulation number 160.\n",
      "Running Monte Carlo simulation number 170.\n",
      "Running Monte Carlo simulation number 180.\n",
      "Running Monte Carlo simulation number 190.\n",
      "Running Monte Carlo simulation number 200.\n",
      "Running Monte Carlo simulation number 210.\n",
      "Running Monte Carlo simulation number 220.\n",
      "Running Monte Carlo simulation number 230.\n",
      "Running Monte Carlo simulation number 240.\n",
      "Running Monte Carlo simulation number 250.\n",
      "Running Monte Carlo simulation number 260.\n",
      "Running Monte Carlo simulation number 270.\n",
      "Running Monte Carlo simulation number 280.\n",
      "Running Monte Carlo simulation number 290.\n",
      "Running Monte Carlo simulation number 300.\n",
      "Running Monte Carlo simulation number 310.\n",
      "Running Monte Carlo simulation number 320.\n",
      "Running Monte Carlo simulation number 330.\n",
      "Running Monte Carlo simulation number 340.\n",
      "Running Monte Carlo simulation number 350.\n",
      "Running Monte Carlo simulation number 360.\n",
      "Running Monte Carlo simulation number 370.\n",
      "Running Monte Carlo simulation number 380.\n",
      "Running Monte Carlo simulation number 390.\n",
      "Running Monte Carlo simulation number 400.\n",
      "Running Monte Carlo simulation number 410.\n",
      "Running Monte Carlo simulation number 420.\n",
      "Running Monte Carlo simulation number 430.\n",
      "Running Monte Carlo simulation number 440.\n",
      "Running Monte Carlo simulation number 450.\n",
      "Running Monte Carlo simulation number 460.\n",
      "Running Monte Carlo simulation number 470.\n",
      "Running Monte Carlo simulation number 480.\n",
      "Running Monte Carlo simulation number 490.\n"
     ]
    },
    {
     "data": {
      "text/html": [
       "<div>\n",
       "<style scoped>\n",
       "    .dataframe tbody tr th:only-of-type {\n",
       "        vertical-align: middle;\n",
       "    }\n",
       "\n",
       "    .dataframe tbody tr th {\n",
       "        vertical-align: top;\n",
       "    }\n",
       "\n",
       "    .dataframe thead th {\n",
       "        text-align: right;\n",
       "    }\n",
       "</style>\n",
       "<table border=\"1\" class=\"dataframe\">\n",
       "  <thead>\n",
       "    <tr style=\"text-align: right;\">\n",
       "      <th></th>\n",
       "      <th>0</th>\n",
       "      <th>1</th>\n",
       "      <th>2</th>\n",
       "      <th>3</th>\n",
       "      <th>4</th>\n",
       "      <th>5</th>\n",
       "      <th>6</th>\n",
       "      <th>7</th>\n",
       "      <th>8</th>\n",
       "      <th>9</th>\n",
       "      <th>...</th>\n",
       "      <th>490</th>\n",
       "      <th>491</th>\n",
       "      <th>492</th>\n",
       "      <th>493</th>\n",
       "      <th>494</th>\n",
       "      <th>495</th>\n",
       "      <th>496</th>\n",
       "      <th>497</th>\n",
       "      <th>498</th>\n",
       "      <th>499</th>\n",
       "    </tr>\n",
       "  </thead>\n",
       "  <tbody>\n",
       "    <tr>\n",
       "      <th>0</th>\n",
       "      <td>1.000000</td>\n",
       "      <td>1.000000</td>\n",
       "      <td>1.000000</td>\n",
       "      <td>1.000000</td>\n",
       "      <td>1.000000</td>\n",
       "      <td>1.000000</td>\n",
       "      <td>1.000000</td>\n",
       "      <td>1.000000</td>\n",
       "      <td>1.000000</td>\n",
       "      <td>1.000000</td>\n",
       "      <td>...</td>\n",
       "      <td>1.000000</td>\n",
       "      <td>1.000000</td>\n",
       "      <td>1.000000</td>\n",
       "      <td>1.000000</td>\n",
       "      <td>1.000000</td>\n",
       "      <td>1.000000</td>\n",
       "      <td>1.000000</td>\n",
       "      <td>1.000000</td>\n",
       "      <td>1.000000</td>\n",
       "      <td>1.000000</td>\n",
       "    </tr>\n",
       "    <tr>\n",
       "      <th>1</th>\n",
       "      <td>0.997505</td>\n",
       "      <td>1.006203</td>\n",
       "      <td>1.005243</td>\n",
       "      <td>1.010817</td>\n",
       "      <td>0.980789</td>\n",
       "      <td>0.989494</td>\n",
       "      <td>1.008654</td>\n",
       "      <td>0.989434</td>\n",
       "      <td>0.997441</td>\n",
       "      <td>0.989257</td>\n",
       "      <td>...</td>\n",
       "      <td>1.001699</td>\n",
       "      <td>0.995017</td>\n",
       "      <td>0.997271</td>\n",
       "      <td>1.004461</td>\n",
       "      <td>0.996360</td>\n",
       "      <td>1.012823</td>\n",
       "      <td>1.015567</td>\n",
       "      <td>0.993229</td>\n",
       "      <td>0.993627</td>\n",
       "      <td>1.005341</td>\n",
       "    </tr>\n",
       "    <tr>\n",
       "      <th>2</th>\n",
       "      <td>1.003330</td>\n",
       "      <td>1.014547</td>\n",
       "      <td>1.016094</td>\n",
       "      <td>1.009643</td>\n",
       "      <td>0.986177</td>\n",
       "      <td>1.011169</td>\n",
       "      <td>1.031751</td>\n",
       "      <td>0.980180</td>\n",
       "      <td>1.002669</td>\n",
       "      <td>0.990792</td>\n",
       "      <td>...</td>\n",
       "      <td>1.007606</td>\n",
       "      <td>1.004604</td>\n",
       "      <td>0.989483</td>\n",
       "      <td>1.011222</td>\n",
       "      <td>1.007724</td>\n",
       "      <td>1.003079</td>\n",
       "      <td>1.026537</td>\n",
       "      <td>0.998917</td>\n",
       "      <td>0.988421</td>\n",
       "      <td>1.011009</td>\n",
       "    </tr>\n",
       "    <tr>\n",
       "      <th>3</th>\n",
       "      <td>0.998034</td>\n",
       "      <td>1.019636</td>\n",
       "      <td>1.014906</td>\n",
       "      <td>1.010437</td>\n",
       "      <td>0.987702</td>\n",
       "      <td>1.024615</td>\n",
       "      <td>1.023601</td>\n",
       "      <td>0.976754</td>\n",
       "      <td>0.988735</td>\n",
       "      <td>0.989938</td>\n",
       "      <td>...</td>\n",
       "      <td>1.021455</td>\n",
       "      <td>0.996703</td>\n",
       "      <td>0.989701</td>\n",
       "      <td>1.018695</td>\n",
       "      <td>1.007499</td>\n",
       "      <td>1.013449</td>\n",
       "      <td>1.022312</td>\n",
       "      <td>1.003731</td>\n",
       "      <td>1.008863</td>\n",
       "      <td>1.001303</td>\n",
       "    </tr>\n",
       "    <tr>\n",
       "      <th>4</th>\n",
       "      <td>0.999322</td>\n",
       "      <td>1.024565</td>\n",
       "      <td>1.018665</td>\n",
       "      <td>1.017431</td>\n",
       "      <td>0.988415</td>\n",
       "      <td>1.022058</td>\n",
       "      <td>1.010576</td>\n",
       "      <td>0.981057</td>\n",
       "      <td>0.991558</td>\n",
       "      <td>0.987567</td>\n",
       "      <td>...</td>\n",
       "      <td>1.020360</td>\n",
       "      <td>0.990239</td>\n",
       "      <td>0.973404</td>\n",
       "      <td>1.012081</td>\n",
       "      <td>1.029050</td>\n",
       "      <td>1.015169</td>\n",
       "      <td>1.024647</td>\n",
       "      <td>0.989265</td>\n",
       "      <td>1.003861</td>\n",
       "      <td>1.004129</td>\n",
       "    </tr>\n",
       "    <tr>\n",
       "      <th>...</th>\n",
       "      <td>...</td>\n",
       "      <td>...</td>\n",
       "      <td>...</td>\n",
       "      <td>...</td>\n",
       "      <td>...</td>\n",
       "      <td>...</td>\n",
       "      <td>...</td>\n",
       "      <td>...</td>\n",
       "      <td>...</td>\n",
       "      <td>...</td>\n",
       "      <td>...</td>\n",
       "      <td>...</td>\n",
       "      <td>...</td>\n",
       "      <td>...</td>\n",
       "      <td>...</td>\n",
       "      <td>...</td>\n",
       "      <td>...</td>\n",
       "      <td>...</td>\n",
       "      <td>...</td>\n",
       "      <td>...</td>\n",
       "      <td>...</td>\n",
       "    </tr>\n",
       "    <tr>\n",
       "      <th>2516</th>\n",
       "      <td>1.411639</td>\n",
       "      <td>1.589342</td>\n",
       "      <td>2.469201</td>\n",
       "      <td>1.968139</td>\n",
       "      <td>1.884401</td>\n",
       "      <td>1.437081</td>\n",
       "      <td>4.789412</td>\n",
       "      <td>1.983981</td>\n",
       "      <td>2.967822</td>\n",
       "      <td>3.333075</td>\n",
       "      <td>...</td>\n",
       "      <td>1.311964</td>\n",
       "      <td>2.437292</td>\n",
       "      <td>2.644476</td>\n",
       "      <td>2.752495</td>\n",
       "      <td>1.628008</td>\n",
       "      <td>4.119087</td>\n",
       "      <td>4.940584</td>\n",
       "      <td>1.537830</td>\n",
       "      <td>3.302329</td>\n",
       "      <td>4.394311</td>\n",
       "    </tr>\n",
       "    <tr>\n",
       "      <th>2517</th>\n",
       "      <td>1.403379</td>\n",
       "      <td>1.591271</td>\n",
       "      <td>2.428989</td>\n",
       "      <td>1.975651</td>\n",
       "      <td>1.905033</td>\n",
       "      <td>1.443783</td>\n",
       "      <td>4.903436</td>\n",
       "      <td>2.002242</td>\n",
       "      <td>2.921530</td>\n",
       "      <td>3.344071</td>\n",
       "      <td>...</td>\n",
       "      <td>1.318845</td>\n",
       "      <td>2.433257</td>\n",
       "      <td>2.640958</td>\n",
       "      <td>2.756987</td>\n",
       "      <td>1.640410</td>\n",
       "      <td>4.079033</td>\n",
       "      <td>4.916935</td>\n",
       "      <td>1.551643</td>\n",
       "      <td>3.331094</td>\n",
       "      <td>4.333598</td>\n",
       "    </tr>\n",
       "    <tr>\n",
       "      <th>2518</th>\n",
       "      <td>1.404573</td>\n",
       "      <td>1.617573</td>\n",
       "      <td>2.405832</td>\n",
       "      <td>1.979170</td>\n",
       "      <td>1.883239</td>\n",
       "      <td>1.447925</td>\n",
       "      <td>4.961020</td>\n",
       "      <td>2.010429</td>\n",
       "      <td>3.005434</td>\n",
       "      <td>3.359554</td>\n",
       "      <td>...</td>\n",
       "      <td>1.327354</td>\n",
       "      <td>2.427674</td>\n",
       "      <td>2.670053</td>\n",
       "      <td>2.764733</td>\n",
       "      <td>1.627931</td>\n",
       "      <td>4.061922</td>\n",
       "      <td>4.864798</td>\n",
       "      <td>1.549832</td>\n",
       "      <td>3.363343</td>\n",
       "      <td>4.403168</td>\n",
       "    </tr>\n",
       "    <tr>\n",
       "      <th>2519</th>\n",
       "      <td>1.406613</td>\n",
       "      <td>1.601632</td>\n",
       "      <td>2.365717</td>\n",
       "      <td>2.001713</td>\n",
       "      <td>1.900900</td>\n",
       "      <td>1.465960</td>\n",
       "      <td>5.037100</td>\n",
       "      <td>1.990122</td>\n",
       "      <td>2.966432</td>\n",
       "      <td>3.323861</td>\n",
       "      <td>...</td>\n",
       "      <td>1.336937</td>\n",
       "      <td>2.415669</td>\n",
       "      <td>2.660061</td>\n",
       "      <td>2.778719</td>\n",
       "      <td>1.621137</td>\n",
       "      <td>4.061111</td>\n",
       "      <td>4.939593</td>\n",
       "      <td>1.542201</td>\n",
       "      <td>3.402460</td>\n",
       "      <td>4.389428</td>\n",
       "    </tr>\n",
       "    <tr>\n",
       "      <th>2520</th>\n",
       "      <td>1.413827</td>\n",
       "      <td>1.603458</td>\n",
       "      <td>2.380151</td>\n",
       "      <td>1.982557</td>\n",
       "      <td>1.923098</td>\n",
       "      <td>1.475386</td>\n",
       "      <td>5.006701</td>\n",
       "      <td>2.003846</td>\n",
       "      <td>2.920971</td>\n",
       "      <td>3.313974</td>\n",
       "      <td>...</td>\n",
       "      <td>1.346778</td>\n",
       "      <td>2.440150</td>\n",
       "      <td>2.664664</td>\n",
       "      <td>2.819531</td>\n",
       "      <td>1.601417</td>\n",
       "      <td>4.062639</td>\n",
       "      <td>4.985607</td>\n",
       "      <td>1.540793</td>\n",
       "      <td>3.394776</td>\n",
       "      <td>4.354327</td>\n",
       "    </tr>\n",
       "  </tbody>\n",
       "</table>\n",
       "<p>2521 rows × 500 columns</p>\n",
       "</div>"
      ],
      "text/plain": [
       "           0         1         2         3         4         5         6    \\\n",
       "0     1.000000  1.000000  1.000000  1.000000  1.000000  1.000000  1.000000   \n",
       "1     0.997505  1.006203  1.005243  1.010817  0.980789  0.989494  1.008654   \n",
       "2     1.003330  1.014547  1.016094  1.009643  0.986177  1.011169  1.031751   \n",
       "3     0.998034  1.019636  1.014906  1.010437  0.987702  1.024615  1.023601   \n",
       "4     0.999322  1.024565  1.018665  1.017431  0.988415  1.022058  1.010576   \n",
       "...        ...       ...       ...       ...       ...       ...       ...   \n",
       "2516  1.411639  1.589342  2.469201  1.968139  1.884401  1.437081  4.789412   \n",
       "2517  1.403379  1.591271  2.428989  1.975651  1.905033  1.443783  4.903436   \n",
       "2518  1.404573  1.617573  2.405832  1.979170  1.883239  1.447925  4.961020   \n",
       "2519  1.406613  1.601632  2.365717  2.001713  1.900900  1.465960  5.037100   \n",
       "2520  1.413827  1.603458  2.380151  1.982557  1.923098  1.475386  5.006701   \n",
       "\n",
       "           7         8         9    ...       490       491       492  \\\n",
       "0     1.000000  1.000000  1.000000  ...  1.000000  1.000000  1.000000   \n",
       "1     0.989434  0.997441  0.989257  ...  1.001699  0.995017  0.997271   \n",
       "2     0.980180  1.002669  0.990792  ...  1.007606  1.004604  0.989483   \n",
       "3     0.976754  0.988735  0.989938  ...  1.021455  0.996703  0.989701   \n",
       "4     0.981057  0.991558  0.987567  ...  1.020360  0.990239  0.973404   \n",
       "...        ...       ...       ...  ...       ...       ...       ...   \n",
       "2516  1.983981  2.967822  3.333075  ...  1.311964  2.437292  2.644476   \n",
       "2517  2.002242  2.921530  3.344071  ...  1.318845  2.433257  2.640958   \n",
       "2518  2.010429  3.005434  3.359554  ...  1.327354  2.427674  2.670053   \n",
       "2519  1.990122  2.966432  3.323861  ...  1.336937  2.415669  2.660061   \n",
       "2520  2.003846  2.920971  3.313974  ...  1.346778  2.440150  2.664664   \n",
       "\n",
       "           493       494       495       496       497       498       499  \n",
       "0     1.000000  1.000000  1.000000  1.000000  1.000000  1.000000  1.000000  \n",
       "1     1.004461  0.996360  1.012823  1.015567  0.993229  0.993627  1.005341  \n",
       "2     1.011222  1.007724  1.003079  1.026537  0.998917  0.988421  1.011009  \n",
       "3     1.018695  1.007499  1.013449  1.022312  1.003731  1.008863  1.001303  \n",
       "4     1.012081  1.029050  1.015169  1.024647  0.989265  1.003861  1.004129  \n",
       "...        ...       ...       ...       ...       ...       ...       ...  \n",
       "2516  2.752495  1.628008  4.119087  4.940584  1.537830  3.302329  4.394311  \n",
       "2517  2.756987  1.640410  4.079033  4.916935  1.551643  3.331094  4.333598  \n",
       "2518  2.764733  1.627931  4.061922  4.864798  1.549832  3.363343  4.403168  \n",
       "2519  2.778719  1.621137  4.061111  4.939593  1.542201  3.402460  4.389428  \n",
       "2520  2.819531  1.601417  4.062639  4.985607  1.540793  3.394776  4.354327  \n",
       "\n",
       "[2521 rows x 500 columns]"
      ]
     },
     "execution_count": 67,
     "metadata": {},
     "output_type": "execute_result"
    }
   ],
   "source": [
    "# Run the Monte Carlo simulation to forecast 10 years cumulative returns\n",
    "mc_ten_year.calc_cumulative_return()\n"
   ]
  },
  {
   "cell_type": "code",
   "execution_count": 68,
   "metadata": {},
   "outputs": [
    {
     "data": {
      "text/plain": [
       "<AxesSubplot:title={'center':'500 Simulations of Cumulative Portfolio Return Trajectories Over the Next 2520 Trading Days.'}>"
      ]
     },
     "execution_count": 68,
     "metadata": {},
     "output_type": "execute_result"
    },
    {
     "data": {
      "image/png": "[encoded data removed]",
      "text/plain": [
       "<Figure size 640x480 with 1 Axes>"
      ]
     },
     "metadata": {},
     "output_type": "display_data"
    }
   ],
   "source": [
    "# Visualize the 10-year Monte Carlo simulation by creating an\n",
    "# overlay line plot\n",
    "mc_ten_year.plot_simulation()\n"
   ]
  },
  {
   "cell_type": "code",
   "execution_count": 69,
   "metadata": {},
   "outputs": [
    {
     "data": {
      "text/plain": [
       "<AxesSubplot:title={'center':'Distribution of Final Cumuluative Returns Across All 500 Simulations'}, ylabel='Frequency'>"
      ]
     },
     "execution_count": 69,
     "metadata": {},
     "output_type": "execute_result"
    },
    {
     "data": {
      "image/png": "[encoded data removed]",
      "text/plain": [
       "<Figure size 640x480 with 1 Axes>"
      ]
     },
     "metadata": {},
     "output_type": "display_data"
    }
   ],
   "source": [
    "# Visualize the probability distribution of the 10-year Monte Carlo simulation \n",
    "# by plotting a histogram\n",
    "mc_ten_year.plot_distribution()\n"
   ]
  },
  {
   "cell_type": "code",
   "execution_count": 72,
   "metadata": {},
   "outputs": [
    {
     "name": "stdout",
     "output_type": "stream",
     "text": [
      "count           500.000000\n",
      "mean              2.936874\n",
      "std               1.564637\n",
      "min               0.784384\n",
      "25%               1.853022\n",
      "50%               2.583780\n",
      "75%               3.585041\n",
      "max              10.133966\n",
      "95% CI Lower      1.052167\n",
      "95% CI Upper      7.492745\n",
      "Name: 2520, dtype: float64\n"
     ]
    }
   ],
   "source": [
    "# Generate summary statistics from the 10-year Monte Carlo simulation results\n",
    "# Save the results as a variable\n",
    "mc_ten_year_summary = mc_ten_year.summarize_cumulative_return()\n",
    "\n",
    "\n",
    "# Review the 10-year Monte Carlo summary statistics\n",
    "print(mc_ten_year_summary)"
   ]
  },
  {
   "cell_type": "markdown",
   "metadata": {},
   "source": [
    "### Answer the following questions:"
   ]
  },
  {
   "cell_type": "markdown",
   "metadata": {},
   "source": [
    "#### Question: Using the current value of only the stock and bond portion of the member's portfolio and the summary statistics that you generated from the new Monte Carlo simulation, what are the lower and upper bounds for the expected value of the portfolio (with the new weights) with a 95% confidence interval?"
   ]
  },
  {
   "cell_type": "code",
   "execution_count": 73,
   "metadata": {},
   "outputs": [
    {
     "name": "stdout",
     "output_type": "stream",
     "text": [
      "Current value of the total stock and bond portfolio is: $65371.1.\n"
     ]
    }
   ],
   "source": [
    "# Print the current balance of the stock and bond portion of the members portfolio\n",
    "print(f\"Current value of the total stock and bond portfolio is: ${total_stocks_bonds}.\")"
   ]
  },
  {
   "cell_type": "code",
   "execution_count": 78,
   "metadata": {},
   "outputs": [
    {
     "name": "stdout",
     "output_type": "stream",
     "text": [
      "The lower bound confidence level for the total stock and bond portfolio in 30 years (with 95% confidence) is 68781.32.\n",
      "The upper bound confidence level for the total stock and bond portfolio in 30 years (with 95% confidence) is 489809.00.\n"
     ]
    }
   ],
   "source": [
    "# Use the lower and upper `95%` confidence intervals to calculate the range of the possible outcomes for the current stock/bond portfolio\n",
    "ci_lower_ten_cumulative_return = mc_ten_year_summary[8] * total_stocks_bonds\n",
    "ci_upper_ten_cumulative_return = mc_ten_year_summary[9] * total_stocks_bonds\n",
    "\n",
    "# Print the result of your calculations\n",
    "print(f\"The lower bound confidence level for the total stock and bond portfolio in 30 years (with 95% confidence) is {ci_lower_ten_cumulative_return:.2f}.\")\n",
    "print(f\"The upper bound confidence level for the total stock and bond portfolio in 30 years (with 95% confidence) is {ci_upper_ten_cumulative_return:.2f}.\")\n"
   ]
  },
  {
   "cell_type": "markdown",
   "metadata": {},
   "source": [
    "#### Question: Will weighting the portfolio more heavily to stocks allow the credit union members to retire after only 10 years?"
   ]
  },
  {
   "cell_type": "markdown",
   "metadata": {},
   "source": [
    "There's not enough information here to determine whether or not they can retire. That depends on the members' desired goals for retirement. At 10 years with a more aggressive portfolio, the retirement portfolio average was still 2.5x under the 30 year retirement mean."
   ]
  },
  {
   "cell_type": "code",
   "execution_count": null,
   "metadata": {},
   "outputs": [],
   "source": []
  }
 ],
 "metadata": {
  "kernelspec": {
   "display_name": "Python (dev)",
   "language": "python",
   "name": "dev"
  },
  "language_info": {
   "codemirror_mode": {
    "name": "ipython",
    "version": 3
   },
   "file_extension": ".py",
   "mimetype": "text/x-python",
   "name": "python",
   "nbconvert_exporter": "python",
   "pygments_lexer": "ipython3",
   "version": "3.7.13"
  }
 },
 "nbformat": 4,
 "nbformat_minor": 4
}
