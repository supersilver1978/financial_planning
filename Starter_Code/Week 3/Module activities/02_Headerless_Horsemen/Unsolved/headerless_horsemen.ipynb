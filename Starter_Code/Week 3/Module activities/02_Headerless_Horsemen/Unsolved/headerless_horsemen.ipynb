{
 "cells": [
  {
   "cell_type": "markdown",
   "metadata": {},
   "source": [
    "# Headerless Horseman\n",
    "\n",
    "In this activity, you’ll update the column headers of a DataFrame.\n",
    "\n",
    "\n",
    "Instructions:\n",
    "\n",
    "1. Import the Pandas and `pathlib` libraries.\n",
    "\n",
    "2. Define the relative path to the CSV file by using the `Path` module.\n",
    "\n",
    "3. Use the Pandas `read_csv` function to create the DataFrame.\n",
    "\n",
    "4. Use the `head` function to view the first five rows of the DataFrame.\n",
    "\n",
    "5. Create a list of column names that contains the values `Date`, `Cisco`, `Dell`, `Intel`, and `Microsoft`.\n",
    "\n",
    "6. Assign the list of column names as the column headers for the DataFrame.\n",
    "\n",
    "7. To confirm that Pandas correctly assigned the column headers, call the `head` function to view the first five rows of the DataFrame.\n",
    "   \n",
    "\n",
    "References:\n",
    "\n",
    "[Pandas read_csv function](https://pandas.pydata.org/pandas-docs/stable/reference/api/pandas.read_csv.html)\n",
    "\n",
    "\n",
    "[Pandas head function](https://pandas.pydata.org/pandas-docs/stable/reference/api/pandas.DataFrame.head.html)\n",
    "\n"
   ]
  },
  {
   "cell_type": "markdown",
   "metadata": {},
   "source": [
    "## Step 1: Import the Pandas and `pathlib` libraries."
   ]
  },
  {
   "cell_type": "code",
   "execution_count": 9,
   "metadata": {},
   "outputs": [],
   "source": [
    "# Import the Pandas library\n",
    "import pandas as pd\n",
    "#import os\n",
    "\n",
    "\n",
    "# Import the Path module from the pathlib library\n",
    "from pathlib import Path\n"
   ]
  },
  {
   "cell_type": "markdown",
   "metadata": {},
   "source": [
    "## Step 2: Define the relative path to the CSV file by using the `Path` module."
   ]
  },
  {
   "cell_type": "code",
   "execution_count": 11,
   "metadata": {},
   "outputs": [
    {
     "name": "stdout",
     "output_type": "stream",
     "text": [
      "C:\\Users\\super\\Desktop\\FinTech-Workspace\\Week 3\\02_Headerless_Horsemen\\Unsolved\n"
     ]
    }
   ],
   "source": [
    "# Using the Path module, set the relative path to the \"the_four_horsemen.csv\" file\n",
    "# This \"the_four_horsemen.csv\" file is located in your Resources folder\n",
    "csvpath = Path(\"..\\\\Resources\\\\the_four_horsemen.csv\")\n",
    "#print(os.getcwd())\n"
   ]
  },
  {
   "cell_type": "markdown",
   "metadata": {},
   "source": [
    "## Step 3. Use the Pandas `read_csv` function to create the DataFrame."
   ]
  },
  {
   "cell_type": "code",
   "execution_count": 21,
   "metadata": {},
   "outputs": [],
   "source": [
    "# Use the Pandas read_csv function to create the DataFrame\n",
    "# Read in the `csvpath` variable \n",
    "# To the `read_csv` function, add the parameter header and set it equal to the value None\n",
    "horsemen_df = pd.read_csv(csvpath)\n"
   ]
  },
  {
   "cell_type": "markdown",
   "metadata": {},
   "source": [
    "## Step 4: Use the `head` function to view the first five rows of the DataFrame."
   ]
  },
  {
   "cell_type": "code",
   "execution_count": 22,
   "metadata": {},
   "outputs": [
    {
     "data": {
      "text/html": [
       "<div>\n",
       "<style scoped>\n",
       "    .dataframe tbody tr th:only-of-type {\n",
       "        vertical-align: middle;\n",
       "    }\n",
       "\n",
       "    .dataframe tbody tr th {\n",
       "        vertical-align: top;\n",
       "    }\n",
       "\n",
       "    .dataframe thead th {\n",
       "        text-align: right;\n",
       "    }\n",
       "</style>\n",
       "<table border=\"1\" class=\"dataframe\">\n",
       "  <thead>\n",
       "    <tr style=\"text-align: right;\">\n",
       "      <th></th>\n",
       "      <th>1/4/99</th>\n",
       "      <th>30.2</th>\n",
       "      <th>44.91</th>\n",
       "      <th>23.83</th>\n",
       "      <th>34.67</th>\n",
       "    </tr>\n",
       "  </thead>\n",
       "  <tbody>\n",
       "    <tr>\n",
       "      <th>0</th>\n",
       "      <td>1/5/99</td>\n",
       "      <td>30.81</td>\n",
       "      <td>44.60</td>\n",
       "      <td>24.23</td>\n",
       "      <td>36.63</td>\n",
       "    </tr>\n",
       "    <tr>\n",
       "      <th>1</th>\n",
       "      <td>1/6/99</td>\n",
       "      <td>32.38</td>\n",
       "      <td>45.43</td>\n",
       "      <td>24.94</td>\n",
       "      <td>37.81</td>\n",
       "    </tr>\n",
       "    <tr>\n",
       "      <th>2</th>\n",
       "      <td>1/7/99</td>\n",
       "      <td>32.31</td>\n",
       "      <td>48.87</td>\n",
       "      <td>25.91</td>\n",
       "      <td>37.63</td>\n",
       "    </tr>\n",
       "    <tr>\n",
       "      <th>3</th>\n",
       "      <td>1/8/99</td>\n",
       "      <td>32.42</td>\n",
       "      <td>47.12</td>\n",
       "      <td>26.67</td>\n",
       "      <td>37.47</td>\n",
       "    </tr>\n",
       "    <tr>\n",
       "      <th>4</th>\n",
       "      <td>1/11/99</td>\n",
       "      <td>34.94</td>\n",
       "      <td>45.13</td>\n",
       "      <td>26.17</td>\n",
       "      <td>36.88</td>\n",
       "    </tr>\n",
       "  </tbody>\n",
       "</table>\n",
       "</div>"
      ],
      "text/plain": [
       "    1/4/99   30.2  44.91  23.83  34.67\n",
       "0   1/5/99  30.81  44.60  24.23  36.63\n",
       "1   1/6/99  32.38  45.43  24.94  37.81\n",
       "2   1/7/99  32.31  48.87  25.91  37.63\n",
       "3   1/8/99  32.42  47.12  26.67  37.47\n",
       "4  1/11/99  34.94  45.13  26.17  36.88"
      ]
     },
     "execution_count": 22,
     "metadata": {},
     "output_type": "execute_result"
    }
   ],
   "source": [
    "# Call the head function to review the first 5 rows of the DataFrame\n",
    "horsemen_df.head()\n"
   ]
  },
  {
   "cell_type": "markdown",
   "metadata": {},
   "source": [
    "## Step 5: Create a list of column names that contains the values `Date`, `Cisco`, `Dell`, `Intel`, and `Microsoft`."
   ]
  },
  {
   "cell_type": "code",
   "execution_count": 23,
   "metadata": {},
   "outputs": [],
   "source": [
    "# Create a list that contains the names that will be used for the column header\n",
    "# The values, in order, are: 'Date', 'Cisco', 'Dell', 'Intel', 'Microsoft'\n",
    "columns = [\"Date\", \"Cisco\", \"Dell\", \"Intel\", \"Microsoft\"]"
   ]
  },
  {
   "cell_type": "markdown",
   "metadata": {},
   "source": [
    "## Step 6: Assign the list of column names as the column headers for the DataFrame."
   ]
  },
  {
   "cell_type": "code",
   "execution_count": 24,
   "metadata": {},
   "outputs": [],
   "source": [
    "# Call the 'horseman_df' and the `columns` attribute\n",
    "# Set that equal to the variable name assigned to the list of column names\n",
    "horsemen_df.columns = columns\n"
   ]
  },
  {
   "cell_type": "markdown",
   "metadata": {},
   "source": [
    "## Step 7: To confirm that Pandas correctly assigned the column headers, call the `head` function to view the first five rows of the DataFrame."
   ]
  },
  {
   "cell_type": "code",
   "execution_count": 25,
   "metadata": {},
   "outputs": [
    {
     "data": {
      "text/html": [
       "<div>\n",
       "<style scoped>\n",
       "    .dataframe tbody tr th:only-of-type {\n",
       "        vertical-align: middle;\n",
       "    }\n",
       "\n",
       "    .dataframe tbody tr th {\n",
       "        vertical-align: top;\n",
       "    }\n",
       "\n",
       "    .dataframe thead th {\n",
       "        text-align: right;\n",
       "    }\n",
       "</style>\n",
       "<table border=\"1\" class=\"dataframe\">\n",
       "  <thead>\n",
       "    <tr style=\"text-align: right;\">\n",
       "      <th></th>\n",
       "      <th>Date</th>\n",
       "      <th>Cisco</th>\n",
       "      <th>Dell</th>\n",
       "      <th>Intel</th>\n",
       "      <th>Microsoft</th>\n",
       "    </tr>\n",
       "  </thead>\n",
       "  <tbody>\n",
       "    <tr>\n",
       "      <th>0</th>\n",
       "      <td>1/5/99</td>\n",
       "      <td>30.81</td>\n",
       "      <td>44.60</td>\n",
       "      <td>24.23</td>\n",
       "      <td>36.63</td>\n",
       "    </tr>\n",
       "    <tr>\n",
       "      <th>1</th>\n",
       "      <td>1/6/99</td>\n",
       "      <td>32.38</td>\n",
       "      <td>45.43</td>\n",
       "      <td>24.94</td>\n",
       "      <td>37.81</td>\n",
       "    </tr>\n",
       "    <tr>\n",
       "      <th>2</th>\n",
       "      <td>1/7/99</td>\n",
       "      <td>32.31</td>\n",
       "      <td>48.87</td>\n",
       "      <td>25.91</td>\n",
       "      <td>37.63</td>\n",
       "    </tr>\n",
       "    <tr>\n",
       "      <th>3</th>\n",
       "      <td>1/8/99</td>\n",
       "      <td>32.42</td>\n",
       "      <td>47.12</td>\n",
       "      <td>26.67</td>\n",
       "      <td>37.47</td>\n",
       "    </tr>\n",
       "    <tr>\n",
       "      <th>4</th>\n",
       "      <td>1/11/99</td>\n",
       "      <td>34.94</td>\n",
       "      <td>45.13</td>\n",
       "      <td>26.17</td>\n",
       "      <td>36.88</td>\n",
       "    </tr>\n",
       "  </tbody>\n",
       "</table>\n",
       "</div>"
      ],
      "text/plain": [
       "      Date  Cisco   Dell  Intel  Microsoft\n",
       "0   1/5/99  30.81  44.60  24.23      36.63\n",
       "1   1/6/99  32.38  45.43  24.94      37.81\n",
       "2   1/7/99  32.31  48.87  25.91      37.63\n",
       "3   1/8/99  32.42  47.12  26.67      37.47\n",
       "4  1/11/99  34.94  45.13  26.17      36.88"
      ]
     },
     "execution_count": 25,
     "metadata": {},
     "output_type": "execute_result"
    }
   ],
   "source": [
    "# Call the head function to review the first 5 rows of the DataFrame\n",
    "# Confirm that the column headers have been assigned appropriately\n",
    "horsemen_df.head()\n"
   ]
  },
  {
   "cell_type": "code",
   "execution_count": null,
   "metadata": {},
   "outputs": [],
   "source": []
  }
 ],
 "metadata": {
  "kernelspec": {
   "display_name": "Python (dev)",
   "language": "python",
   "name": "dev"
  },
  "language_info": {
   "codemirror_mode": {
    "name": "ipython",
    "version": 3
   },
   "file_extension": ".py",
   "mimetype": "text/x-python",
   "name": "python",
   "nbconvert_exporter": "python",
   "pygments_lexer": "ipython3",
   "version": "3.7.13"
  }
 },
 "nbformat": 4,
 "nbformat_minor": 4
}
