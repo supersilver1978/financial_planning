{
 "cells": [
  {
   "cell_type": "markdown",
   "metadata": {},
   "source": [
    "# A Friends DataFrame\n",
    "\n",
    "### Instructions\n",
    "\n",
    "#### Part 1: Initial Setup\n",
    "\n",
    "1. Ask each classmate in the breakout room the following:\n",
    "    * Their name.\n",
    "    * Their location.\n",
    "    * How many years of software experience they have.\n",
    "    * One technology they have experience with.\n",
    "\n",
    "2. Import the required libraries and dependencies into your Jupyter Notebook.\n",
    "\n",
    "#### Part 2: `Series` to `DataFrame`\n",
    "\n",
    "1. Create three dictionaries for the data collected.\n",
    "\n",
    "    * The keys for each dictionary are the names.\n",
    "    * The values for the first dictionary are the locations.\n",
    "    * The values for the second dictionary are the years of experience.\n",
    "    * The values for the third dictionary are the technology used.\n",
    "\n",
    "2. Convert each dictionary into a Pandas `Series`, storing each in its own variable.\n",
    "\n",
    "3. Create a Pandas `DataFrame` using the three `Series` as data.\n",
    "\n",
    "4. Transpose the resulting `DataFrame`.\n",
    "\n",
    "#### Part 3: `Dictionary` to `DataFrame`\n",
    "\n",
    "1. Create a single `dictionary` where the keys are your classmates' names and the other values are stored in a list.\n",
    "\n",
    "  For example:\n",
    "\n",
    "  ```python\n",
    "  my_classmates = {\n",
    "    \"Anna\": [\"London\",1,\"Java\"],\n",
    "    \"Mohammad\" : [\"Chicago\",0,\"Microsoft Office\"],\n",
    "  }\n",
    "  ```\n",
    "\n",
    "2. Create a Pandas DataFrame, using the my_classmates dictionary as the data. **Hint:** Use the `index` parameter and label the column names with [\"City\", \"Software Experience\", \"Technologies Used\"].\n",
    "\n",
    "3. Transpose the DataFrame.\n",
    "\n",
    "#### Part 4: Manipulate the `DataFrame`\n",
    "\n",
    "1. View the data in the `DataFrame`'s City column.\n",
    "\n",
    "2. Using the `mean` method, calculate the average years of software experience of the group.\n",
    "\n",
    "3. For one of your classmates, increase their years of software experience by 1 year.\n",
    "\n",
    "Be prepared to share some of your solutions with the class when you return from the breakout room.\n"
   ]
  },
  {
   "cell_type": "markdown",
   "metadata": {},
   "source": [
    "# Part 1: Initial Setup\n",
    "\n",
    "## Ask each classmate in the breakout room the following:\n",
    "\n",
    "* Their name.\n",
    "* Their location. \n",
    "* How many years of software experience they have.\n",
    "* One technology they have experience with. \n",
    "\n",
    "## Import the required libraries and dependencies."
   ]
  },
  {
   "cell_type": "code",
   "execution_count": 1,
   "metadata": {},
   "outputs": [],
   "source": [
    "# Import the Pandas library\n",
    "import pandas as pd\n"
   ]
  },
  {
   "cell_type": "markdown",
   "metadata": {},
   "source": [
    "# Part 2: `Series` to `DataFrame`"
   ]
  },
  {
   "cell_type": "markdown",
   "metadata": {},
   "source": [
    "## Create three dictionaries for the data collected from your classmates.\n",
    "\n",
    "* The keys for each dictionary are the names.\n",
    "* The values for the first dictionary are the locations.\n",
    "* The values for the second dictionary are the years of experience.\n",
    "* The values for the third dictionary are the technology used."
   ]
  },
  {
   "cell_type": "code",
   "execution_count": 2,
   "metadata": {},
   "outputs": [],
   "source": [
    "# Create three dictionaries with classmates' names as keys, location, years and tech as values.\n",
    "classmate_city = {\n",
    "    \"Anna\": \"London\",\n",
    "    \"Mohammad\": \"Hong Kong\",\n",
    "    \"Viral\": \"Seattle\",\n",
    "    \"Lizette\": \"Chicago\"\n",
    "}\n",
    "\n",
    "classmate_years = {\n",
    "    \"Anna\": 7,\n",
    "    \"Mohammad\": 0,\n",
    "    \"Viral\": 5,\n",
    "    \"Lizette\": 2\n",
    "}\n",
    "\n",
    "classmate_tech = {\n",
    "    \"Anna\": \"Java\",\n",
    "    \"Mohammad\": \"Microsoft Office\",\n",
    "    \"Viral\": \"C#\",\n",
    "    \"Lizette\": \"JavaScript\"\n",
    "}"
   ]
  },
  {
   "cell_type": "markdown",
   "metadata": {},
   "source": [
    "## Convert each dictionary into a Pandas Series, storing each in its own variable.\n"
   ]
  },
  {
   "cell_type": "code",
   "execution_count": 3,
   "metadata": {},
   "outputs": [
    {
     "data": {
      "text/plain": [
       "Anna           London\n",
       "Mohammad    Hong Kong\n",
       "Viral         Seattle\n",
       "Lizette       Chicago\n",
       "Name: City, dtype: object"
      ]
     },
     "execution_count": 3,
     "metadata": {},
     "output_type": "execute_result"
    }
   ],
   "source": [
    "# Create a series from each dictionary\n",
    "series_of_people = pd.Series(classmate_city, name = \"City\")\n",
    "series_of_years = pd.Series(classmate_years, name = \"Years\")\n",
    "series_of_tech = pd.Series(classmate_tech, name = \"Tech\")\n",
    "\n",
    "# Preview one of the Series\n",
    "series_of_people"
   ]
  },
  {
   "cell_type": "markdown",
   "metadata": {},
   "source": [
    "## Create a Pandas `DataFrame` using the three `Series` as data"
   ]
  },
  {
   "cell_type": "code",
   "execution_count": 4,
   "metadata": {},
   "outputs": [
    {
     "data": {
      "text/html": [
       "<div>\n",
       "<style scoped>\n",
       "    .dataframe tbody tr th:only-of-type {\n",
       "        vertical-align: middle;\n",
       "    }\n",
       "\n",
       "    .dataframe tbody tr th {\n",
       "        vertical-align: top;\n",
       "    }\n",
       "\n",
       "    .dataframe thead th {\n",
       "        text-align: right;\n",
       "    }\n",
       "</style>\n",
       "<table border=\"1\" class=\"dataframe\">\n",
       "  <thead>\n",
       "    <tr style=\"text-align: right;\">\n",
       "      <th></th>\n",
       "      <th>Anna</th>\n",
       "      <th>Mohammad</th>\n",
       "      <th>Viral</th>\n",
       "      <th>Lizette</th>\n",
       "    </tr>\n",
       "  </thead>\n",
       "  <tbody>\n",
       "    <tr>\n",
       "      <th>City</th>\n",
       "      <td>London</td>\n",
       "      <td>Hong Kong</td>\n",
       "      <td>Seattle</td>\n",
       "      <td>Chicago</td>\n",
       "    </tr>\n",
       "    <tr>\n",
       "      <th>Years</th>\n",
       "      <td>7</td>\n",
       "      <td>0</td>\n",
       "      <td>5</td>\n",
       "      <td>2</td>\n",
       "    </tr>\n",
       "    <tr>\n",
       "      <th>Tech</th>\n",
       "      <td>Java</td>\n",
       "      <td>Microsoft Office</td>\n",
       "      <td>C#</td>\n",
       "      <td>JavaScript</td>\n",
       "    </tr>\n",
       "  </tbody>\n",
       "</table>\n",
       "</div>"
      ],
      "text/plain": [
       "         Anna          Mohammad    Viral     Lizette\n",
       "City   London         Hong Kong  Seattle     Chicago\n",
       "Years       7                 0        5           2\n",
       "Tech     Java  Microsoft Office       C#  JavaScript"
      ]
     },
     "execution_count": 4,
     "metadata": {},
     "output_type": "execute_result"
    }
   ],
   "source": [
    "# Create DataFrame from the three Series\n",
    "# Hint: Pass them as a list to the data parameter\n",
    "series_to_DataFrame = pd.DataFrame(data=[series_of_people, series_of_years, series_of_tech])\n",
    "\n",
    "# View the resulting DataFrame\n",
    "series_to_DataFrame"
   ]
  },
  {
   "cell_type": "markdown",
   "metadata": {},
   "source": [
    "## Transpose the resulting `DataFrame`."
   ]
  },
  {
   "cell_type": "code",
   "execution_count": 5,
   "metadata": {},
   "outputs": [
    {
     "data": {
      "text/html": [
       "<div>\n",
       "<style scoped>\n",
       "    .dataframe tbody tr th:only-of-type {\n",
       "        vertical-align: middle;\n",
       "    }\n",
       "\n",
       "    .dataframe tbody tr th {\n",
       "        vertical-align: top;\n",
       "    }\n",
       "\n",
       "    .dataframe thead th {\n",
       "        text-align: right;\n",
       "    }\n",
       "</style>\n",
       "<table border=\"1\" class=\"dataframe\">\n",
       "  <thead>\n",
       "    <tr style=\"text-align: right;\">\n",
       "      <th></th>\n",
       "      <th>City</th>\n",
       "      <th>Years</th>\n",
       "      <th>Tech</th>\n",
       "    </tr>\n",
       "  </thead>\n",
       "  <tbody>\n",
       "    <tr>\n",
       "      <th>Anna</th>\n",
       "      <td>London</td>\n",
       "      <td>7</td>\n",
       "      <td>Java</td>\n",
       "    </tr>\n",
       "    <tr>\n",
       "      <th>Mohammad</th>\n",
       "      <td>Hong Kong</td>\n",
       "      <td>0</td>\n",
       "      <td>Microsoft Office</td>\n",
       "    </tr>\n",
       "    <tr>\n",
       "      <th>Viral</th>\n",
       "      <td>Seattle</td>\n",
       "      <td>5</td>\n",
       "      <td>C#</td>\n",
       "    </tr>\n",
       "    <tr>\n",
       "      <th>Lizette</th>\n",
       "      <td>Chicago</td>\n",
       "      <td>2</td>\n",
       "      <td>JavaScript</td>\n",
       "    </tr>\n",
       "  </tbody>\n",
       "</table>\n",
       "</div>"
      ],
      "text/plain": [
       "               City Years              Tech\n",
       "Anna         London     7              Java\n",
       "Mohammad  Hong Kong     0  Microsoft Office\n",
       "Viral       Seattle     5                C#\n",
       "Lizette     Chicago     2        JavaScript"
      ]
     },
     "execution_count": 5,
     "metadata": {},
     "output_type": "execute_result"
    }
   ],
   "source": [
    "# Transpose DataFrame \n",
    "series_to_DataFrame = series_to_DataFrame.T\n",
    "\n",
    "# View the transposed DataFrame\n",
    "series_to_DataFrame"
   ]
  },
  {
   "cell_type": "markdown",
   "metadata": {},
   "source": [
    "# Part 3: `Dictionary` to `DataFrame`"
   ]
  },
  {
   "cell_type": "markdown",
   "metadata": {},
   "source": [
    "## Create a single `dictionary` containing the data previously collected from your classmates.\n",
    "\n",
    "* The keys for the dictionary are your classmates' names.\n",
    "* The values for the dictionary are the remaining data in list format.\n",
    "* For example:\n",
    "\n",
    "\n",
    "```python\n",
    "my_classmates = {\n",
    "  \"Anna\": [\"London\",1,\"Java\"],\n",
    "  \"Mohammad\" : [\"Chicago\",0,\"Microsoft Office\"],\n",
    "}\n",
    "```"
   ]
  },
  {
   "cell_type": "code",
   "execution_count": 6,
   "metadata": {},
   "outputs": [],
   "source": [
    "# Create Dictionary\n",
    "my_classmates = {\n",
    "    \"Anna\": [\"London\", 7, \"Java\"],\n",
    "    \"Mohammad\": [\"Hong Kong\", 0, \"Microsoft Office\"],\n",
    "    \"Viral\": [\"Seattle\", 5, \"C#\"],\n",
    "    \"Lizette\": [\"Chicago\", 2, \"JavaScript\"],\n",
    "}"
   ]
  },
  {
   "cell_type": "markdown",
   "metadata": {},
   "source": [
    "## Create a Pandas `DataFrame` using the my_classmates dictionary as the data."
   ]
  },
  {
   "cell_type": "code",
   "execution_count": 7,
   "metadata": {},
   "outputs": [
    {
     "data": {
      "text/html": [
       "<div>\n",
       "<style scoped>\n",
       "    .dataframe tbody tr th:only-of-type {\n",
       "        vertical-align: middle;\n",
       "    }\n",
       "\n",
       "    .dataframe tbody tr th {\n",
       "        vertical-align: top;\n",
       "    }\n",
       "\n",
       "    .dataframe thead th {\n",
       "        text-align: right;\n",
       "    }\n",
       "</style>\n",
       "<table border=\"1\" class=\"dataframe\">\n",
       "  <thead>\n",
       "    <tr style=\"text-align: right;\">\n",
       "      <th></th>\n",
       "      <th>Anna</th>\n",
       "      <th>Mohammad</th>\n",
       "      <th>Viral</th>\n",
       "      <th>Lizette</th>\n",
       "    </tr>\n",
       "  </thead>\n",
       "  <tbody>\n",
       "    <tr>\n",
       "      <th>City</th>\n",
       "      <td>London</td>\n",
       "      <td>Hong Kong</td>\n",
       "      <td>Seattle</td>\n",
       "      <td>Chicago</td>\n",
       "    </tr>\n",
       "    <tr>\n",
       "      <th>Software Experience</th>\n",
       "      <td>7</td>\n",
       "      <td>0</td>\n",
       "      <td>5</td>\n",
       "      <td>2</td>\n",
       "    </tr>\n",
       "    <tr>\n",
       "      <th>Technologies Used</th>\n",
       "      <td>Java</td>\n",
       "      <td>Microsoft Office</td>\n",
       "      <td>C#</td>\n",
       "      <td>JavaScript</td>\n",
       "    </tr>\n",
       "  </tbody>\n",
       "</table>\n",
       "</div>"
      ],
      "text/plain": [
       "                       Anna          Mohammad    Viral     Lizette\n",
       "City                 London         Hong Kong  Seattle     Chicago\n",
       "Software Experience       7                 0        5           2\n",
       "Technologies Used      Java  Microsoft Office       C#  JavaScript"
      ]
     },
     "execution_count": 7,
     "metadata": {},
     "output_type": "execute_result"
    }
   ],
   "source": [
    "# Create DataFrame from the my_classmates dictionary\n",
    "# Hint - Use the `index` parameter and label the \n",
    "# column names with [\"City\", \"Software Experience\", \"Technologies Used\"]\n",
    "my_classmates_df = pd.DataFrame(\n",
    "    data=my_classmates, index=[\"City\", \"Software Experience\", \"Technologies Used\"]\n",
    ")\n",
    "\n",
    "# View the resulting DataFrame\n",
    "my_classmates_df"
   ]
  },
  {
   "cell_type": "markdown",
   "metadata": {},
   "source": [
    "## Transpose the `DataFrame`."
   ]
  },
  {
   "cell_type": "code",
   "execution_count": 8,
   "metadata": {},
   "outputs": [
    {
     "data": {
      "text/html": [
       "<div>\n",
       "<style scoped>\n",
       "    .dataframe tbody tr th:only-of-type {\n",
       "        vertical-align: middle;\n",
       "    }\n",
       "\n",
       "    .dataframe tbody tr th {\n",
       "        vertical-align: top;\n",
       "    }\n",
       "\n",
       "    .dataframe thead th {\n",
       "        text-align: right;\n",
       "    }\n",
       "</style>\n",
       "<table border=\"1\" class=\"dataframe\">\n",
       "  <thead>\n",
       "    <tr style=\"text-align: right;\">\n",
       "      <th></th>\n",
       "      <th>City</th>\n",
       "      <th>Software Experience</th>\n",
       "      <th>Technologies Used</th>\n",
       "    </tr>\n",
       "  </thead>\n",
       "  <tbody>\n",
       "    <tr>\n",
       "      <th>Anna</th>\n",
       "      <td>London</td>\n",
       "      <td>7</td>\n",
       "      <td>Java</td>\n",
       "    </tr>\n",
       "    <tr>\n",
       "      <th>Mohammad</th>\n",
       "      <td>Hong Kong</td>\n",
       "      <td>0</td>\n",
       "      <td>Microsoft Office</td>\n",
       "    </tr>\n",
       "    <tr>\n",
       "      <th>Viral</th>\n",
       "      <td>Seattle</td>\n",
       "      <td>5</td>\n",
       "      <td>C#</td>\n",
       "    </tr>\n",
       "    <tr>\n",
       "      <th>Lizette</th>\n",
       "      <td>Chicago</td>\n",
       "      <td>2</td>\n",
       "      <td>JavaScript</td>\n",
       "    </tr>\n",
       "  </tbody>\n",
       "</table>\n",
       "</div>"
      ],
      "text/plain": [
       "               City Software Experience Technologies Used\n",
       "Anna         London                   7              Java\n",
       "Mohammad  Hong Kong                   0  Microsoft Office\n",
       "Viral       Seattle                   5                C#\n",
       "Lizette     Chicago                   2        JavaScript"
      ]
     },
     "execution_count": 8,
     "metadata": {},
     "output_type": "execute_result"
    }
   ],
   "source": [
    "# Transpose DataFrame \n",
    "my_classmates_df = my_classmates_df.T\n",
    "\n",
    "# View the transposed DataFrame\n",
    "my_classmates_df"
   ]
  },
  {
   "cell_type": "markdown",
   "metadata": {},
   "source": [
    "# Part 4: Manipulate the `DataFrame`"
   ]
  },
  {
   "cell_type": "markdown",
   "metadata": {},
   "source": [
    "## View the data in the `DataFrame`'s 'City' column. "
   ]
  },
  {
   "cell_type": "code",
   "execution_count": 9,
   "metadata": {},
   "outputs": [
    {
     "data": {
      "text/plain": [
       "Anna           London\n",
       "Mohammad    Hong Kong\n",
       "Viral         Seattle\n",
       "Lizette       Chicago\n",
       "Name: City, dtype: object"
      ]
     },
     "execution_count": 9,
     "metadata": {},
     "output_type": "execute_result"
    }
   ],
   "source": [
    "# View the entries in the DataFrame's \"City\" column\n",
    "my_classmates_df[\"City\"]"
   ]
  },
  {
   "cell_type": "markdown",
   "metadata": {},
   "source": [
    "## Using the `mean()` method, calculate the average years of software experience of the group."
   ]
  },
  {
   "cell_type": "code",
   "execution_count": 10,
   "metadata": {},
   "outputs": [
    {
     "data": {
      "text/plain": [
       "3.5"
      ]
     },
     "execution_count": 10,
     "metadata": {},
     "output_type": "execute_result"
    }
   ],
   "source": [
    "# Calculate mean value of the group's software experience\n",
    "my_classmates_df[\"Software Experience\"].mean()\n"
   ]
  },
  {
   "cell_type": "markdown",
   "metadata": {},
   "source": [
    "## For one of your classmates, increase their years of software experience by 1 year. "
   ]
  },
  {
   "cell_type": "code",
   "execution_count": 11,
   "metadata": {},
   "outputs": [
    {
     "data": {
      "text/html": [
       "<div>\n",
       "<style scoped>\n",
       "    .dataframe tbody tr th:only-of-type {\n",
       "        vertical-align: middle;\n",
       "    }\n",
       "\n",
       "    .dataframe tbody tr th {\n",
       "        vertical-align: top;\n",
       "    }\n",
       "\n",
       "    .dataframe thead th {\n",
       "        text-align: right;\n",
       "    }\n",
       "</style>\n",
       "<table border=\"1\" class=\"dataframe\">\n",
       "  <thead>\n",
       "    <tr style=\"text-align: right;\">\n",
       "      <th></th>\n",
       "      <th>City</th>\n",
       "      <th>Software Experience</th>\n",
       "      <th>Technologies Used</th>\n",
       "    </tr>\n",
       "  </thead>\n",
       "  <tbody>\n",
       "    <tr>\n",
       "      <th>Anna</th>\n",
       "      <td>London</td>\n",
       "      <td>7</td>\n",
       "      <td>Java</td>\n",
       "    </tr>\n",
       "    <tr>\n",
       "      <th>Mohammad</th>\n",
       "      <td>Hong Kong</td>\n",
       "      <td>1</td>\n",
       "      <td>Microsoft Office</td>\n",
       "    </tr>\n",
       "    <tr>\n",
       "      <th>Viral</th>\n",
       "      <td>Seattle</td>\n",
       "      <td>5</td>\n",
       "      <td>C#</td>\n",
       "    </tr>\n",
       "    <tr>\n",
       "      <th>Lizette</th>\n",
       "      <td>Chicago</td>\n",
       "      <td>2</td>\n",
       "      <td>JavaScript</td>\n",
       "    </tr>\n",
       "  </tbody>\n",
       "</table>\n",
       "</div>"
      ],
      "text/plain": [
       "               City Software Experience Technologies Used\n",
       "Anna         London                   7              Java\n",
       "Mohammad  Hong Kong                   1  Microsoft Office\n",
       "Viral       Seattle                   5                C#\n",
       "Lizette     Chicago                   2        JavaScript"
      ]
     },
     "execution_count": 11,
     "metadata": {},
     "output_type": "execute_result"
    }
   ],
   "source": [
    "# For one of your classmates, increase their years of software experience by 1 year. \n",
    "my_classmates_df[\"Software Experience\"][1] = 1\n",
    "\n",
    "# Confirm that the change has been made by viewing the DataFrame\n",
    "my_classmates_df"
   ]
  },
  {
   "cell_type": "code",
   "execution_count": null,
   "metadata": {},
   "outputs": [],
   "source": []
  }
 ],
 "metadata": {
  "kernelspec": {
   "display_name": "Python 3 (ipykernel)",
   "language": "python",
   "name": "python3"
  },
  "language_info": {
   "codemirror_mode": {
    "name": "ipython",
    "version": 3
   },
   "file_extension": ".py",
   "mimetype": "text/x-python",
   "name": "python",
   "nbconvert_exporter": "python",
   "pygments_lexer": "ipython3",
   "version": "3.9.12"
  }
 },
 "nbformat": 4,
 "nbformat_minor": 4
}
