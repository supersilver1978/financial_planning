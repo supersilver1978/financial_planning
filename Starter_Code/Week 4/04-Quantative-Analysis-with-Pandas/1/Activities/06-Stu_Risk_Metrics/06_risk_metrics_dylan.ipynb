{
 "cells": [
  {
   "cell_type": "markdown",
   "metadata": {},
   "source": [
    "# Compare the Risks of a Portfolio of Stocks\n",
    "In this activity you will compare a basket of stocks and determine if they are risky investments compared to the SP500."
   ]
  },
  {
   "cell_type": "markdown",
   "metadata": {},
   "source": [
    "## 1. Import Modules"
   ]
  },
  {
   "cell_type": "code",
   "execution_count": 2,
   "metadata": {},
   "outputs": [],
   "source": [
    "# Import Modules\n",
    "import pandas as pd\n",
    "from pathlib import Path\n",
    "import matplotlib.pyplot as plt\n",
    "import numpy as np\n"
   ]
  },
  {
   "cell_type": "markdown",
   "metadata": {},
   "source": [
    "## 2. Set paths to `CSV` Files\n",
    "  - Each csv file contains a stock's closing price and the date of the closing price.\n",
    "\n",
    "  - Create a `Path` object for each `CSV` filepath."
   ]
  },
  {
   "cell_type": "code",
   "execution_count": 1,
   "metadata": {},
   "outputs": [
    {
     "ename": "NameError",
     "evalue": "name 'Path' is not defined",
     "output_type": "error",
     "traceback": [
      "\u001b[1;31m---------------------------------------------------------------------------\u001b[0m",
      "\u001b[1;31mNameError\u001b[0m                                 Traceback (most recent call last)",
      "\u001b[1;32m~\\AppData\\Local\\Temp\\ipykernel_25984\\3297852219.py\u001b[0m in \u001b[0;36m<module>\u001b[1;34m\u001b[0m\n\u001b[0;32m      1\u001b[0m \u001b[1;31m# Set paths to csv files\u001b[0m\u001b[1;33m\u001b[0m\u001b[1;33m\u001b[0m\u001b[1;33m\u001b[0m\u001b[0m\n\u001b[1;32m----> 2\u001b[1;33m \u001b[0mhd_path\u001b[0m \u001b[1;33m=\u001b[0m \u001b[0mPath\u001b[0m\u001b[1;33m(\u001b[0m\u001b[1;34m\"../Resources/HD.csv\"\u001b[0m\u001b[1;33m)\u001b[0m\u001b[1;33m\u001b[0m\u001b[1;33m\u001b[0m\u001b[0m\n\u001b[0m\u001b[0;32m      3\u001b[0m \u001b[0mintc_path\u001b[0m \u001b[1;33m=\u001b[0m \u001b[0mPath\u001b[0m\u001b[1;33m(\u001b[0m\u001b[1;34m\"../Resources/INTC.csv\"\u001b[0m\u001b[1;33m)\u001b[0m\u001b[1;33m\u001b[0m\u001b[1;33m\u001b[0m\u001b[0m\n\u001b[0;32m      4\u001b[0m \u001b[0mmu_path\u001b[0m \u001b[1;33m=\u001b[0m \u001b[0mPath\u001b[0m\u001b[1;33m(\u001b[0m\u001b[1;34m\"../Resources/MU.csv\"\u001b[0m\u001b[1;33m)\u001b[0m\u001b[1;33m\u001b[0m\u001b[1;33m\u001b[0m\u001b[0m\n\u001b[0;32m      5\u001b[0m \u001b[0mnvda_path\u001b[0m \u001b[1;33m=\u001b[0m \u001b[0mPath\u001b[0m\u001b[1;33m(\u001b[0m\u001b[1;34m\"../Resources/NVDA.csv\"\u001b[0m\u001b[1;33m)\u001b[0m\u001b[1;33m\u001b[0m\u001b[1;33m\u001b[0m\u001b[0m\n",
      "\u001b[1;31mNameError\u001b[0m: name 'Path' is not defined"
     ]
    }
   ],
   "source": [
    "# Set paths to csv files\n",
    "hd_path = Path(\"../Resources/HD.csv\")\n",
    "intc_path = Path(\"../Resources/INTC.csv\")\n",
    "mu_path = Path(\"../Resources/MU.csv\")\n",
    "nvda_path = Path(\"../Resources/NVDA.csv\")\n",
    "sp500_path = Path(\"../Resources/sp500.csv\")\n",
    "tsla_path = Path(\"../Resources/TSLA.csv\")\n"
   ]
  },
  {
   "cell_type": "markdown",
   "metadata": {},
   "source": [
    "## 3. For each `CSV` file read the data into a `pandas` `DataFrame`.\n",
    "\n",
    "  - Set the index column to be the date.\n",
    "\n",
    "  - Infer the date time format.\n",
    "\n",
    "  - Parse all dates when the `CSV` is loaded."
   ]
  },
  {
   "cell_type": "code",
   "execution_count": 2,
   "metadata": {},
   "outputs": [
    {
     "ename": "NameError",
     "evalue": "name 'pd' is not defined",
     "output_type": "error",
     "traceback": [
      "\u001b[1;31m---------------------------------------------------------------------------\u001b[0m",
      "\u001b[1;31mNameError\u001b[0m                                 Traceback (most recent call last)",
      "\u001b[1;32m~\\AppData\\Local\\Temp\\ipykernel_25984\\3796403932.py\u001b[0m in \u001b[0;36m<module>\u001b[1;34m\u001b[0m\n\u001b[0;32m      1\u001b[0m \u001b[1;31m# Read in csv files\u001b[0m\u001b[1;33m\u001b[0m\u001b[1;33m\u001b[0m\u001b[1;33m\u001b[0m\u001b[0m\n\u001b[1;32m----> 2\u001b[1;33m \u001b[0mhd_df\u001b[0m \u001b[1;33m=\u001b[0m \u001b[0mpd\u001b[0m\u001b[1;33m.\u001b[0m\u001b[0mread_csv\u001b[0m\u001b[1;33m(\u001b[0m\u001b[1;33m(\u001b[0m\u001b[0mhd_path\u001b[0m\u001b[1;33m)\u001b[0m\u001b[1;33m,\u001b[0m \u001b[0mindex_col\u001b[0m \u001b[1;33m=\u001b[0m \u001b[1;34m\"date\"\u001b[0m\u001b[1;33m,\u001b[0m \u001b[0mparse_dates\u001b[0m \u001b[1;33m=\u001b[0m \u001b[1;32mTrue\u001b[0m\u001b[1;33m,\u001b[0m \u001b[0minfer_datetime_format\u001b[0m \u001b[1;33m=\u001b[0m \u001b[1;32mTrue\u001b[0m\u001b[1;33m)\u001b[0m\u001b[1;33m\u001b[0m\u001b[1;33m\u001b[0m\u001b[0m\n\u001b[0m\u001b[0;32m      3\u001b[0m \u001b[0mintc_df\u001b[0m \u001b[1;33m=\u001b[0m \u001b[0mpd\u001b[0m\u001b[1;33m.\u001b[0m\u001b[0mread_csv\u001b[0m\u001b[1;33m(\u001b[0m\u001b[1;33m(\u001b[0m\u001b[0mintc_path\u001b[0m\u001b[1;33m)\u001b[0m\u001b[1;33m,\u001b[0m \u001b[0mindex_col\u001b[0m \u001b[1;33m=\u001b[0m \u001b[1;34m\"date\"\u001b[0m\u001b[1;33m,\u001b[0m \u001b[0mparse_dates\u001b[0m \u001b[1;33m=\u001b[0m \u001b[1;32mTrue\u001b[0m\u001b[1;33m,\u001b[0m \u001b[0minfer_datetime_format\u001b[0m \u001b[1;33m=\u001b[0m \u001b[1;32mTrue\u001b[0m\u001b[1;33m)\u001b[0m\u001b[1;33m\u001b[0m\u001b[1;33m\u001b[0m\u001b[0m\n\u001b[0;32m      4\u001b[0m \u001b[0mmu_df\u001b[0m \u001b[1;33m=\u001b[0m \u001b[0mpd\u001b[0m\u001b[1;33m.\u001b[0m\u001b[0mread_csv\u001b[0m\u001b[1;33m(\u001b[0m\u001b[1;33m(\u001b[0m\u001b[0mmu_path\u001b[0m\u001b[1;33m)\u001b[0m\u001b[1;33m,\u001b[0m \u001b[0mindex_col\u001b[0m \u001b[1;33m=\u001b[0m \u001b[1;34m\"date\"\u001b[0m\u001b[1;33m,\u001b[0m \u001b[0mparse_dates\u001b[0m \u001b[1;33m=\u001b[0m \u001b[1;32mTrue\u001b[0m\u001b[1;33m,\u001b[0m \u001b[0minfer_datetime_format\u001b[0m \u001b[1;33m=\u001b[0m \u001b[1;32mTrue\u001b[0m\u001b[1;33m)\u001b[0m\u001b[1;33m\u001b[0m\u001b[1;33m\u001b[0m\u001b[0m\n\u001b[0;32m      5\u001b[0m \u001b[0mnvda_df\u001b[0m \u001b[1;33m=\u001b[0m \u001b[0mpd\u001b[0m\u001b[1;33m.\u001b[0m\u001b[0mread_csv\u001b[0m\u001b[1;33m(\u001b[0m\u001b[1;33m(\u001b[0m\u001b[0mnvda_path\u001b[0m\u001b[1;33m)\u001b[0m\u001b[1;33m,\u001b[0m \u001b[0mindex_col\u001b[0m \u001b[1;33m=\u001b[0m \u001b[1;34m\"date\"\u001b[0m\u001b[1;33m,\u001b[0m \u001b[0mparse_dates\u001b[0m \u001b[1;33m=\u001b[0m \u001b[1;32mTrue\u001b[0m\u001b[1;33m,\u001b[0m \u001b[0minfer_datetime_format\u001b[0m \u001b[1;33m=\u001b[0m \u001b[1;32mTrue\u001b[0m\u001b[1;33m)\u001b[0m\u001b[1;33m\u001b[0m\u001b[1;33m\u001b[0m\u001b[0m\n",
      "\u001b[1;31mNameError\u001b[0m: name 'pd' is not defined"
     ]
    }
   ],
   "source": [
    "# Read in csv files\n",
    "hd_df = pd.read_csv((hd_path), index_col = \"date\", parse_dates = True, infer_datetime_format = True)\n",
    "intc_df = pd.read_csv((intc_path), index_col = \"date\", parse_dates = True, infer_datetime_format = True)\n",
    "mu_df = pd.read_csv((mu_path), index_col = \"date\", parse_dates = True, infer_datetime_format = True)\n",
    "nvda_df = pd.read_csv((nvda_path), index_col = \"date\", parse_dates = True, infer_datetime_format = True)\n",
    "sp500_df = pd.read_csv((sp500_path), index_col = \"date\", parse_dates = True, infer_datetime_format = True)\n",
    "tsla_df = pd.read_csv((tsla_path), index_col = \"date\", parse_dates = True, infer_datetime_format = True)"
   ]
  },
  {
   "cell_type": "markdown",
   "metadata": {},
   "source": [
    "## 4. Concatenate the Dataframes into one `DataFrame`\n",
    "  - Use an inner join.\n",
    "\n",
    "  - Set the axis to be the columns."
   ]
  },
  {
   "cell_type": "code",
   "execution_count": 5,
   "metadata": {},
   "outputs": [
    {
     "data": {
      "text/html": [
       "<div>\n",
       "<style scoped>\n",
       "    .dataframe tbody tr th:only-of-type {\n",
       "        vertical-align: middle;\n",
       "    }\n",
       "\n",
       "    .dataframe tbody tr th {\n",
       "        vertical-align: top;\n",
       "    }\n",
       "\n",
       "    .dataframe thead th {\n",
       "        text-align: right;\n",
       "    }\n",
       "</style>\n",
       "<table border=\"1\" class=\"dataframe\">\n",
       "  <thead>\n",
       "    <tr style=\"text-align: right;\">\n",
       "      <th></th>\n",
       "      <th>hd_close</th>\n",
       "      <th>intc_close</th>\n",
       "      <th>mu_close</th>\n",
       "      <th>nvda_close</th>\n",
       "      <th>sp500_close</th>\n",
       "      <th>tsla_close</th>\n",
       "    </tr>\n",
       "    <tr>\n",
       "      <th>date</th>\n",
       "      <th></th>\n",
       "      <th></th>\n",
       "      <th></th>\n",
       "      <th></th>\n",
       "      <th></th>\n",
       "      <th></th>\n",
       "    </tr>\n",
       "  </thead>\n",
       "  <tbody>\n",
       "    <tr>\n",
       "      <th>2014-05-20</th>\n",
       "      <td>77.96</td>\n",
       "      <td>26.04</td>\n",
       "      <td>26.55</td>\n",
       "      <td>18.24</td>\n",
       "      <td>1872.83</td>\n",
       "      <td>195.30</td>\n",
       "    </tr>\n",
       "    <tr>\n",
       "      <th>2014-05-21</th>\n",
       "      <td>78.08</td>\n",
       "      <td>26.20</td>\n",
       "      <td>26.99</td>\n",
       "      <td>18.24</td>\n",
       "      <td>1888.03</td>\n",
       "      <td>199.45</td>\n",
       "    </tr>\n",
       "    <tr>\n",
       "      <th>2014-05-22</th>\n",
       "      <td>78.78</td>\n",
       "      <td>26.15</td>\n",
       "      <td>27.17</td>\n",
       "      <td>18.32</td>\n",
       "      <td>1892.49</td>\n",
       "      <td>204.88</td>\n",
       "    </tr>\n",
       "    <tr>\n",
       "      <th>2014-05-23</th>\n",
       "      <td>79.18</td>\n",
       "      <td>26.29</td>\n",
       "      <td>27.33</td>\n",
       "      <td>18.49</td>\n",
       "      <td>1900.53</td>\n",
       "      <td>207.30</td>\n",
       "    </tr>\n",
       "    <tr>\n",
       "      <th>2014-05-27</th>\n",
       "      <td>79.69</td>\n",
       "      <td>26.71</td>\n",
       "      <td>28.06</td>\n",
       "      <td>18.82</td>\n",
       "      <td>1911.91</td>\n",
       "      <td>211.56</td>\n",
       "    </tr>\n",
       "    <tr>\n",
       "      <th>...</th>\n",
       "      <td>...</td>\n",
       "      <td>...</td>\n",
       "      <td>...</td>\n",
       "      <td>...</td>\n",
       "      <td>...</td>\n",
       "      <td>...</td>\n",
       "    </tr>\n",
       "    <tr>\n",
       "      <th>2019-05-08</th>\n",
       "      <td>195.17</td>\n",
       "      <td>49.24</td>\n",
       "      <td>39.75</td>\n",
       "      <td>173.92</td>\n",
       "      <td>2879.42</td>\n",
       "      <td>244.84</td>\n",
       "    </tr>\n",
       "    <tr>\n",
       "      <th>2019-05-09</th>\n",
       "      <td>194.58</td>\n",
       "      <td>46.62</td>\n",
       "      <td>39.27</td>\n",
       "      <td>170.19</td>\n",
       "      <td>2870.72</td>\n",
       "      <td>241.98</td>\n",
       "    </tr>\n",
       "    <tr>\n",
       "      <th>2019-05-10</th>\n",
       "      <td>194.58</td>\n",
       "      <td>46.20</td>\n",
       "      <td>38.94</td>\n",
       "      <td>168.82</td>\n",
       "      <td>2881.40</td>\n",
       "      <td>239.52</td>\n",
       "    </tr>\n",
       "    <tr>\n",
       "      <th>2019-05-13</th>\n",
       "      <td>190.34</td>\n",
       "      <td>44.76</td>\n",
       "      <td>37.38</td>\n",
       "      <td>158.45</td>\n",
       "      <td>2811.87</td>\n",
       "      <td>227.01</td>\n",
       "    </tr>\n",
       "    <tr>\n",
       "      <th>2019-05-14</th>\n",
       "      <td>191.62</td>\n",
       "      <td>45.17</td>\n",
       "      <td>38.51</td>\n",
       "      <td>162.04</td>\n",
       "      <td>2834.41</td>\n",
       "      <td>232.31</td>\n",
       "    </tr>\n",
       "  </tbody>\n",
       "</table>\n",
       "<p>1255 rows × 6 columns</p>\n",
       "</div>"
      ],
      "text/plain": [
       "            hd_close  intc_close  mu_close  nvda_close  sp500_close  \\\n",
       "date                                                                  \n",
       "2014-05-20     77.96       26.04     26.55       18.24      1872.83   \n",
       "2014-05-21     78.08       26.20     26.99       18.24      1888.03   \n",
       "2014-05-22     78.78       26.15     27.17       18.32      1892.49   \n",
       "2014-05-23     79.18       26.29     27.33       18.49      1900.53   \n",
       "2014-05-27     79.69       26.71     28.06       18.82      1911.91   \n",
       "...              ...         ...       ...         ...          ...   \n",
       "2019-05-08    195.17       49.24     39.75      173.92      2879.42   \n",
       "2019-05-09    194.58       46.62     39.27      170.19      2870.72   \n",
       "2019-05-10    194.58       46.20     38.94      168.82      2881.40   \n",
       "2019-05-13    190.34       44.76     37.38      158.45      2811.87   \n",
       "2019-05-14    191.62       45.17     38.51      162.04      2834.41   \n",
       "\n",
       "            tsla_close  \n",
       "date                    \n",
       "2014-05-20      195.30  \n",
       "2014-05-21      199.45  \n",
       "2014-05-22      204.88  \n",
       "2014-05-23      207.30  \n",
       "2014-05-27      211.56  \n",
       "...                ...  \n",
       "2019-05-08      244.84  \n",
       "2019-05-09      241.98  \n",
       "2019-05-10      239.52  \n",
       "2019-05-13      227.01  \n",
       "2019-05-14      232.31  \n",
       "\n",
       "[1255 rows x 6 columns]"
      ]
     },
     "execution_count": 5,
     "metadata": {},
     "output_type": "execute_result"
    }
   ],
   "source": [
    "# Concatenate the dataframes into one dataframe\n",
    "stocks_df = pd.concat([hd_df, intc_df, mu_df, nvda_df, sp500_df, tsla_df], axis=\"columns\", join=\"inner\")\n",
    "stocks_df"
   ]
  },
  {
   "cell_type": "markdown",
   "metadata": {},
   "source": [
    "## 5. Calculate the Daily Percent Changes\n",
    "  - Drop all n/a values"
   ]
  },
  {
   "cell_type": "code",
   "execution_count": 6,
   "metadata": {},
   "outputs": [
    {
     "data": {
      "text/html": [
       "<div>\n",
       "<style scoped>\n",
       "    .dataframe tbody tr th:only-of-type {\n",
       "        vertical-align: middle;\n",
       "    }\n",
       "\n",
       "    .dataframe tbody tr th {\n",
       "        vertical-align: top;\n",
       "    }\n",
       "\n",
       "    .dataframe thead th {\n",
       "        text-align: right;\n",
       "    }\n",
       "</style>\n",
       "<table border=\"1\" class=\"dataframe\">\n",
       "  <thead>\n",
       "    <tr style=\"text-align: right;\">\n",
       "      <th></th>\n",
       "      <th>hd_close</th>\n",
       "      <th>intc_close</th>\n",
       "      <th>mu_close</th>\n",
       "      <th>nvda_close</th>\n",
       "      <th>sp500_close</th>\n",
       "      <th>tsla_close</th>\n",
       "    </tr>\n",
       "    <tr>\n",
       "      <th>date</th>\n",
       "      <th></th>\n",
       "      <th></th>\n",
       "      <th></th>\n",
       "      <th></th>\n",
       "      <th></th>\n",
       "      <th></th>\n",
       "    </tr>\n",
       "  </thead>\n",
       "  <tbody>\n",
       "    <tr>\n",
       "      <th>2014-05-21</th>\n",
       "      <td>0.001539</td>\n",
       "      <td>0.006144</td>\n",
       "      <td>0.016573</td>\n",
       "      <td>0.000000</td>\n",
       "      <td>0.008116</td>\n",
       "      <td>0.021249</td>\n",
       "    </tr>\n",
       "    <tr>\n",
       "      <th>2014-05-22</th>\n",
       "      <td>0.008965</td>\n",
       "      <td>-0.001908</td>\n",
       "      <td>0.006669</td>\n",
       "      <td>0.004386</td>\n",
       "      <td>0.002362</td>\n",
       "      <td>0.027225</td>\n",
       "    </tr>\n",
       "    <tr>\n",
       "      <th>2014-05-23</th>\n",
       "      <td>0.005077</td>\n",
       "      <td>0.005354</td>\n",
       "      <td>0.005889</td>\n",
       "      <td>0.009279</td>\n",
       "      <td>0.004248</td>\n",
       "      <td>0.011812</td>\n",
       "    </tr>\n",
       "    <tr>\n",
       "      <th>2014-05-27</th>\n",
       "      <td>0.006441</td>\n",
       "      <td>0.015976</td>\n",
       "      <td>0.026711</td>\n",
       "      <td>0.017847</td>\n",
       "      <td>0.005988</td>\n",
       "      <td>0.020550</td>\n",
       "    </tr>\n",
       "    <tr>\n",
       "      <th>2014-05-28</th>\n",
       "      <td>-0.000125</td>\n",
       "      <td>0.006365</td>\n",
       "      <td>0.019601</td>\n",
       "      <td>0.008502</td>\n",
       "      <td>-0.001114</td>\n",
       "      <td>-0.006239</td>\n",
       "    </tr>\n",
       "  </tbody>\n",
       "</table>\n",
       "</div>"
      ],
      "text/plain": [
       "            hd_close  intc_close  mu_close  nvda_close  sp500_close  \\\n",
       "date                                                                  \n",
       "2014-05-21  0.001539    0.006144  0.016573    0.000000     0.008116   \n",
       "2014-05-22  0.008965   -0.001908  0.006669    0.004386     0.002362   \n",
       "2014-05-23  0.005077    0.005354  0.005889    0.009279     0.004248   \n",
       "2014-05-27  0.006441    0.015976  0.026711    0.017847     0.005988   \n",
       "2014-05-28 -0.000125    0.006365  0.019601    0.008502    -0.001114   \n",
       "\n",
       "            tsla_close  \n",
       "date                    \n",
       "2014-05-21    0.021249  \n",
       "2014-05-22    0.027225  \n",
       "2014-05-23    0.011812  \n",
       "2014-05-27    0.020550  \n",
       "2014-05-28   -0.006239  "
      ]
     },
     "execution_count": 6,
     "metadata": {},
     "output_type": "execute_result"
    }
   ],
   "source": [
    "# Calculate the daily percent changes and drop n/a values\n",
    "stocks_daily_returns = stocks_df.pct_change().dropna()\n",
    "stocks_daily_returns.head()"
   ]
  },
  {
   "cell_type": "markdown",
   "metadata": {},
   "source": [
    "## 6. Calculate Sharpe Ratios\n",
    "  - There are 252 trading days in a year\n",
    "\n",
    "  - Calculate the average annual return\n",
    "\n",
    "  - Calculate the annualized standard deviation\n"
   ]
  },
  {
   "cell_type": "code",
   "execution_count": 7,
   "metadata": {},
   "outputs": [],
   "source": [
    "# There are 252 trading days in a year\n",
    "trading_days = 252"
   ]
  },
  {
   "cell_type": "markdown",
   "metadata": {},
   "source": [
    "### Calculate the annual average return"
   ]
  },
  {
   "cell_type": "code",
   "execution_count": 8,
   "metadata": {},
   "outputs": [
    {
     "data": {
      "text/plain": [
       "hd_close       0.198321\n",
       "intc_close     0.144027\n",
       "mu_close       0.177969\n",
       "nvda_close     0.524966\n",
       "sp500_close    0.092164\n",
       "tsla_close     0.130022\n",
       "dtype: float64"
      ]
     },
     "execution_count": 8,
     "metadata": {},
     "output_type": "execute_result"
    }
   ],
   "source": [
    "# Calculate the annual average return\n",
    "stocks_annual_average_return = stocks_daily_returns.mean()*(trading_days)\n",
    "stocks_annual_average_return"
   ]
  },
  {
   "cell_type": "markdown",
   "metadata": {},
   "source": [
    "### Calculate the annualized standard deviation"
   ]
  },
  {
   "cell_type": "code",
   "execution_count": 9,
   "metadata": {},
   "outputs": [
    {
     "data": {
      "text/plain": [
       "sp500_close    0.133162\n",
       "hd_close       0.187293\n",
       "intc_close     0.258208\n",
       "nvda_close     0.416985\n",
       "tsla_close     0.436912\n",
       "mu_close       0.453929\n",
       "dtype: float64"
      ]
     },
     "execution_count": 9,
     "metadata": {},
     "output_type": "execute_result"
    }
   ],
   "source": [
    "# Calculate the annualized standard deviation\n",
    "stocks_annualized_std_dv = stocks_daily_returns.std()*np.sqrt(trading_days)\n",
    "stocks_annualized_std_dv.sort_values()"
   ]
  },
  {
   "cell_type": "markdown",
   "metadata": {},
   "source": [
    "### Calculate the Sharpe Ratios\n",
    "  - The sharp ratio is ratio between the average annual return and the annualized standard deviation.\n",
    "  - $\\frac{R_{p}}{\\sigma_{p}}$"
   ]
  },
  {
   "cell_type": "code",
   "execution_count": 10,
   "metadata": {},
   "outputs": [],
   "source": [
    "# Calculate the sharpe ratios\n",
    "sharpe_ratios = stocks_annual_average_return/stocks_annualized_std_dv\n",
    "sharpe_ratios_sorted = sharpe_ratios.sort_values()"
   ]
  },
  {
   "cell_type": "markdown",
   "metadata": {},
   "source": [
    "## 7. Plot the Sharpe Ratios with a bar plot"
   ]
  },
  {
   "cell_type": "code",
   "execution_count": 16,
   "metadata": {},
   "outputs": [
    {
     "data": {
      "image/png": "[encoded data removed]",
      "text/plain": [
       "<Figure size 640x480 with 1 Axes>"
      ]
     },
     "metadata": {},
     "output_type": "display_data"
    }
   ],
   "source": [
    "# Plot the sharpe ratios\n",
    "ax = sharpe_ratios_sorted.plot.bar(title=\"Sharpe Ratio for 6 different stocks\")\n",
    "ax.set_label(\"Stock Tickers\")\n",
    "plt.show()"
   ]
  },
  {
   "cell_type": "code",
   "execution_count": null,
   "metadata": {},
   "outputs": [],
   "source": []
  }
 ],
 "metadata": {
  "kernelspec": {
   "display_name": "Python 3 (ipykernel)",
   "language": "python",
   "name": "python3"
  },
  "language_info": {
   "codemirror_mode": {
    "name": "ipython",
    "version": 3
   },
   "file_extension": ".py",
   "mimetype": "text/x-python",
   "name": "python",
   "nbconvert_exporter": "python",
   "pygments_lexer": "ipython3",
   "version": "3.7.13"
  }
 },
 "nbformat": 4,
 "nbformat_minor": 4
}
