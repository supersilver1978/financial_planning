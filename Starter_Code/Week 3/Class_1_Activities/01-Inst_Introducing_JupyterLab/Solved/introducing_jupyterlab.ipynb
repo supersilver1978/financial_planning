{
 "cells": [
  {
   "cell_type": "markdown",
   "metadata": {},
   "source": [
    "# Introducing JupyterLab\n",
    "\n",
    "This instructor-led activity is designed to build student confidence with regard to working in the JupyterLab interface. "
   ]
  },
  {
   "cell_type": "code",
   "execution_count": 1,
   "metadata": {},
   "outputs": [],
   "source": [
    "# A comment begins with a hashtag\n",
    "# Run this cell by hitting the \"single-play\" arrow icon\n",
    "\n",
    "num_1 = 30\n",
    "num_2 = 9"
   ]
  },
  {
   "cell_type": "code",
   "execution_count": 2,
   "metadata": {},
   "outputs": [
    {
     "data": {
      "text/plain": [
       "39"
      ]
     },
     "execution_count": 2,
     "metadata": {},
     "output_type": "execute_result"
    }
   ],
   "source": [
    "# Create the variable\n",
    "sum = num_1 + num_2\n",
    "\n",
    "# Print the variable\n",
    "sum"
   ]
  },
  {
   "cell_type": "code",
   "execution_count": 3,
   "metadata": {},
   "outputs": [
    {
     "name": "stdout",
     "output_type": "stream",
     "text": [
      "39\n"
     ]
    }
   ],
   "source": [
    "# Content can also be printed using the print function\n",
    "print(num_1 + num_2)"
   ]
  },
  {
   "cell_type": "code",
   "execution_count": 4,
   "metadata": {},
   "outputs": [],
   "source": [
    "# A cell can be added with the \"+\" icon\n",
    "# Once a cell is added it can be a designated as a \"Code\" cell or a \"Markdown\" cell\n"
   ]
  },
  {
   "cell_type": "markdown",
   "metadata": {},
   "source": [
    "## Markdown Cells\n",
    "\n",
    "A Markdown cell is created by selecting the Markdown option from the dropdown menu associated with the Launcher menu. \n",
    "A Markdown cell allows you to use Markdown syntax to communicate insights via text.\n",
    "All markdown syntax works in a Markdown cell. "
   ]
  },
  {
   "cell_type": "code",
   "execution_count": 5,
   "metadata": {},
   "outputs": [],
   "source": [
    "# This cell can be removed with the scissors icon"
   ]
  },
  {
   "cell_type": "code",
   "execution_count": 6,
   "metadata": {},
   "outputs": [],
   "source": [
    "# Additional cell functionality is found under \"Edit\" on the Main Menu bar\n",
    "# This functionality includes moving cells up and down, splitting cells or merging cells"
   ]
  },
  {
   "cell_type": "code",
   "execution_count": 7,
   "metadata": {},
   "outputs": [],
   "source": [
    "banks_list = [\"Chase\", \"Fifth Third\", \"Wachovia\", \"Bank of America\"]"
   ]
  },
  {
   "cell_type": "code",
   "execution_count": 8,
   "metadata": {},
   "outputs": [
    {
     "name": "stdout",
     "output_type": "stream",
     "text": [
      "My bank list is = ['Chase', 'Fifth Third', 'Wachovia', 'Bank of America']\n"
     ]
    }
   ],
   "source": [
    "print(f\"My bank list is = {banks_list}\")"
   ]
  },
  {
   "cell_type": "code",
   "execution_count": 9,
   "metadata": {},
   "outputs": [],
   "source": [
    "# Cells must be run in order in order to variables to be put into memory correctly"
   ]
  },
  {
   "cell_type": "code",
   "execution_count": 10,
   "metadata": {},
   "outputs": [
    {
     "name": "stdout",
     "output_type": "stream",
     "text": [
      "The name of the bank in index position 0 is Chase.\n",
      "The name of the bank in index position 1 is Fifth Third.\n",
      "The name of the bank in index position 2 is Wachovia.\n",
      "The name of the bank in index position 3 is Bank of America.\n"
     ]
    }
   ],
   "source": [
    "# You can write functions and use f-strings\n",
    "i = 0\n",
    "\n",
    "for bank in banks_list:\n",
    "    print(f\"The name of the bank in index position {i} is {bank}.\")\n",
    "    i += 1"
   ]
  },
  {
   "cell_type": "code",
   "execution_count": 11,
   "metadata": {},
   "outputs": [],
   "source": [
    "# The entire notebook can be cleared and rerun from top to bottom\n",
    "# by selecting the \"double-play\" arrow icon. "
   ]
  },
  {
   "cell_type": "code",
   "execution_count": null,
   "metadata": {},
   "outputs": [],
   "source": []
  }
 ],
 "metadata": {
  "kernelspec": {
   "display_name": "Python [conda env:dev] *",
   "language": "python",
   "name": "conda-env-dev-py"
  },
  "language_info": {
   "codemirror_mode": {
    "name": "ipython",
    "version": 3
   },
   "file_extension": ".py",
   "mimetype": "text/x-python",
   "name": "python",
   "nbconvert_exporter": "python",
   "pygments_lexer": "ipython3",
   "version": "3.9.12"
  },
  "vscode": {
   "interpreter": {
    "hash": "31f2aee4e71d21fbe5cf8b01ff0e069b9275f58929596ceb00d14d90e3e16cd6"
   }
  }
 },
 "nbformat": 4,
 "nbformat_minor": 4
}
